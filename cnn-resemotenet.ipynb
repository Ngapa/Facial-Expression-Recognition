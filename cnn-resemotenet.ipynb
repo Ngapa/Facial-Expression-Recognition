{
 "cells": [
  {
   "cell_type": "markdown",
   "id": "caf722b0",
   "metadata": {
    "papermill": {
     "duration": 0.00429,
     "end_time": "2024-12-15T07:41:59.181785",
     "exception": false,
     "start_time": "2024-12-15T07:41:59.177495",
     "status": "completed"
    },
    "tags": []
   },
   "source": [
    "# ResEmoteNetCNN"
   ]
  },
  {
   "cell_type": "code",
   "execution_count": 1,
   "id": "813483d9",
   "metadata": {
    "execution": {
     "iopub.execute_input": "2024-12-15T07:41:59.189959Z",
     "iopub.status.busy": "2024-12-15T07:41:59.189548Z",
     "iopub.status.idle": "2024-12-15T07:42:05.963084Z",
     "shell.execute_reply": "2024-12-15T07:42:05.962431Z"
    },
    "papermill": {
     "duration": 6.779543,
     "end_time": "2024-12-15T07:42:05.965112",
     "exception": false,
     "start_time": "2024-12-15T07:41:59.185569",
     "status": "completed"
    },
    "tags": []
   },
   "outputs": [],
   "source": [
    "import torch\n",
    "import torch.nn as nn\n",
    "import torch.nn.functional as F\n",
    "import torch.optim as optim\n",
    "from torch.utils.data import DataLoader\n",
    "from torchvision import datasets, transforms\n",
    "from sklearn.metrics import confusion_matrix, classification_report\n",
    "import matplotlib.pyplot as plt\n",
    "import seaborn as sns\n",
    "import pandas as pd\n",
    "import numpy as np\n",
    "from tqdm import tqdm\n",
    "\n",
    "\n",
    "class SEBlock(nn.Module):\n",
    "    def __init__(self, in_channels, reduction=16):\n",
    "        super(SEBlock, self).__init__()\n",
    "        self.avg_pool = nn.AdaptiveAvgPool2d(1)\n",
    "        self.fc = nn.Sequential(\n",
    "            nn.Linear(in_channels, in_channels // reduction, bias=False),\n",
    "            nn.ReLU(inplace=True),\n",
    "            nn.Linear(in_channels // reduction, in_channels, bias=False),\n",
    "            nn.Sigmoid()\n",
    "        )\n",
    "        \n",
    "    def forward(self, x):\n",
    "        b, c, _, _ = x.size()\n",
    "        y = self.avg_pool(x).view(b, c)\n",
    "        y = self.fc(y).view(b, c, 1, 1)\n",
    "        return x * y.expand_as(x)\n",
    "    \n",
    "    \n",
    "class ResidualBlock(nn.Module):\n",
    "    def __init__(self, in_ch, out_ch, stride=1):\n",
    "        super(ResidualBlock, self).__init__()\n",
    "        self.conv1 = nn.Conv2d(in_ch, out_ch, kernel_size=3, stride=stride, padding=1)\n",
    "        self.bn1 = nn.BatchNorm2d(out_ch)\n",
    "        self.conv2 = nn.Conv2d(out_ch, out_ch, kernel_size=3, stride=1, padding=1)\n",
    "        self.bn2 = nn.BatchNorm2d(out_ch)\n",
    "        \n",
    "        self.shortcut = nn.Sequential()\n",
    "        if stride != 1 or in_ch != out_ch:\n",
    "            self.shortcut = nn.Sequential(\n",
    "                nn.Conv2d(in_ch, out_ch, kernel_size=1, stride=stride, padding=0),\n",
    "                nn.BatchNorm2d(out_ch)\n",
    "            )\n",
    "            \n",
    "    def forward(self, x):\n",
    "        out = F.relu(self.bn1(self.conv1(x)))\n",
    "        out = self.bn2(self.conv2(out))\n",
    "        out += self.shortcut(x)\n",
    "        out = F.relu(out)\n",
    "        return out\n",
    "    \n",
    "    \n",
    "class ResEmoteNet(nn.Module):\n",
    "    def __init__(self):\n",
    "        super(ResEmoteNet, self).__init__()\n",
    "        self.conv1 = nn.Conv2d(1, 32, kernel_size=3, padding=1)\n",
    "        self.bn1 = nn.BatchNorm2d(32)\n",
    "        self.conv2 = nn.Conv2d(32, 64, kernel_size=3, padding=1)\n",
    "        self.bn2 = nn.BatchNorm2d(64)\n",
    "        self.conv3 = nn.Conv2d(64, 128, kernel_size=3, padding=1)\n",
    "        self.bn3 = nn.BatchNorm2d(128)\n",
    "        self.relu = nn.ReLU(inplace=True)\n",
    "        self.se = SEBlock(128)\n",
    "        \n",
    "        self.res_block1 = ResidualBlock(128, 256, stride=2)\n",
    "        self.res_block2 = ResidualBlock(256, 512, stride=2)\n",
    "        self.res_block3 = ResidualBlock(512, 1024, stride=2)\n",
    "        \n",
    "        self.pool = nn.AdaptiveAvgPool2d((1, 1))\n",
    "        self.fc1 = nn.Linear(1024, 512)\n",
    "        self.fc2 = nn.Linear(512, 256)\n",
    "        self.fc3 = nn.Linear(256, 128)\n",
    "        self.dropout1 = nn.Dropout(0.2)\n",
    "        self.dropout2 = nn.Dropout(0.5)\n",
    "        self.fc4 = nn.Linear(128, 7)\n",
    "        \n",
    "    def forward(self, x):\n",
    "        x = F.relu(self.bn1(self.conv1(x)))\n",
    "        x = F.max_pool2d(x, 2)\n",
    "        x = self.dropout1(x)\n",
    "        x = F.relu(self.bn2(self.conv2(x)))\n",
    "        x = F.max_pool2d(x, 2)\n",
    "        x = self.dropout1(x)\n",
    "        x = F.relu(self.bn3(self.conv3(x)))\n",
    "        x = F.max_pool2d(x, 2)\n",
    "        x = self.se(x)\n",
    "        \n",
    "        x = self.res_block1(x)\n",
    "        x = self.res_block2(x)\n",
    "        x = self.res_block3(x)\n",
    "        \n",
    "        x = self.pool(x)\n",
    "        x = x.view(x.size(0), -1)\n",
    "        x = F.relu(self.fc1(x))\n",
    "        x = self.dropout2(x)\n",
    "        x = F.relu(self.fc2(x))\n",
    "        x = self.dropout2(x)\n",
    "        x = F.relu(self.fc3(x))\n",
    "        x = self.dropout2(x)\n",
    "        x = self.fc4(x)\n",
    "        return x"
   ]
  },
  {
   "cell_type": "markdown",
   "id": "e93e8a03",
   "metadata": {
    "papermill": {
     "duration": 0.001762,
     "end_time": "2024-12-15T07:42:05.969157",
     "exception": false,
     "start_time": "2024-12-15T07:42:05.967395",
     "status": "completed"
    },
    "tags": []
   },
   "source": [
    "# Training with ResEmoteNetCNN Model"
   ]
  },
  {
   "cell_type": "code",
   "execution_count": 2,
   "id": "6c805048",
   "metadata": {
    "execution": {
     "iopub.execute_input": "2024-12-15T07:42:05.974482Z",
     "iopub.status.busy": "2024-12-15T07:42:05.973805Z",
     "iopub.status.idle": "2024-12-15T09:28:57.024510Z",
     "shell.execute_reply": "2024-12-15T09:28:57.023560Z"
    },
    "papermill": {
     "duration": 6411.055225,
     "end_time": "2024-12-15T09:28:57.026245",
     "exception": false,
     "start_time": "2024-12-15T07:42:05.971020",
     "status": "completed"
    },
    "tags": []
   },
   "outputs": [
    {
     "name": "stdout",
     "output_type": "stream",
     "text": [
      "Using cuda device\n",
      "Training set size: 28709\n",
      "Validation set size: 7178\n"
     ]
    },
    {
     "name": "stderr",
     "output_type": "stream",
     "text": [
      "Epoch 1/80 [Train]: 100%|██████████| 1795/1795 [02:20<00:00, 12.82it/s, loss=0.1112, acc=26.83%]\n",
      "Validation: 100%|██████████| 449/449 [00:25<00:00, 17.78it/s]\n"
     ]
    },
    {
     "name": "stdout",
     "output_type": "stream",
     "text": [
      "\n",
      "Epoch 1:\n",
      "Train Loss: 1.7792, Train Acc: 0.2683\n",
      "Val Loss: 1.6199, Val Acc: 0.3600\n"
     ]
    },
    {
     "name": "stderr",
     "output_type": "stream",
     "text": [
      "Epoch 2/80 [Train]: 100%|██████████| 1795/1795 [01:08<00:00, 26.30it/s, loss=0.1028, acc=34.57%]\n",
      "Validation: 100%|██████████| 449/449 [00:09<00:00, 46.50it/s]\n"
     ]
    },
    {
     "name": "stdout",
     "output_type": "stream",
     "text": [
      "\n",
      "Epoch 2:\n",
      "Train Loss: 1.6449, Train Acc: 0.3457\n",
      "Val Loss: 1.5344, Val Acc: 0.3860\n"
     ]
    },
    {
     "name": "stderr",
     "output_type": "stream",
     "text": [
      "Epoch 3/80 [Train]: 100%|██████████| 1795/1795 [01:08<00:00, 26.32it/s, loss=0.0986, acc=38.70%]\n",
      "Validation: 100%|██████████| 449/449 [00:09<00:00, 46.60it/s]\n"
     ]
    },
    {
     "name": "stdout",
     "output_type": "stream",
     "text": [
      "\n",
      "Epoch 3:\n",
      "Train Loss: 1.5765, Train Acc: 0.3870\n",
      "Val Loss: 1.4464, Val Acc: 0.4291\n"
     ]
    },
    {
     "name": "stderr",
     "output_type": "stream",
     "text": [
      "Epoch 4/80 [Train]: 100%|██████████| 1795/1795 [01:07<00:00, 26.64it/s, loss=0.0947, acc=41.23%]\n",
      "Validation: 100%|██████████| 449/449 [00:08<00:00, 52.27it/s]\n"
     ]
    },
    {
     "name": "stdout",
     "output_type": "stream",
     "text": [
      "\n",
      "Epoch 4:\n",
      "Train Loss: 1.5140, Train Acc: 0.4123\n",
      "Val Loss: 1.4255, Val Acc: 0.4553\n"
     ]
    },
    {
     "name": "stderr",
     "output_type": "stream",
     "text": [
      "Epoch 5/80 [Train]: 100%|██████████| 1795/1795 [01:08<00:00, 26.16it/s, loss=0.0920, acc=43.46%]\n",
      "Validation: 100%|██████████| 449/449 [00:09<00:00, 49.64it/s]\n"
     ]
    },
    {
     "name": "stdout",
     "output_type": "stream",
     "text": [
      "\n",
      "Epoch 5:\n",
      "Train Loss: 1.4713, Train Acc: 0.4346\n",
      "Val Loss: 1.3286, Val Acc: 0.4915\n"
     ]
    },
    {
     "name": "stderr",
     "output_type": "stream",
     "text": [
      "Epoch 6/80 [Train]: 100%|██████████| 1795/1795 [01:09<00:00, 25.82it/s, loss=0.0898, acc=45.07%]\n",
      "Validation: 100%|██████████| 449/449 [00:09<00:00, 46.34it/s]\n"
     ]
    },
    {
     "name": "stdout",
     "output_type": "stream",
     "text": [
      "\n",
      "Epoch 6:\n",
      "Train Loss: 1.4361, Train Acc: 0.4507\n",
      "Val Loss: 1.2933, Val Acc: 0.4947\n"
     ]
    },
    {
     "name": "stderr",
     "output_type": "stream",
     "text": [
      "Epoch 7/80 [Train]: 100%|██████████| 1795/1795 [01:08<00:00, 26.21it/s, loss=0.0882, acc=46.16%]\n",
      "Validation: 100%|██████████| 449/449 [00:09<00:00, 49.63it/s]\n"
     ]
    },
    {
     "name": "stdout",
     "output_type": "stream",
     "text": [
      "\n",
      "Epoch 7:\n",
      "Train Loss: 1.4109, Train Acc: 0.4616\n",
      "Val Loss: 1.2793, Val Acc: 0.5123\n"
     ]
    },
    {
     "name": "stderr",
     "output_type": "stream",
     "text": [
      "Epoch 8/80 [Train]: 100%|██████████| 1795/1795 [01:09<00:00, 26.01it/s, loss=0.0859, acc=47.58%]\n",
      "Validation: 100%|██████████| 449/449 [00:09<00:00, 49.22it/s]\n"
     ]
    },
    {
     "name": "stdout",
     "output_type": "stream",
     "text": [
      "\n",
      "Epoch 8:\n",
      "Train Loss: 1.3743, Train Acc: 0.4758\n",
      "Val Loss: 1.2442, Val Acc: 0.5189\n"
     ]
    },
    {
     "name": "stderr",
     "output_type": "stream",
     "text": [
      "Epoch 9/80 [Train]: 100%|██████████| 1795/1795 [01:08<00:00, 26.03it/s, loss=0.0848, acc=48.41%]\n",
      "Validation: 100%|██████████| 449/449 [00:09<00:00, 49.52it/s]\n"
     ]
    },
    {
     "name": "stdout",
     "output_type": "stream",
     "text": [
      "\n",
      "Epoch 9:\n",
      "Train Loss: 1.3568, Train Acc: 0.4841\n",
      "Val Loss: 1.2308, Val Acc: 0.5159\n",
      "No improvement for 1 epochs.\n"
     ]
    },
    {
     "name": "stderr",
     "output_type": "stream",
     "text": [
      "Epoch 10/80 [Train]: 100%|██████████| 1795/1795 [01:07<00:00, 26.77it/s, loss=0.0832, acc=49.69%]\n",
      "Validation: 100%|██████████| 449/449 [00:08<00:00, 50.40it/s]\n"
     ]
    },
    {
     "name": "stdout",
     "output_type": "stream",
     "text": [
      "\n",
      "Epoch 10:\n",
      "Train Loss: 1.3309, Train Acc: 0.4969\n",
      "Val Loss: 1.2305, Val Acc: 0.5293\n"
     ]
    },
    {
     "name": "stderr",
     "output_type": "stream",
     "text": [
      "Epoch 11/80 [Train]: 100%|██████████| 1795/1795 [01:07<00:00, 26.47it/s, loss=0.0821, acc=50.11%]\n",
      "Validation: 100%|██████████| 449/449 [00:09<00:00, 48.42it/s]\n"
     ]
    },
    {
     "name": "stdout",
     "output_type": "stream",
     "text": [
      "\n",
      "Epoch 11:\n",
      "Train Loss: 1.3136, Train Acc: 0.5011\n",
      "Val Loss: 1.2118, Val Acc: 0.5323\n"
     ]
    },
    {
     "name": "stderr",
     "output_type": "stream",
     "text": [
      "Epoch 12/80 [Train]: 100%|██████████| 1795/1795 [01:08<00:00, 26.17it/s, loss=0.0817, acc=50.74%]\n",
      "Validation: 100%|██████████| 449/449 [00:09<00:00, 47.58it/s]\n"
     ]
    },
    {
     "name": "stdout",
     "output_type": "stream",
     "text": [
      "\n",
      "Epoch 12:\n",
      "Train Loss: 1.3061, Train Acc: 0.5074\n",
      "Val Loss: 1.1948, Val Acc: 0.5336\n"
     ]
    },
    {
     "name": "stderr",
     "output_type": "stream",
     "text": [
      "Epoch 13/80 [Train]: 100%|██████████| 1795/1795 [01:10<00:00, 25.33it/s, loss=0.0805, acc=51.45%]\n",
      "Validation: 100%|██████████| 449/449 [00:09<00:00, 47.69it/s]\n"
     ]
    },
    {
     "name": "stdout",
     "output_type": "stream",
     "text": [
      "\n",
      "Epoch 13:\n",
      "Train Loss: 1.2881, Train Acc: 0.5145\n",
      "Val Loss: 1.1781, Val Acc: 0.5507\n"
     ]
    },
    {
     "name": "stderr",
     "output_type": "stream",
     "text": [
      "Epoch 14/80 [Train]: 100%|██████████| 1795/1795 [01:08<00:00, 26.39it/s, loss=0.0802, acc=52.37%]\n",
      "Validation: 100%|██████████| 449/449 [00:09<00:00, 49.67it/s]\n"
     ]
    },
    {
     "name": "stdout",
     "output_type": "stream",
     "text": [
      "\n",
      "Epoch 14:\n",
      "Train Loss: 1.2820, Train Acc: 0.5237\n",
      "Val Loss: 1.1629, Val Acc: 0.5577\n"
     ]
    },
    {
     "name": "stderr",
     "output_type": "stream",
     "text": [
      "Epoch 15/80 [Train]: 100%|██████████| 1795/1795 [01:11<00:00, 25.09it/s, loss=0.0791, acc=52.89%]\n",
      "Validation: 100%|██████████| 449/449 [00:09<00:00, 46.72it/s]\n"
     ]
    },
    {
     "name": "stdout",
     "output_type": "stream",
     "text": [
      "\n",
      "Epoch 15:\n",
      "Train Loss: 1.2650, Train Acc: 0.5289\n",
      "Val Loss: 1.1656, Val Acc: 0.5563\n",
      "No improvement for 1 epochs.\n"
     ]
    },
    {
     "name": "stderr",
     "output_type": "stream",
     "text": [
      "Epoch 16/80 [Train]: 100%|██████████| 1795/1795 [01:36<00:00, 18.68it/s, loss=0.0787, acc=53.08%]\n",
      "Validation: 100%|██████████| 449/449 [00:23<00:00, 19.22it/s]\n"
     ]
    },
    {
     "name": "stdout",
     "output_type": "stream",
     "text": [
      "\n",
      "Epoch 16:\n",
      "Train Loss: 1.2592, Train Acc: 0.5308\n",
      "Val Loss: 1.1686, Val Acc: 0.5517\n",
      "No improvement for 2 epochs.\n"
     ]
    },
    {
     "name": "stderr",
     "output_type": "stream",
     "text": [
      "Epoch 17/80 [Train]: 100%|██████████| 1795/1795 [01:50<00:00, 16.23it/s, loss=0.0783, acc=53.23%]\n",
      "Validation: 100%|██████████| 449/449 [00:09<00:00, 45.46it/s]\n"
     ]
    },
    {
     "name": "stdout",
     "output_type": "stream",
     "text": [
      "\n",
      "Epoch 17:\n",
      "Train Loss: 1.2528, Train Acc: 0.5323\n",
      "Val Loss: 1.1495, Val Acc: 0.5698\n"
     ]
    },
    {
     "name": "stderr",
     "output_type": "stream",
     "text": [
      "Epoch 18/80 [Train]: 100%|██████████| 1795/1795 [01:12<00:00, 24.60it/s, loss=0.0775, acc=54.02%]\n",
      "Validation: 100%|██████████| 449/449 [00:09<00:00, 44.93it/s]\n"
     ]
    },
    {
     "name": "stdout",
     "output_type": "stream",
     "text": [
      "\n",
      "Epoch 18:\n",
      "Train Loss: 1.2395, Train Acc: 0.5402\n",
      "Val Loss: 1.1489, Val Acc: 0.5598\n",
      "No improvement for 1 epochs.\n"
     ]
    },
    {
     "name": "stderr",
     "output_type": "stream",
     "text": [
      "Epoch 19/80 [Train]: 100%|██████████| 1795/1795 [01:09<00:00, 25.79it/s, loss=0.0764, acc=54.77%]\n",
      "Validation: 100%|██████████| 449/449 [00:09<00:00, 46.99it/s]\n"
     ]
    },
    {
     "name": "stdout",
     "output_type": "stream",
     "text": [
      "\n",
      "Epoch 19:\n",
      "Train Loss: 1.2221, Train Acc: 0.5477\n",
      "Val Loss: 1.1284, Val Acc: 0.5731\n"
     ]
    },
    {
     "name": "stderr",
     "output_type": "stream",
     "text": [
      "Epoch 20/80 [Train]: 100%|██████████| 1795/1795 [01:11<00:00, 25.27it/s, loss=0.0764, acc=54.92%]\n",
      "Validation: 100%|██████████| 449/449 [00:09<00:00, 46.71it/s]\n"
     ]
    },
    {
     "name": "stdout",
     "output_type": "stream",
     "text": [
      "\n",
      "Epoch 20:\n",
      "Train Loss: 1.2220, Train Acc: 0.5492\n",
      "Val Loss: 1.1427, Val Acc: 0.5563\n",
      "No improvement for 1 epochs.\n"
     ]
    },
    {
     "name": "stderr",
     "output_type": "stream",
     "text": [
      "Epoch 21/80 [Train]: 100%|██████████| 1795/1795 [01:10<00:00, 25.37it/s, loss=0.0750, acc=55.65%]\n",
      "Validation: 100%|██████████| 449/449 [00:09<00:00, 47.28it/s]\n"
     ]
    },
    {
     "name": "stdout",
     "output_type": "stream",
     "text": [
      "\n",
      "Epoch 21:\n",
      "Train Loss: 1.2000, Train Acc: 0.5565\n",
      "Val Loss: 1.1437, Val Acc: 0.5684\n",
      "No improvement for 2 epochs.\n"
     ]
    },
    {
     "name": "stderr",
     "output_type": "stream",
     "text": [
      "Epoch 22/80 [Train]: 100%|██████████| 1795/1795 [01:09<00:00, 25.83it/s, loss=0.0754, acc=55.36%]\n",
      "Validation: 100%|██████████| 449/449 [00:09<00:00, 46.79it/s]\n"
     ]
    },
    {
     "name": "stdout",
     "output_type": "stream",
     "text": [
      "\n",
      "Epoch 22:\n",
      "Train Loss: 1.2055, Train Acc: 0.5536\n",
      "Val Loss: 1.1124, Val Acc: 0.5769\n"
     ]
    },
    {
     "name": "stderr",
     "output_type": "stream",
     "text": [
      "Epoch 23/80 [Train]: 100%|██████████| 1795/1795 [01:09<00:00, 25.84it/s, loss=0.0746, acc=56.03%]\n",
      "Validation: 100%|██████████| 449/449 [00:09<00:00, 46.70it/s]\n"
     ]
    },
    {
     "name": "stdout",
     "output_type": "stream",
     "text": [
      "\n",
      "Epoch 23:\n",
      "Train Loss: 1.1932, Train Acc: 0.5603\n",
      "Val Loss: 1.0992, Val Acc: 0.5882\n"
     ]
    },
    {
     "name": "stderr",
     "output_type": "stream",
     "text": [
      "Epoch 24/80 [Train]: 100%|██████████| 1795/1795 [01:12<00:00, 24.92it/s, loss=0.0739, acc=56.48%]\n",
      "Validation: 100%|██████████| 449/449 [00:10<00:00, 42.58it/s]\n"
     ]
    },
    {
     "name": "stdout",
     "output_type": "stream",
     "text": [
      "\n",
      "Epoch 24:\n",
      "Train Loss: 1.1812, Train Acc: 0.5648\n",
      "Val Loss: 1.1117, Val Acc: 0.5748\n",
      "No improvement for 1 epochs.\n"
     ]
    },
    {
     "name": "stderr",
     "output_type": "stream",
     "text": [
      "Epoch 25/80 [Train]: 100%|██████████| 1795/1795 [01:13<00:00, 24.26it/s, loss=0.0734, acc=56.64%]\n",
      "Validation: 100%|██████████| 449/449 [00:10<00:00, 41.06it/s]\n"
     ]
    },
    {
     "name": "stdout",
     "output_type": "stream",
     "text": [
      "\n",
      "Epoch 25:\n",
      "Train Loss: 1.1732, Train Acc: 0.5664\n",
      "Val Loss: 1.0921, Val Acc: 0.5926\n"
     ]
    },
    {
     "name": "stderr",
     "output_type": "stream",
     "text": [
      "Epoch 26/80 [Train]: 100%|██████████| 1795/1795 [01:11<00:00, 25.15it/s, loss=0.0729, acc=57.35%]\n",
      "Validation: 100%|██████████| 449/449 [00:10<00:00, 43.66it/s]\n"
     ]
    },
    {
     "name": "stdout",
     "output_type": "stream",
     "text": [
      "\n",
      "Epoch 26:\n",
      "Train Loss: 1.1653, Train Acc: 0.5735\n",
      "Val Loss: 1.0896, Val Acc: 0.5851\n",
      "No improvement for 1 epochs.\n"
     ]
    },
    {
     "name": "stderr",
     "output_type": "stream",
     "text": [
      "Epoch 27/80 [Train]: 100%|██████████| 1795/1795 [01:09<00:00, 25.90it/s, loss=0.0720, acc=57.86%]\n",
      "Validation: 100%|██████████| 449/449 [00:09<00:00, 48.09it/s]\n"
     ]
    },
    {
     "name": "stdout",
     "output_type": "stream",
     "text": [
      "\n",
      "Epoch 27:\n",
      "Train Loss: 1.1515, Train Acc: 0.5786\n",
      "Val Loss: 1.1196, Val Acc: 0.5811\n",
      "No improvement for 2 epochs.\n"
     ]
    },
    {
     "name": "stderr",
     "output_type": "stream",
     "text": [
      "Epoch 28/80 [Train]: 100%|██████████| 1795/1795 [01:09<00:00, 25.82it/s, loss=0.0720, acc=58.10%]\n",
      "Validation: 100%|██████████| 449/449 [00:09<00:00, 47.91it/s]\n"
     ]
    },
    {
     "name": "stdout",
     "output_type": "stream",
     "text": [
      "\n",
      "Epoch 28:\n",
      "Train Loss: 1.1509, Train Acc: 0.5810\n",
      "Val Loss: 1.0978, Val Acc: 0.5924\n",
      "No improvement for 3 epochs.\n"
     ]
    },
    {
     "name": "stderr",
     "output_type": "stream",
     "text": [
      "Epoch 29/80 [Train]: 100%|██████████| 1795/1795 [01:08<00:00, 26.27it/s, loss=0.0716, acc=58.07%]\n",
      "Validation: 100%|██████████| 449/449 [00:09<00:00, 45.77it/s]\n"
     ]
    },
    {
     "name": "stdout",
     "output_type": "stream",
     "text": [
      "\n",
      "Epoch 29:\n",
      "Train Loss: 1.1455, Train Acc: 0.5807\n",
      "Val Loss: 1.0749, Val Acc: 0.5965\n"
     ]
    },
    {
     "name": "stderr",
     "output_type": "stream",
     "text": [
      "Epoch 30/80 [Train]: 100%|██████████| 1795/1795 [01:07<00:00, 26.45it/s, loss=0.0713, acc=58.42%]\n",
      "Validation: 100%|██████████| 449/449 [00:08<00:00, 50.51it/s]\n"
     ]
    },
    {
     "name": "stdout",
     "output_type": "stream",
     "text": [
      "\n",
      "Epoch 30:\n",
      "Train Loss: 1.1407, Train Acc: 0.5842\n",
      "Val Loss: 1.0734, Val Acc: 0.5995\n"
     ]
    },
    {
     "name": "stderr",
     "output_type": "stream",
     "text": [
      "Epoch 31/80 [Train]: 100%|██████████| 1795/1795 [01:07<00:00, 26.43it/s, loss=0.0705, acc=58.68%]\n",
      "Validation: 100%|██████████| 449/449 [00:09<00:00, 48.03it/s]\n"
     ]
    },
    {
     "name": "stdout",
     "output_type": "stream",
     "text": [
      "\n",
      "Epoch 31:\n",
      "Train Loss: 1.1273, Train Acc: 0.5868\n",
      "Val Loss: 1.0685, Val Acc: 0.6048\n"
     ]
    },
    {
     "name": "stderr",
     "output_type": "stream",
     "text": [
      "Epoch 32/80 [Train]: 100%|██████████| 1795/1795 [01:09<00:00, 25.88it/s, loss=0.0701, acc=59.25%]\n",
      "Validation: 100%|██████████| 449/449 [00:09<00:00, 45.65it/s]\n"
     ]
    },
    {
     "name": "stdout",
     "output_type": "stream",
     "text": [
      "\n",
      "Epoch 32:\n",
      "Train Loss: 1.1214, Train Acc: 0.5925\n",
      "Val Loss: 1.0796, Val Acc: 0.5896\n",
      "No improvement for 1 epochs.\n"
     ]
    },
    {
     "name": "stderr",
     "output_type": "stream",
     "text": [
      "Epoch 33/80 [Train]: 100%|██████████| 1795/1795 [01:08<00:00, 26.04it/s, loss=0.0700, acc=58.97%]\n",
      "Validation: 100%|██████████| 449/449 [00:09<00:00, 49.60it/s]\n"
     ]
    },
    {
     "name": "stdout",
     "output_type": "stream",
     "text": [
      "\n",
      "Epoch 33:\n",
      "Train Loss: 1.1188, Train Acc: 0.5897\n",
      "Val Loss: 1.0807, Val Acc: 0.6021\n",
      "No improvement for 2 epochs.\n"
     ]
    },
    {
     "name": "stderr",
     "output_type": "stream",
     "text": [
      "Epoch 34/80 [Train]: 100%|██████████| 1795/1795 [01:07<00:00, 26.65it/s, loss=0.0695, acc=59.52%]\n",
      "Validation: 100%|██████████| 449/449 [00:08<00:00, 50.12it/s]\n"
     ]
    },
    {
     "name": "stdout",
     "output_type": "stream",
     "text": [
      "\n",
      "Epoch 34:\n",
      "Train Loss: 1.1110, Train Acc: 0.5952\n",
      "Val Loss: 1.0727, Val Acc: 0.6055\n"
     ]
    },
    {
     "name": "stderr",
     "output_type": "stream",
     "text": [
      "Epoch 35/80 [Train]: 100%|██████████| 1795/1795 [01:07<00:00, 26.46it/s, loss=0.0693, acc=59.73%]\n",
      "Validation: 100%|██████████| 449/449 [00:08<00:00, 51.36it/s]\n"
     ]
    },
    {
     "name": "stdout",
     "output_type": "stream",
     "text": [
      "\n",
      "Epoch 35:\n",
      "Train Loss: 1.1079, Train Acc: 0.5973\n",
      "Val Loss: 1.0624, Val Acc: 0.6098\n"
     ]
    },
    {
     "name": "stderr",
     "output_type": "stream",
     "text": [
      "Epoch 36/80 [Train]: 100%|██████████| 1795/1795 [01:08<00:00, 26.16it/s, loss=0.0688, acc=59.88%]\n",
      "Validation: 100%|██████████| 449/449 [00:09<00:00, 46.35it/s]\n"
     ]
    },
    {
     "name": "stdout",
     "output_type": "stream",
     "text": [
      "\n",
      "Epoch 36:\n",
      "Train Loss: 1.1011, Train Acc: 0.5988\n",
      "Val Loss: 1.0696, Val Acc: 0.5986\n",
      "No improvement for 1 epochs.\n"
     ]
    },
    {
     "name": "stderr",
     "output_type": "stream",
     "text": [
      "Epoch 37/80 [Train]: 100%|██████████| 1795/1795 [01:07<00:00, 26.51it/s, loss=0.0683, acc=59.94%]\n",
      "Validation: 100%|██████████| 449/449 [00:08<00:00, 52.83it/s]\n"
     ]
    },
    {
     "name": "stdout",
     "output_type": "stream",
     "text": [
      "\n",
      "Epoch 37:\n",
      "Train Loss: 1.0917, Train Acc: 0.5994\n",
      "Val Loss: 1.0692, Val Acc: 0.6067\n",
      "No improvement for 2 epochs.\n"
     ]
    },
    {
     "name": "stderr",
     "output_type": "stream",
     "text": [
      "Epoch 38/80 [Train]: 100%|██████████| 1795/1795 [01:07<00:00, 26.70it/s, loss=0.0676, acc=60.86%]\n",
      "Validation: 100%|██████████| 449/449 [00:08<00:00, 50.12it/s]\n"
     ]
    },
    {
     "name": "stdout",
     "output_type": "stream",
     "text": [
      "\n",
      "Epoch 38:\n",
      "Train Loss: 1.0820, Train Acc: 0.6086\n",
      "Val Loss: 1.0625, Val Acc: 0.6089\n",
      "No improvement for 3 epochs.\n"
     ]
    },
    {
     "name": "stderr",
     "output_type": "stream",
     "text": [
      "Epoch 39/80 [Train]: 100%|██████████| 1795/1795 [01:08<00:00, 26.16it/s, loss=0.0671, acc=60.60%]\n",
      "Validation: 100%|██████████| 449/449 [00:09<00:00, 45.44it/s]\n"
     ]
    },
    {
     "name": "stdout",
     "output_type": "stream",
     "text": [
      "\n",
      "Epoch 39:\n",
      "Train Loss: 1.0739, Train Acc: 0.6060\n",
      "Val Loss: 1.0639, Val Acc: 0.6089\n",
      "No improvement for 4 epochs.\n"
     ]
    },
    {
     "name": "stderr",
     "output_type": "stream",
     "text": [
      "Epoch 40/80 [Train]: 100%|██████████| 1795/1795 [01:07<00:00, 26.56it/s, loss=0.0672, acc=61.12%]\n",
      "Validation: 100%|██████████| 449/449 [00:08<00:00, 50.48it/s]\n"
     ]
    },
    {
     "name": "stdout",
     "output_type": "stream",
     "text": [
      "\n",
      "Epoch 40:\n",
      "Train Loss: 1.0752, Train Acc: 0.6112\n",
      "Val Loss: 1.0720, Val Acc: 0.6142\n"
     ]
    },
    {
     "name": "stderr",
     "output_type": "stream",
     "text": [
      "Epoch 41/80 [Train]: 100%|██████████| 1795/1795 [01:07<00:00, 26.77it/s, loss=0.0666, acc=61.49%]\n",
      "Validation: 100%|██████████| 449/449 [00:09<00:00, 48.48it/s]\n"
     ]
    },
    {
     "name": "stdout",
     "output_type": "stream",
     "text": [
      "\n",
      "Epoch 41:\n",
      "Train Loss: 1.0660, Train Acc: 0.6149\n",
      "Val Loss: 1.0545, Val Acc: 0.6088\n",
      "No improvement for 1 epochs.\n"
     ]
    },
    {
     "name": "stderr",
     "output_type": "stream",
     "text": [
      "Epoch 42/80 [Train]: 100%|██████████| 1795/1795 [01:08<00:00, 26.07it/s, loss=0.0666, acc=61.63%]\n",
      "Validation: 100%|██████████| 449/449 [00:08<00:00, 49.92it/s]\n"
     ]
    },
    {
     "name": "stdout",
     "output_type": "stream",
     "text": [
      "\n",
      "Epoch 42:\n",
      "Train Loss: 1.0651, Train Acc: 0.6163\n",
      "Val Loss: 1.0543, Val Acc: 0.6109\n",
      "No improvement for 2 epochs.\n"
     ]
    },
    {
     "name": "stderr",
     "output_type": "stream",
     "text": [
      "Epoch 43/80 [Train]: 100%|██████████| 1795/1795 [01:10<00:00, 25.59it/s, loss=0.0657, acc=62.37%]\n",
      "Validation: 100%|██████████| 449/449 [00:10<00:00, 41.36it/s]\n"
     ]
    },
    {
     "name": "stdout",
     "output_type": "stream",
     "text": [
      "\n",
      "Epoch 43:\n",
      "Train Loss: 1.0514, Train Acc: 0.6237\n",
      "Val Loss: 1.0319, Val Acc: 0.6173\n"
     ]
    },
    {
     "name": "stderr",
     "output_type": "stream",
     "text": [
      "Epoch 44/80 [Train]: 100%|██████████| 1795/1795 [01:09<00:00, 26.01it/s, loss=0.0653, acc=62.27%]\n",
      "Validation: 100%|██████████| 449/449 [00:08<00:00, 51.13it/s]\n"
     ]
    },
    {
     "name": "stdout",
     "output_type": "stream",
     "text": [
      "\n",
      "Epoch 44:\n",
      "Train Loss: 1.0443, Train Acc: 0.6227\n",
      "Val Loss: 1.0541, Val Acc: 0.6218\n"
     ]
    },
    {
     "name": "stderr",
     "output_type": "stream",
     "text": [
      "Epoch 45/80 [Train]: 100%|██████████| 1795/1795 [01:06<00:00, 26.99it/s, loss=0.0649, acc=62.52%]\n",
      "Validation: 100%|██████████| 449/449 [00:08<00:00, 51.91it/s]\n"
     ]
    },
    {
     "name": "stdout",
     "output_type": "stream",
     "text": [
      "\n",
      "Epoch 45:\n",
      "Train Loss: 1.0375, Train Acc: 0.6252\n",
      "Val Loss: 1.0957, Val Acc: 0.6062\n",
      "No improvement for 1 epochs.\n"
     ]
    },
    {
     "name": "stderr",
     "output_type": "stream",
     "text": [
      "Epoch 46/80 [Train]: 100%|██████████| 1795/1795 [01:06<00:00, 26.82it/s, loss=0.0647, acc=63.09%]\n",
      "Validation: 100%|██████████| 449/449 [00:09<00:00, 48.95it/s]\n"
     ]
    },
    {
     "name": "stdout",
     "output_type": "stream",
     "text": [
      "\n",
      "Epoch 46:\n",
      "Train Loss: 1.0340, Train Acc: 0.6309\n",
      "Val Loss: 1.0394, Val Acc: 0.6234\n"
     ]
    },
    {
     "name": "stderr",
     "output_type": "stream",
     "text": [
      "Epoch 47/80 [Train]: 100%|██████████| 1795/1795 [01:09<00:00, 25.73it/s, loss=0.0638, acc=63.34%]\n",
      "Validation: 100%|██████████| 449/449 [00:08<00:00, 51.41it/s]\n"
     ]
    },
    {
     "name": "stdout",
     "output_type": "stream",
     "text": [
      "\n",
      "Epoch 47:\n",
      "Train Loss: 1.0212, Train Acc: 0.6334\n",
      "Val Loss: 1.2370, Val Acc: 0.6066\n",
      "No improvement for 1 epochs.\n"
     ]
    },
    {
     "name": "stderr",
     "output_type": "stream",
     "text": [
      "Epoch 48/80 [Train]: 100%|██████████| 1795/1795 [01:07<00:00, 26.75it/s, loss=0.0639, acc=63.04%]\n",
      "Validation: 100%|██████████| 449/449 [00:08<00:00, 51.12it/s]\n"
     ]
    },
    {
     "name": "stdout",
     "output_type": "stream",
     "text": [
      "\n",
      "Epoch 48:\n",
      "Train Loss: 1.0215, Train Acc: 0.6304\n",
      "Val Loss: 1.0378, Val Acc: 0.6141\n",
      "No improvement for 2 epochs.\n"
     ]
    },
    {
     "name": "stderr",
     "output_type": "stream",
     "text": [
      "Epoch 49/80 [Train]: 100%|██████████| 1795/1795 [01:06<00:00, 27.03it/s, loss=0.0635, acc=63.82%]\n",
      "Validation: 100%|██████████| 449/449 [00:08<00:00, 51.57it/s]\n"
     ]
    },
    {
     "name": "stdout",
     "output_type": "stream",
     "text": [
      "\n",
      "Epoch 49:\n",
      "Train Loss: 1.0156, Train Acc: 0.6382\n",
      "Val Loss: 1.0728, Val Acc: 0.6096\n",
      "No improvement for 3 epochs.\n"
     ]
    },
    {
     "name": "stderr",
     "output_type": "stream",
     "text": [
      "Epoch 50/80 [Train]: 100%|██████████| 1795/1795 [01:07<00:00, 26.67it/s, loss=0.0633, acc=63.52%]\n",
      "Validation: 100%|██████████| 449/449 [00:10<00:00, 44.44it/s]\n"
     ]
    },
    {
     "name": "stdout",
     "output_type": "stream",
     "text": [
      "\n",
      "Epoch 50:\n",
      "Train Loss: 1.0128, Train Acc: 0.6352\n",
      "Val Loss: 1.0372, Val Acc: 0.6230\n",
      "No improvement for 4 epochs.\n"
     ]
    },
    {
     "name": "stderr",
     "output_type": "stream",
     "text": [
      "Epoch 51/80 [Train]: 100%|██████████| 1795/1795 [01:07<00:00, 26.46it/s, loss=0.0625, acc=63.72%]\n",
      "Validation: 100%|██████████| 449/449 [00:09<00:00, 48.53it/s]\n"
     ]
    },
    {
     "name": "stdout",
     "output_type": "stream",
     "text": [
      "\n",
      "Epoch 51:\n",
      "Train Loss: 0.9992, Train Acc: 0.6372\n",
      "Val Loss: 1.0383, Val Acc: 0.6213\n",
      "No improvement for 5 epochs.\n"
     ]
    },
    {
     "name": "stderr",
     "output_type": "stream",
     "text": [
      "Epoch 52/80 [Train]: 100%|██████████| 1795/1795 [01:07<00:00, 26.55it/s, loss=0.0622, acc=64.39%]\n",
      "Validation: 100%|██████████| 449/449 [00:09<00:00, 49.69it/s]\n"
     ]
    },
    {
     "name": "stdout",
     "output_type": "stream",
     "text": [
      "\n",
      "Epoch 52:\n",
      "Train Loss: 0.9954, Train Acc: 0.6439\n",
      "Val Loss: 1.3106, Val Acc: 0.6124\n",
      "No improvement for 6 epochs.\n"
     ]
    },
    {
     "name": "stderr",
     "output_type": "stream",
     "text": [
      "Epoch 53/80 [Train]: 100%|██████████| 1795/1795 [01:07<00:00, 26.63it/s, loss=0.0627, acc=64.04%]\n",
      "Validation: 100%|██████████| 449/449 [00:09<00:00, 48.51it/s]\n"
     ]
    },
    {
     "name": "stdout",
     "output_type": "stream",
     "text": [
      "\n",
      "Epoch 53:\n",
      "Train Loss: 1.0035, Train Acc: 0.6404\n",
      "Val Loss: 1.0475, Val Acc: 0.6219\n",
      "No improvement for 7 epochs.\n"
     ]
    },
    {
     "name": "stderr",
     "output_type": "stream",
     "text": [
      "Epoch 54/80 [Train]: 100%|██████████| 1795/1795 [01:07<00:00, 26.62it/s, loss=0.0616, acc=64.49%]\n",
      "Validation: 100%|██████████| 449/449 [00:08<00:00, 49.96it/s]\n"
     ]
    },
    {
     "name": "stdout",
     "output_type": "stream",
     "text": [
      "\n",
      "Epoch 54:\n",
      "Train Loss: 0.9856, Train Acc: 0.6449\n",
      "Val Loss: 1.0706, Val Acc: 0.6219\n",
      "No improvement for 8 epochs.\n"
     ]
    },
    {
     "name": "stderr",
     "output_type": "stream",
     "text": [
      "Epoch 55/80 [Train]: 100%|██████████| 1795/1795 [01:06<00:00, 26.86it/s, loss=0.0613, acc=64.63%]\n",
      "Validation: 100%|██████████| 449/449 [00:08<00:00, 50.21it/s]\n"
     ]
    },
    {
     "name": "stdout",
     "output_type": "stream",
     "text": [
      "\n",
      "Epoch 55:\n",
      "Train Loss: 0.9810, Train Acc: 0.6463\n",
      "Val Loss: 1.0469, Val Acc: 0.6225\n",
      "No improvement for 9 epochs.\n"
     ]
    },
    {
     "name": "stderr",
     "output_type": "stream",
     "text": [
      "Epoch 56/80 [Train]: 100%|██████████| 1795/1795 [01:07<00:00, 26.58it/s, loss=0.0610, acc=65.22%]\n",
      "Validation: 100%|██████████| 449/449 [00:08<00:00, 50.65it/s]\n"
     ]
    },
    {
     "name": "stdout",
     "output_type": "stream",
     "text": [
      "\n",
      "Epoch 56:\n",
      "Train Loss: 0.9753, Train Acc: 0.6522\n",
      "Val Loss: 1.0962, Val Acc: 0.6236\n"
     ]
    },
    {
     "name": "stderr",
     "output_type": "stream",
     "text": [
      "Epoch 57/80 [Train]: 100%|██████████| 1795/1795 [01:06<00:00, 26.80it/s, loss=0.0612, acc=64.89%]\n",
      "Validation: 100%|██████████| 449/449 [00:09<00:00, 47.39it/s]\n"
     ]
    },
    {
     "name": "stdout",
     "output_type": "stream",
     "text": [
      "\n",
      "Epoch 57:\n",
      "Train Loss: 0.9790, Train Acc: 0.6489\n",
      "Val Loss: 1.0623, Val Acc: 0.6314\n"
     ]
    },
    {
     "name": "stderr",
     "output_type": "stream",
     "text": [
      "Epoch 58/80 [Train]: 100%|██████████| 1795/1795 [01:07<00:00, 26.79it/s, loss=0.0600, acc=65.83%]\n",
      "Validation: 100%|██████████| 449/449 [00:08<00:00, 49.96it/s]\n"
     ]
    },
    {
     "name": "stdout",
     "output_type": "stream",
     "text": [
      "\n",
      "Epoch 58:\n",
      "Train Loss: 0.9603, Train Acc: 0.6583\n",
      "Val Loss: 1.0988, Val Acc: 0.6141\n",
      "No improvement for 1 epochs.\n"
     ]
    },
    {
     "name": "stderr",
     "output_type": "stream",
     "text": [
      "Epoch 59/80 [Train]: 100%|██████████| 1795/1795 [01:06<00:00, 27.06it/s, loss=0.0619, acc=65.15%]\n",
      "Validation: 100%|██████████| 449/449 [00:09<00:00, 49.46it/s]\n"
     ]
    },
    {
     "name": "stdout",
     "output_type": "stream",
     "text": [
      "\n",
      "Epoch 59:\n",
      "Train Loss: 0.9903, Train Acc: 0.6515\n",
      "Val Loss: 1.0542, Val Acc: 0.6219\n",
      "No improvement for 2 epochs.\n"
     ]
    },
    {
     "name": "stderr",
     "output_type": "stream",
     "text": [
      "Epoch 60/80 [Train]: 100%|██████████| 1795/1795 [01:06<00:00, 27.06it/s, loss=0.0595, acc=65.83%]\n",
      "Validation: 100%|██████████| 449/449 [00:08<00:00, 50.00it/s]\n"
     ]
    },
    {
     "name": "stdout",
     "output_type": "stream",
     "text": [
      "\n",
      "Epoch 60:\n",
      "Train Loss: 0.9510, Train Acc: 0.6583\n",
      "Val Loss: 1.1021, Val Acc: 0.6145\n",
      "No improvement for 3 epochs.\n"
     ]
    },
    {
     "name": "stderr",
     "output_type": "stream",
     "text": [
      "Epoch 61/80 [Train]: 100%|██████████| 1795/1795 [01:07<00:00, 26.54it/s, loss=0.0589, acc=66.66%]\n",
      "Validation: 100%|██████████| 449/449 [00:09<00:00, 48.84it/s]\n"
     ]
    },
    {
     "name": "stdout",
     "output_type": "stream",
     "text": [
      "\n",
      "Epoch 61:\n",
      "Train Loss: 0.9427, Train Acc: 0.6666\n",
      "Val Loss: 1.1156, Val Acc: 0.6141\n",
      "No improvement for 4 epochs.\n"
     ]
    },
    {
     "name": "stderr",
     "output_type": "stream",
     "text": [
      "Epoch 62/80 [Train]: 100%|██████████| 1795/1795 [01:06<00:00, 27.12it/s, loss=0.0590, acc=66.30%]\n",
      "Validation: 100%|██████████| 449/449 [00:08<00:00, 50.19it/s]\n"
     ]
    },
    {
     "name": "stdout",
     "output_type": "stream",
     "text": [
      "\n",
      "Epoch 62:\n",
      "Train Loss: 0.9435, Train Acc: 0.6630\n",
      "Val Loss: 1.3311, Val Acc: 0.6186\n",
      "No improvement for 5 epochs.\n"
     ]
    },
    {
     "name": "stderr",
     "output_type": "stream",
     "text": [
      "Epoch 63/80 [Train]: 100%|██████████| 1795/1795 [01:06<00:00, 26.88it/s, loss=0.0589, acc=66.64%]\n",
      "Validation: 100%|██████████| 449/449 [00:08<00:00, 51.86it/s]\n"
     ]
    },
    {
     "name": "stdout",
     "output_type": "stream",
     "text": [
      "\n",
      "Epoch 63:\n",
      "Train Loss: 0.9417, Train Acc: 0.6664\n",
      "Val Loss: 1.6516, Val Acc: 0.6121\n",
      "No improvement for 6 epochs.\n"
     ]
    },
    {
     "name": "stderr",
     "output_type": "stream",
     "text": [
      "Epoch 64/80 [Train]: 100%|██████████| 1795/1795 [01:06<00:00, 27.17it/s, loss=0.0583, acc=67.02%]\n",
      "Validation: 100%|██████████| 449/449 [00:08<00:00, 49.92it/s]\n"
     ]
    },
    {
     "name": "stdout",
     "output_type": "stream",
     "text": [
      "\n",
      "Epoch 64:\n",
      "Train Loss: 0.9326, Train Acc: 0.6702\n",
      "Val Loss: 1.0990, Val Acc: 0.6301\n",
      "No improvement for 7 epochs.\n"
     ]
    },
    {
     "name": "stderr",
     "output_type": "stream",
     "text": [
      "Epoch 65/80 [Train]: 100%|██████████| 1795/1795 [01:06<00:00, 26.92it/s, loss=0.0577, acc=67.21%]\n",
      "Validation: 100%|██████████| 449/449 [00:08<00:00, 50.05it/s]\n"
     ]
    },
    {
     "name": "stdout",
     "output_type": "stream",
     "text": [
      "\n",
      "Epoch 65:\n",
      "Train Loss: 0.9227, Train Acc: 0.6721\n",
      "Val Loss: 1.1056, Val Acc: 0.6199\n",
      "No improvement for 8 epochs.\n"
     ]
    },
    {
     "name": "stderr",
     "output_type": "stream",
     "text": [
      "Epoch 66/80 [Train]: 100%|██████████| 1795/1795 [01:08<00:00, 26.14it/s, loss=0.0573, acc=67.52%]\n",
      "Validation: 100%|██████████| 449/449 [00:08<00:00, 52.95it/s]\n"
     ]
    },
    {
     "name": "stdout",
     "output_type": "stream",
     "text": [
      "\n",
      "Epoch 66:\n",
      "Train Loss: 0.9166, Train Acc: 0.6752\n",
      "Val Loss: 1.0725, Val Acc: 0.6250\n",
      "No improvement for 9 epochs.\n"
     ]
    },
    {
     "name": "stderr",
     "output_type": "stream",
     "text": [
      "Epoch 67/80 [Train]: 100%|██████████| 1795/1795 [01:06<00:00, 26.93it/s, loss=0.0574, acc=67.52%]\n",
      "Validation: 100%|██████████| 449/449 [00:08<00:00, 50.30it/s]\n"
     ]
    },
    {
     "name": "stdout",
     "output_type": "stream",
     "text": [
      "\n",
      "Epoch 67:\n",
      "Train Loss: 0.9183, Train Acc: 0.6752\n",
      "Val Loss: 1.1258, Val Acc: 0.6176\n",
      "No improvement for 10 epochs.\n"
     ]
    },
    {
     "name": "stderr",
     "output_type": "stream",
     "text": [
      "Epoch 68/80 [Train]: 100%|██████████| 1795/1795 [01:06<00:00, 26.83it/s, loss=0.0578, acc=67.57%]\n",
      "Validation: 100%|██████████| 449/449 [00:09<00:00, 49.72it/s]\n"
     ]
    },
    {
     "name": "stdout",
     "output_type": "stream",
     "text": [
      "\n",
      "Epoch 68:\n",
      "Train Loss: 0.9238, Train Acc: 0.6757\n",
      "Val Loss: 1.0890, Val Acc: 0.6332\n"
     ]
    },
    {
     "name": "stderr",
     "output_type": "stream",
     "text": [
      "Epoch 69/80 [Train]: 100%|██████████| 1795/1795 [01:06<00:00, 26.99it/s, loss=0.0572, acc=67.37%]\n",
      "Validation: 100%|██████████| 449/449 [00:08<00:00, 51.58it/s]\n"
     ]
    },
    {
     "name": "stdout",
     "output_type": "stream",
     "text": [
      "\n",
      "Epoch 69:\n",
      "Train Loss: 0.9146, Train Acc: 0.6737\n",
      "Val Loss: 1.0524, Val Acc: 0.6350\n"
     ]
    },
    {
     "name": "stderr",
     "output_type": "stream",
     "text": [
      "Epoch 70/80 [Train]: 100%|██████████| 1795/1795 [01:06<00:00, 27.04it/s, loss=0.0565, acc=68.30%]\n",
      "Validation: 100%|██████████| 449/449 [00:08<00:00, 50.76it/s]\n"
     ]
    },
    {
     "name": "stdout",
     "output_type": "stream",
     "text": [
      "\n",
      "Epoch 70:\n",
      "Train Loss: 0.9037, Train Acc: 0.6830\n",
      "Val Loss: 1.1305, Val Acc: 0.6239\n",
      "No improvement for 1 epochs.\n"
     ]
    },
    {
     "name": "stderr",
     "output_type": "stream",
     "text": [
      "Epoch 71/80 [Train]: 100%|██████████| 1795/1795 [01:06<00:00, 27.02it/s, loss=0.0561, acc=68.03%]\n",
      "Validation: 100%|██████████| 449/449 [00:08<00:00, 51.83it/s]\n"
     ]
    },
    {
     "name": "stdout",
     "output_type": "stream",
     "text": [
      "\n",
      "Epoch 71:\n",
      "Train Loss: 0.8980, Train Acc: 0.6803\n",
      "Val Loss: 1.0772, Val Acc: 0.6296\n",
      "No improvement for 2 epochs.\n"
     ]
    },
    {
     "name": "stderr",
     "output_type": "stream",
     "text": [
      "Epoch 72/80 [Train]: 100%|██████████| 1795/1795 [01:08<00:00, 26.25it/s, loss=0.0562, acc=68.06%]\n",
      "Validation: 100%|██████████| 449/449 [00:09<00:00, 45.87it/s]\n"
     ]
    },
    {
     "name": "stdout",
     "output_type": "stream",
     "text": [
      "\n",
      "Epoch 72:\n",
      "Train Loss: 0.8989, Train Acc: 0.6806\n",
      "Val Loss: 1.0954, Val Acc: 0.6308\n",
      "No improvement for 3 epochs.\n"
     ]
    },
    {
     "name": "stderr",
     "output_type": "stream",
     "text": [
      "Epoch 73/80 [Train]: 100%|██████████| 1795/1795 [01:07<00:00, 26.43it/s, loss=0.0556, acc=68.69%]\n",
      "Validation: 100%|██████████| 449/449 [00:08<00:00, 52.56it/s]\n"
     ]
    },
    {
     "name": "stdout",
     "output_type": "stream",
     "text": [
      "\n",
      "Epoch 73:\n",
      "Train Loss: 0.8892, Train Acc: 0.6869\n",
      "Val Loss: 1.1342, Val Acc: 0.6265\n",
      "No improvement for 4 epochs.\n"
     ]
    },
    {
     "name": "stderr",
     "output_type": "stream",
     "text": [
      "Epoch 74/80 [Train]: 100%|██████████| 1795/1795 [01:06<00:00, 26.85it/s, loss=0.0553, acc=68.85%]\n",
      "Validation: 100%|██████████| 449/449 [00:08<00:00, 50.96it/s]\n"
     ]
    },
    {
     "name": "stdout",
     "output_type": "stream",
     "text": [
      "\n",
      "Epoch 74:\n",
      "Train Loss: 0.8844, Train Acc: 0.6885\n",
      "Val Loss: 1.1074, Val Acc: 0.6378\n"
     ]
    },
    {
     "name": "stderr",
     "output_type": "stream",
     "text": [
      "Epoch 75/80 [Train]: 100%|██████████| 1795/1795 [01:07<00:00, 26.74it/s, loss=0.0552, acc=69.08%]\n",
      "Validation: 100%|██████████| 449/449 [00:08<00:00, 51.75it/s]\n"
     ]
    },
    {
     "name": "stdout",
     "output_type": "stream",
     "text": [
      "\n",
      "Epoch 75:\n",
      "Train Loss: 0.8821, Train Acc: 0.6908\n",
      "Val Loss: 1.0940, Val Acc: 0.6337\n",
      "No improvement for 1 epochs.\n"
     ]
    },
    {
     "name": "stderr",
     "output_type": "stream",
     "text": [
      "Epoch 76/80 [Train]: 100%|██████████| 1795/1795 [01:06<00:00, 26.81it/s, loss=0.0551, acc=69.27%]\n",
      "Validation: 100%|██████████| 449/449 [00:09<00:00, 48.00it/s]\n"
     ]
    },
    {
     "name": "stdout",
     "output_type": "stream",
     "text": [
      "\n",
      "Epoch 76:\n",
      "Train Loss: 0.8813, Train Acc: 0.6927\n",
      "Val Loss: 1.3459, Val Acc: 0.6315\n",
      "No improvement for 2 epochs.\n"
     ]
    },
    {
     "name": "stderr",
     "output_type": "stream",
     "text": [
      "Epoch 77/80 [Train]: 100%|██████████| 1795/1795 [01:09<00:00, 25.85it/s, loss=0.0572, acc=67.80%]\n",
      "Validation: 100%|██████████| 449/449 [00:09<00:00, 49.66it/s]\n"
     ]
    },
    {
     "name": "stdout",
     "output_type": "stream",
     "text": [
      "\n",
      "Epoch 77:\n",
      "Train Loss: 0.9145, Train Acc: 0.6780\n",
      "Val Loss: 1.2267, Val Acc: 0.6339\n",
      "No improvement for 3 epochs.\n"
     ]
    },
    {
     "name": "stderr",
     "output_type": "stream",
     "text": [
      "Epoch 78/80 [Train]: 100%|██████████| 1795/1795 [01:07<00:00, 26.63it/s, loss=0.0531, acc=70.18%]\n",
      "Validation: 100%|██████████| 449/449 [00:08<00:00, 51.71it/s]\n"
     ]
    },
    {
     "name": "stdout",
     "output_type": "stream",
     "text": [
      "\n",
      "Epoch 78:\n",
      "Train Loss: 0.8497, Train Acc: 0.7018\n",
      "Val Loss: 1.1435, Val Acc: 0.6353\n",
      "No improvement for 4 epochs.\n"
     ]
    },
    {
     "name": "stderr",
     "output_type": "stream",
     "text": [
      "Epoch 79/80 [Train]: 100%|██████████| 1795/1795 [01:08<00:00, 26.10it/s, loss=0.0533, acc=70.30%]\n",
      "Validation: 100%|██████████| 449/449 [00:09<00:00, 49.23it/s]\n"
     ]
    },
    {
     "name": "stdout",
     "output_type": "stream",
     "text": [
      "\n",
      "Epoch 79:\n",
      "Train Loss: 0.8531, Train Acc: 0.7030\n",
      "Val Loss: 1.2880, Val Acc: 0.6282\n",
      "No improvement for 5 epochs.\n"
     ]
    },
    {
     "name": "stderr",
     "output_type": "stream",
     "text": [
      "Epoch 80/80 [Train]: 100%|██████████| 1795/1795 [01:08<00:00, 26.20it/s, loss=0.0531, acc=70.38%]\n",
      "Validation: 100%|██████████| 449/449 [00:08<00:00, 51.06it/s]"
     ]
    },
    {
     "name": "stdout",
     "output_type": "stream",
     "text": [
      "\n",
      "Epoch 80:\n",
      "Train Loss: 0.8490, Train Acc: 0.7038\n",
      "Val Loss: 1.2381, Val Acc: 0.6375\n",
      "No improvement for 6 epochs.\n"
     ]
    },
    {
     "name": "stderr",
     "output_type": "stream",
     "text": [
      "\n"
     ]
    }
   ],
   "source": [
    "# Set device\n",
    "device = torch.device(\"cuda\" if torch.cuda.is_available() else \"cpu\")\n",
    "print(f\"Using {device} device\")\n",
    "\n",
    "# Define transforms\n",
    "train_transform = transforms.Compose([\n",
    "    transforms.Resize((48, 48)),  # Standard size for FER2013\n",
    "    transforms.Grayscale(num_output_channels=1),\n",
    "    transforms.RandomHorizontalFlip(),\n",
    "    transforms.RandomRotation(10),\n",
    "    transforms.RandomAffine(degrees=0, translate=(0.05, 0.05)),\n",
    "    transforms.ToTensor(),\n",
    "    transforms.Normalize([0.5], [0.5])  # Grayscale normalization\n",
    "])\n",
    "\n",
    "test_transform = transforms.Compose([\n",
    "    transforms.Resize((48, 48)),\n",
    "    transforms.Grayscale(num_output_channels=1),\n",
    "    transforms.ToTensor(),\n",
    "    transforms.Normalize([0.5], [0.5])\n",
    "])\n",
    "\n",
    "# Load datasets\n",
    "train_dataset = datasets.ImageFolder(\n",
    "    root='/kaggle/input/fer2013/train',\n",
    "    transform=train_transform\n",
    ")\n",
    "\n",
    "val_dataset = datasets.ImageFolder(\n",
    "    root='/kaggle/input/fer2013/test',  \n",
    "    transform=test_transform\n",
    ")\n",
    "\n",
    "BATCH_SIZE = 16\n",
    "\n",
    "# Create data loaders\n",
    "train_loader = DataLoader(\n",
    "    train_dataset,\n",
    "    batch_size=BATCH_SIZE,\n",
    "    shuffle=True,\n",
    ")\n",
    "\n",
    "val_loader = DataLoader(\n",
    "    val_dataset,\n",
    "    batch_size=BATCH_SIZE,\n",
    "    shuffle=False,\n",
    ")\n",
    "\n",
    "# Initialize model, criterion, and optimizer\n",
    "model = ResEmoteNet().to(device)\n",
    "criterion = nn.CrossEntropyLoss()\n",
    "optimizer = optim.AdamW(model.parameters(), lr=0.001, weight_decay=1e-4)\n",
    "\n",
    "# Print dataset sizes\n",
    "print(f\"Training set size: {len(train_dataset)}\")\n",
    "print(f\"Validation set size: {len(val_dataset)}\")\n",
    "\n",
    "# Training parameters\n",
    "num_epochs = 80\n",
    "patience = 15\n",
    "best_val_acc = 0\n",
    "patience_counter = 0\n",
    "epoch_counter = 0\n",
    "\n",
    "# History tracking\n",
    "history = {\n",
    "    'train_loss': [], 'train_acc': [],\n",
    "    'val_loss': [], 'val_acc': []\n",
    "}\n",
    "\n",
    "# Training loop\n",
    "for epoch in range(num_epochs):\n",
    "    # Training phase\n",
    "    model.train()\n",
    "    train_loss = 0.0\n",
    "    train_correct = 0\n",
    "    train_total = 0\n",
    "    \n",
    "    pbar = tqdm(train_loader, desc=f'Epoch {epoch+1}/{num_epochs} [Train]')\n",
    "    for inputs, labels in pbar:\n",
    "        inputs, labels = inputs.to(device), labels.to(device)\n",
    "        \n",
    "        optimizer.zero_grad()\n",
    "        outputs = model(inputs)\n",
    "        loss = criterion(outputs, labels)\n",
    "        loss.backward()\n",
    "        optimizer.step()\n",
    "        \n",
    "        train_loss += loss.item()\n",
    "        _, predicted = outputs.max(1)\n",
    "        train_total += labels.size(0)\n",
    "        train_correct += predicted.eq(labels).sum().item()\n",
    "        \n",
    "        # Update progress bar\n",
    "        pbar.set_postfix({\n",
    "            'loss': f'{train_loss/train_total:.4f}',\n",
    "            'acc': f'{100.*train_correct/train_total:.2f}%'\n",
    "        })\n",
    "    \n",
    "    train_loss = train_loss / len(train_loader)\n",
    "    train_acc = train_correct / train_total\n",
    "    \n",
    "    # Validation phase\n",
    "    model.eval()\n",
    "    val_loss = 0.0\n",
    "    val_correct = 0\n",
    "    val_total = 0\n",
    "    \n",
    "    with torch.no_grad():\n",
    "        for inputs, labels in tqdm(val_loader, desc='Validation'):\n",
    "            inputs, labels = inputs.to(device), labels.to(device)\n",
    "            outputs = model(inputs)\n",
    "            loss = criterion(outputs, labels)\n",
    "            \n",
    "            val_loss += loss.item()\n",
    "            _, predicted = outputs.max(1)\n",
    "            val_total += labels.size(0)\n",
    "            val_correct += predicted.eq(labels).sum().item()\n",
    "    \n",
    "    val_loss = val_loss / len(val_loader)\n",
    "    val_acc = val_correct / val_total\n",
    "    \n",
    "    # Store history\n",
    "    history['train_loss'].append(train_loss)\n",
    "    history['train_acc'].append(train_acc)\n",
    "    history['val_loss'].append(val_loss)\n",
    "    history['val_acc'].append(val_acc)\n",
    "    \n",
    "    print(f'\\nEpoch {epoch+1}:')\n",
    "    print(f'Train Loss: {train_loss:.4f}, Train Acc: {train_acc:.4f}')\n",
    "    print(f'Val Loss: {val_loss:.4f}, Val Acc: {val_acc:.4f}')\n",
    "    \n",
    "    # Early stopping check\n",
    "    if val_acc > best_val_acc:\n",
    "        best_val_acc = val_acc\n",
    "        patience_counter = 0\n",
    "        # Save the best model\n",
    "        torch.save({\n",
    "            'epoch': epoch,\n",
    "            'model_state_dict': model.state_dict(),\n",
    "            'optimizer_state_dict': optimizer.state_dict(),\n",
    "            'best_val_acc': best_val_acc,\n",
    "        }, 'ResEmoteNetCNN_model.pth')\n",
    "    else:\n",
    "        patience_counter += 1\n",
    "        print(f'No improvement for {patience_counter} epochs.')\n",
    "        \n",
    "    if patience_counter >= patience:\n",
    "        print('Early stopping triggered.')\n",
    "        break\n",
    "    \n",
    "    epoch_counter += 1\n",
    "\n",
    "# Save final results\n",
    "num_epochs_completed = len(history['train_loss'])  # Menggunakan panjang aktual dari history\n",
    "results_df = pd.DataFrame({\n",
    "    'Epoch': range(1, num_epochs_completed + 1),\n",
    "    'Train Loss': history['train_loss'],\n",
    "    'Val Loss': history['val_loss'],\n",
    "    'Train Acc': history['train_acc'],\n",
    "    'Val Acc': history['val_acc']\n",
    "})\n",
    "results_df.to_csv('training_history.csv', index=False)"
   ]
  },
  {
   "cell_type": "code",
   "execution_count": 3,
   "id": "ad23ee5b",
   "metadata": {
    "execution": {
     "iopub.execute_input": "2024-12-15T09:29:16.004920Z",
     "iopub.status.busy": "2024-12-15T09:29:16.004613Z",
     "iopub.status.idle": "2024-12-15T09:29:16.028454Z",
     "shell.execute_reply": "2024-12-15T09:29:16.027666Z"
    },
    "papermill": {
     "duration": 9.37627,
     "end_time": "2024-12-15T09:29:16.030135",
     "exception": false,
     "start_time": "2024-12-15T09:29:06.653865",
     "status": "completed"
    },
    "tags": []
   },
   "outputs": [],
   "source": [
    "import warnings\n",
    "warnings.filterwarnings('ignore')\n",
    "\n",
    "def convert_pth_to_pt(model_path, output_path='model.pt'):\n",
    "    \"\"\"\n",
    "    Convert .pth checkpoint to .pt format\n",
    "    \n",
    "    Args:\n",
    "        model_path (str): Path to the .pth checkpoint file\n",
    "        output_path (str): Path to save the .pt model file\n",
    "    Returns:\n",
    "        str: Path to saved .pt model\n",
    "    \"\"\"\n",
    "    try:\n",
    "        # Initialize model\n",
    "        model = ResEmoteNet()\n",
    "        \n",
    "        # Load checkpoint\n",
    "        checkpoint = torch.load(model_path)\n",
    "        \n",
    "        # Load state dict\n",
    "        model.load_state_dict(checkpoint['model_state_dict'])\n",
    "        \n",
    "        # Set model to eval mode\n",
    "        model.eval()\n",
    "        \n",
    "        # Save model in .pt format\n",
    "        torch.save(model, output_path)\n",
    "        \n",
    "        print(f\"Successfully converted model to {output_path}\")\n",
    "        return output_path\n",
    "        \n",
    "    except Exception as e:\n",
    "        print(f\"Error converting model: {str(e)}\")\n",
    "        return None\n",
    "\n",
    "def convert_pth_to_ptl(model_path, output_path='model.ptl'):\n",
    "    \"\"\"\n",
    "    Convert .pth checkpoint to .ptl (PyTorch Lightning) format\n",
    "    \n",
    "    Args:\n",
    "        model_path (str): Path to the .pth checkpoint file\n",
    "        output_path (str): Path to save the .ptl model file\n",
    "    Returns:\n",
    "        str: Path to saved .ptl model\n",
    "    \"\"\"\n",
    "    try:\n",
    "        # Initialize model\n",
    "        model = ResEmoteNet()\n",
    "        \n",
    "        # Load checkpoint\n",
    "        checkpoint = torch.load(model_path)\n",
    "        \n",
    "        # Create new state dict with Lightning compatible format\n",
    "        new_state_dict = {\n",
    "            'state_dict': checkpoint['model_state_dict'],\n",
    "            'epoch': checkpoint.get('epoch', 0),\n",
    "            'global_step': 0,\n",
    "            'pytorch-lightning_version': '2.0.0',\n",
    "            'callbacks': {},\n",
    "            'optimizer_states': [checkpoint.get('optimizer_state_dict', {})],\n",
    "            'lr_schedulers': [],\n",
    "            'hparams_name': 'ResEmoteNet',\n",
    "            'hyper_parameters': {\n",
    "                'learning_rate': 0.001,\n",
    "                'batch_size': 16,\n",
    "                'num_classes': 7\n",
    "            }\n",
    "        }\n",
    "        \n",
    "        # Save in Lightning format\n",
    "        torch.save(new_state_dict, output_path)\n",
    "        \n",
    "        print(f\"Successfully converted model to {output_path}\")\n",
    "        return output_path\n",
    "        \n",
    "    except Exception as e:\n",
    "        print(f\"Error converting model: {str(e)}\")\n",
    "        return None\n",
    "\n",
    "def convert_all_formats(model_path, base_output_name='model'):\n",
    "    \"\"\"\n",
    "    Convert .pth model to both .pt and .ptl formats\n",
    "    \n",
    "    Args:\n",
    "        model_path (str): Path to the .pth checkpoint file\n",
    "        base_output_name (str): Base name for output files\n",
    "    Returns:\n",
    "        tuple: Paths to saved .pt and .ptl models\n",
    "    \"\"\"\n",
    "    pt_path = f\"{base_output_name}.pt\"\n",
    "    ptl_path = f\"{base_output_name}.ptl\"\n",
    "    \n",
    "    pt_result = convert_pth_to_pt(model_path, pt_path)\n",
    "    ptl_result = convert_pth_to_ptl(model_path, ptl_path)\n",
    "    \n",
    "    return pt_result, ptl_result\n",
    "\n",
    "# Example usage:\n",
    "\"\"\"\n",
    "# For single format conversion:\n",
    "pt_path = convert_pth_to_pt('ResEmoteNetCNN_model.pth')\n",
    "# or\n",
    "ptl_path = convert_pth_to_ptl('ResEmoteNetCNN_model.pth')\n",
    "\n",
    "# For converting to both formats:\n",
    "pt_path, ptl_path = convert_all_formats('ResEmoteNetCNN_model.pth', 'ResEmoteNet')\n",
    "\"\"\"\n",
    "\n",
    "def plot_training_curves(history):\n",
    "    plt.style.use(\"seaborn-v0_8-whitegrid\")\n",
    "    fig, axes = plt.subplots(2, 2, figsize=(15, 10))\n",
    "    fig.suptitle('Model Training Analysis', fontsize=16, y=1.05)\n",
    "\n",
    "    # Loss curves\n",
    "    axes[0,0].plot(history['train_loss'], label='Training Loss', color='blue')\n",
    "    axes[0,0].plot(history['val_loss'], label='Validation Loss', color='red')\n",
    "    axes[0,0].set_title('Loss Curves')\n",
    "    axes[0,0].set_xlabel('Epoch')\n",
    "    axes[0,0].set_ylabel('Loss')\n",
    "    axes[0,0].legend()\n",
    "    axes[0,0].grid(True)\n",
    "\n",
    "    # Accuracy curves\n",
    "    axes[0,1].plot(history['train_acc'], label='Training Accuracy', color='blue')\n",
    "    axes[0,1].plot(history['val_acc'], label='Validation Accuracy', color='red')\n",
    "    axes[0,1].set_title('Accuracy Curves')\n",
    "    axes[0,1].set_xlabel('Epoch')\n",
    "    axes[0,1].set_ylabel('Accuracy')\n",
    "    axes[0,1].legend()\n",
    "    axes[0,1].grid(True)\n",
    "\n",
    "    # Learning curves (Training vs Validation Gap)\n",
    "    train_val_gap = np.array(history['train_acc']) - np.array(history['val_acc'])\n",
    "    axes[1,0].plot(train_val_gap, label='Train-Val Accuracy Gap', color='purple')\n",
    "    axes[1,0].set_title('Overfitting Analysis')\n",
    "    axes[1,0].set_xlabel('Epoch')\n",
    "    axes[1,0].set_ylabel('Accuracy Gap')\n",
    "    axes[1,0].axhline(y=0, color='r', linestyle='--', alpha=0.3)\n",
    "    axes[1,0].legend()\n",
    "    axes[1,0].grid(True)\n",
    "\n",
    "    # Learning Rate if available\n",
    "    if 'lr' in history:\n",
    "        axes[1,1].plot(history['lr'], label='Learning Rate', color='green')\n",
    "        axes[1,1].set_title('Learning Rate Schedule')\n",
    "        axes[1,1].set_xlabel('Epoch')\n",
    "        axes[1,1].set_ylabel('Learning Rate')\n",
    "        axes[1,1].set_yscale('log')\n",
    "        axes[1,1].legend()\n",
    "        axes[1,1].grid(True)\n",
    "    else:\n",
    "        fig.delaxes(axes[1,1])  # Better way to remove subplot\n",
    "\n",
    "    plt.tight_layout()\n",
    "    plt.savefig('training_curves.png', bbox_inches='tight', dpi=300)\n",
    "    plt.show()\n",
    "\n",
    "def evaluate_model(model, val_loader, device, class_names):\n",
    "\n",
    "    model.eval()\n",
    "    all_preds = []\n",
    "    all_labels = []\n",
    "    \n",
    "    try:\n",
    "        with torch.no_grad():\n",
    "            for inputs, labels in val_loader:\n",
    "                inputs, labels = inputs.to(device), labels.to(device)\n",
    "                outputs = model(inputs)\n",
    "                _, predicted = outputs.max(1)\n",
    "                \n",
    "                all_preds.extend(predicted.cpu().numpy())\n",
    "                all_labels.extend(labels.cpu().numpy())\n",
    "        \n",
    "        # Create confusion matrix\n",
    "        cm = confusion_matrix(all_labels, all_preds)\n",
    "        \n",
    "        # Plot confusion matrix\n",
    "        plt.figure(figsize=(12, 8))\n",
    "        sns.heatmap(cm, annot=True, fmt='d', cmap='Blues',\n",
    "                    xticklabels=class_names,\n",
    "                    yticklabels=class_names)\n",
    "        plt.title('Confusion Matrix')\n",
    "        plt.ylabel('True Label')\n",
    "        plt.xlabel('Predicted Label')\n",
    "        plt.xticks(rotation=45)\n",
    "        plt.yticks(rotation=45)\n",
    "        plt.tight_layout()\n",
    "        plt.savefig('confusion_matrix.png', bbox_inches='tight', dpi=300)\n",
    "        plt.show()\n",
    "        \n",
    "        # Print classification report\n",
    "        print(\"\\nClassification Report:\")\n",
    "        print(classification_report(all_labels, all_preds, target_names=class_names))\n",
    "        \n",
    "    except Exception as e:\n",
    "        print(f\"Error during evaluation: {str(e)}\")\n",
    "\n",
    "def plot_sample_predictions(model, val_loader, device, class_names, num_samples=5):\n",
    "\n",
    "    model.eval()\n",
    "    \n",
    "    try:\n",
    "        fig, axes = plt.subplots(2, num_samples, figsize=(20, 6))\n",
    "        \n",
    "        with torch.no_grad():\n",
    "            inputs, labels = next(iter(val_loader))\n",
    "            inputs, labels = inputs.to(device), labels.to(device)\n",
    "            outputs = model(inputs)\n",
    "            probabilities = torch.nn.functional.softmax(outputs, dim=1)\n",
    "            \n",
    "            for i in range(min(num_samples, len(inputs))):\n",
    "                # Plot image\n",
    "                img = inputs[i].cpu().permute(1, 2, 0)\n",
    "                img = img * torch.tensor([0.229, 0.224, 0.225]) + torch.tensor([0.485, 0.456, 0.406])\n",
    "                img = img.clip(0, 1)\n",
    "                \n",
    "                axes[0, i].imshow(img)\n",
    "                axes[0, i].axis('off')\n",
    "                true_label = class_names[labels[i]]\n",
    "                pred_label = class_names[outputs[i].argmax()]\n",
    "                axes[0, i].set_title(f'True: {true_label}\\nPred: {pred_label}',\n",
    "                                   color='green' if true_label == pred_label else 'red')\n",
    "                \n",
    "                # Plot probability distribution\n",
    "                probs = probabilities[i].cpu().numpy()\n",
    "                axes[1, i].bar(range(len(class_names)), probs)\n",
    "                axes[1, i].set_xticks(range(len(class_names)))\n",
    "                axes[1, i].set_xticklabels(class_names, rotation=45)\n",
    "                axes[1, i].set_ylim(0, 1)\n",
    "        \n",
    "        plt.tight_layout()\n",
    "        plt.savefig('sample_predictions.png', bbox_inches='tight', dpi=300)\n",
    "        plt.show()\n",
    "        \n",
    "    except Exception as e:\n",
    "        print(f\"Error plotting predictions: {str(e)}\")\n",
    "\n",
    "def print_parameter_details(model):\n",
    "    \"\"\"\n",
    "    Print model parameter details and total trainable parameters.\n",
    "    \n",
    "    Args:\n",
    "        model (torch.nn.Module): The model to analyze\n",
    "    \"\"\"\n",
    "    try:\n",
    "        total_params = 0\n",
    "        print(\"\\nModel Parameter Details:\")\n",
    "        print(\"-\" * 50)\n",
    "        for name, parameter in model.named_parameters():\n",
    "            if parameter.requires_grad:\n",
    "                params = parameter.numel()\n",
    "                total_params += params\n",
    "                print(f\"{name:<30} {params:>10,d}\")\n",
    "        print(\"-\" * 50)\n",
    "        print(f\"Total trainable parameters: {total_params:,}\")\n",
    "        \n",
    "    except Exception as e:\n",
    "        print(f\"Error analyzing parameters: {str(e)}\")"
   ]
  },
  {
   "cell_type": "code",
   "execution_count": 4,
   "id": "32f1584b",
   "metadata": {
    "execution": {
     "iopub.execute_input": "2024-12-15T09:29:35.102935Z",
     "iopub.status.busy": "2024-12-15T09:29:35.102637Z",
     "iopub.status.idle": "2024-12-15T09:29:51.620815Z",
     "shell.execute_reply": "2024-12-15T09:29:51.619687Z"
    },
    "papermill": {
     "duration": 25.863775,
     "end_time": "2024-12-15T09:29:51.622941",
     "exception": false,
     "start_time": "2024-12-15T09:29:25.759166",
     "status": "completed"
    },
    "tags": []
   },
   "outputs": [
    {
     "name": "stdout",
     "output_type": "stream",
     "text": [
      "\n",
      "Model Parameter Details:\n",
      "--------------------------------------------------\n",
      "conv1.weight                          288\n",
      "conv1.bias                             32\n",
      "bn1.weight                             32\n",
      "bn1.bias                               32\n",
      "conv2.weight                       18,432\n",
      "conv2.bias                             64\n",
      "bn2.weight                             64\n",
      "bn2.bias                               64\n",
      "conv3.weight                       73,728\n",
      "conv3.bias                            128\n",
      "bn3.weight                            128\n",
      "bn3.bias                              128\n",
      "se.fc.0.weight                      1,024\n",
      "se.fc.2.weight                      1,024\n",
      "res_block1.conv1.weight           294,912\n",
      "res_block1.conv1.bias                 256\n",
      "res_block1.bn1.weight                 256\n",
      "res_block1.bn1.bias                   256\n",
      "res_block1.conv2.weight           589,824\n",
      "res_block1.conv2.bias                 256\n",
      "res_block1.bn2.weight                 256\n",
      "res_block1.bn2.bias                   256\n",
      "res_block1.shortcut.0.weight       32,768\n",
      "res_block1.shortcut.0.bias            256\n",
      "res_block1.shortcut.1.weight          256\n",
      "res_block1.shortcut.1.bias            256\n",
      "res_block2.conv1.weight         1,179,648\n",
      "res_block2.conv1.bias                 512\n",
      "res_block2.bn1.weight                 512\n",
      "res_block2.bn1.bias                   512\n",
      "res_block2.conv2.weight         2,359,296\n",
      "res_block2.conv2.bias                 512\n",
      "res_block2.bn2.weight                 512\n",
      "res_block2.bn2.bias                   512\n",
      "res_block2.shortcut.0.weight      131,072\n",
      "res_block2.shortcut.0.bias            512\n",
      "res_block2.shortcut.1.weight          512\n",
      "res_block2.shortcut.1.bias            512\n",
      "res_block3.conv1.weight         4,718,592\n",
      "res_block3.conv1.bias               1,024\n",
      "res_block3.bn1.weight               1,024\n",
      "res_block3.bn1.bias                 1,024\n",
      "res_block3.conv2.weight         9,437,184\n",
      "res_block3.conv2.bias               1,024\n",
      "res_block3.bn2.weight               1,024\n",
      "res_block3.bn2.bias                 1,024\n",
      "res_block3.shortcut.0.weight      524,288\n",
      "res_block3.shortcut.0.bias          1,024\n",
      "res_block3.shortcut.1.weight        1,024\n",
      "res_block3.shortcut.1.bias          1,024\n",
      "fc1.weight                        524,288\n",
      "fc1.bias                              512\n",
      "fc2.weight                        131,072\n",
      "fc2.bias                              256\n",
      "fc3.weight                         32,768\n",
      "fc3.bias                              128\n",
      "fc4.weight                            896\n",
      "fc4.bias                                7\n",
      "--------------------------------------------------\n",
      "Total trainable parameters: 20,068,807\n",
      "Successfully converted model to ResEmoteNet.pt\n",
      "Successfully converted model to ResEmoteNet.ptl\n"
     ]
    },
    {
     "data": {
      "image/png": "[encoded data removed]",
      "text/plain": [
       "<Figure size 1500x1000 with 3 Axes>"
      ]
     },
     "metadata": {},
     "output_type": "display_data"
    },
    {
     "data": {
      "image/png": "[encoded data removed]",
      "text/plain": [
       "<Figure size 1200x800 with 2 Axes>"
      ]
     },
     "metadata": {},
     "output_type": "display_data"
    },
    {
     "name": "stdout",
     "output_type": "stream",
     "text": [
      "\n",
      "Classification Report:\n",
      "              precision    recall  f1-score   support\n",
      "\n",
      "       Angry       0.53      0.57      0.55       958\n",
      "     Disgust       0.69      0.45      0.55       111\n",
      "        Fear       0.54      0.33      0.41      1024\n",
      "       Happy       0.84      0.86      0.85      1774\n",
      "         Sad       0.58      0.65      0.61      1233\n",
      "    Surprise       0.48      0.55      0.51      1247\n",
      "     Neutral       0.77      0.75      0.76       831\n",
      "\n",
      "    accuracy                           0.64      7178\n",
      "   macro avg       0.63      0.60      0.61      7178\n",
      "weighted avg       0.64      0.64      0.63      7178\n",
      "\n"
     ]
    },
    {
     "data": {
      "image/png": "[encoded data removed]",
      "text/plain": [
       "<Figure size 2000x600 with 10 Axes>"
      ]
     },
     "metadata": {},
     "output_type": "display_data"
    }
   ],
   "source": [
    "print_parameter_details(model)\n",
    "\n",
    "pt_path, ptl_path = convert_all_formats('ResEmoteNetCNN_model.pth', 'ResEmoteNet')\n",
    "\n",
    "plot_training_curves(history)\n",
    "\n",
    "# Definisikan nama kelas sesuai dengan dataset FER2013\n",
    "class_names = ['Angry', 'Disgust', 'Fear', 'Happy', 'Sad', 'Surprise', 'Neutral']\n",
    "\n",
    "# Evaluasi model dan tampilkan confusion matrix\n",
    "evaluate_model(model, val_loader, device, class_names)\n",
    "\n",
    "# Tampilkan contoh prediksi\n",
    "plot_sample_predictions(model, val_loader, device, class_names)"
   ]
  }
 ],
 "metadata": {
  "kaggle": {
   "accelerator": "gpu",
   "dataSources": [
    {
     "datasetId": 786787,
     "sourceId": 1351797,
     "sourceType": "datasetVersion"
    }
   ],
   "dockerImageVersionId": 30761,
   "isGpuEnabled": true,
   "isInternetEnabled": true,
   "language": "python",
   "sourceType": "notebook"
  },
  "kernelspec": {
   "display_name": "Python 3",
   "language": "python",
   "name": "python3"
  },
  "language_info": {
   "codemirror_mode": {
    "name": "ipython",
    "version": 3
   },
   "file_extension": ".py",
   "mimetype": "text/x-python",
   "name": "python",
   "nbconvert_exporter": "python",
   "pygments_lexer": "ipython3",
   "version": "3.10.14"
  },
  "papermill": {
   "default_parameters": {},
   "duration": 6486.228806,
   "end_time": "2024-12-15T09:30:02.900866",
   "environment_variables": {},
   "exception": null,
   "input_path": "__notebook__.ipynb",
   "output_path": "__notebook__.ipynb",
   "parameters": {},
   "start_time": "2024-12-15T07:41:56.672060",
   "version": "2.6.0"
  }
 },
 "nbformat": 4,
 "nbformat_minor": 5
}
