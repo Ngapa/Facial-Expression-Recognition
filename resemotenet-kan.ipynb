{
 "cells": [
  {
   "cell_type": "markdown",
   "id": "bc378315",
   "metadata": {
    "papermill": {
     "duration": 0.003376,
     "end_time": "2024-12-18T19:34:59.894435",
     "exception": false,
     "start_time": "2024-12-18T19:34:59.891059",
     "status": "completed"
    },
    "tags": []
   },
   "source": [
    "# Define KAN model architecture\n"
   ]
  },
  {
   "cell_type": "code",
   "execution_count": 1,
   "id": "2b38a1eb",
   "metadata": {
    "_cell_guid": "b1076dfc-b9ad-4769-8c92-a6c4dae69d19",
    "_uuid": "8f2839f25d086af736a60e9eeb907d3b93b6e0e5",
    "execution": {
     "iopub.execute_input": "2024-12-18T19:34:59.902493Z",
     "iopub.status.busy": "2024-12-18T19:34:59.902144Z",
     "iopub.status.idle": "2024-12-18T19:35:07.597172Z",
     "shell.execute_reply": "2024-12-18T19:35:07.595945Z"
    },
    "papermill": {
     "duration": 7.702303,
     "end_time": "2024-12-18T19:35:07.599817",
     "exception": false,
     "start_time": "2024-12-18T19:34:59.897514",
     "status": "completed"
    },
    "tags": []
   },
   "outputs": [],
   "source": [
    "import torch\n",
    "from torch import nn\n",
    "from torch.utils.data import DataLoader\n",
    "import torch.optim as optim\n",
    "from torchvision import datasets, transforms\n",
    "import random\n",
    "import numpy as np\n",
    "import argparse\n",
    "import torch.nn.functional as F\n",
    "import math\n",
    "from typing import List, Tuple, Union\n",
    "import warnings\n",
    "from sklearn.metrics import confusion_matrix, classification_report\n",
    "\n",
    "import matplotlib.pyplot as plt\n",
    "import seaborn as sns\n",
    "import pandas as pd\n",
    "from tqdm import tqdm\n",
    "\n",
    "class KANLinear(torch.nn.Module):\n",
    "    def __init__(\n",
    "        self,\n",
    "        in_features,\n",
    "        out_features,\n",
    "        grid_size=5,\n",
    "        spline_order=3,\n",
    "        scale_noise=0.1,\n",
    "        scale_base=1.0,\n",
    "        scale_spline=1.0,\n",
    "        enable_standalone_scale_spline=True,\n",
    "        base_activation=torch.nn.SiLU,\n",
    "        grid_eps=0.02,\n",
    "        grid_range=[-1, 1],\n",
    "    ):\n",
    "        super(KANLinear, self).__init__()\n",
    "        self.in_features = in_features\n",
    "        self.out_features = out_features\n",
    "        self.grid_size = grid_size\n",
    "        self.spline_order = spline_order\n",
    "\n",
    "        h = (grid_range[1] - grid_range[0]) / grid_size\n",
    "        grid = (\n",
    "            (\n",
    "                torch.arange(-spline_order, grid_size + spline_order + 1) * h\n",
    "                + grid_range[0]\n",
    "            )\n",
    "            .expand(in_features, -1)\n",
    "            .contiguous()\n",
    "        )\n",
    "        self.register_buffer(\"grid\", grid)\n",
    "\n",
    "        self.base_weight = torch.nn.Parameter(torch.Tensor(out_features, in_features))\n",
    "        self.spline_weight = torch.nn.Parameter(\n",
    "            torch.Tensor(out_features, in_features, grid_size + spline_order)\n",
    "        )\n",
    "        if enable_standalone_scale_spline:\n",
    "            self.spline_scaler = torch.nn.Parameter(\n",
    "                torch.Tensor(out_features, in_features)\n",
    "            )\n",
    "\n",
    "        self.scale_noise = scale_noise\n",
    "        self.scale_base = scale_base\n",
    "        self.scale_spline = scale_spline\n",
    "        self.enable_standalone_scale_spline = enable_standalone_scale_spline\n",
    "        self.base_activation = base_activation()\n",
    "        self.grid_eps = grid_eps\n",
    "\n",
    "        self.reset_parameters()\n",
    "\n",
    "    def reset_parameters(self):\n",
    "        torch.nn.init.kaiming_uniform_(self.base_weight, a=math.sqrt(5) * self.scale_base)\n",
    "        with torch.no_grad():\n",
    "            noise = (\n",
    "                (\n",
    "                    torch.rand(self.grid_size + 1, self.in_features, self.out_features)\n",
    "                    - 1 / 2\n",
    "                )\n",
    "                * self.scale_noise\n",
    "                / self.grid_size\n",
    "            )\n",
    "            self.spline_weight.data.copy_(\n",
    "                (self.scale_spline if not self.enable_standalone_scale_spline else 1.0)\n",
    "                * self.curve2coeff(\n",
    "                    self.grid.T[self.spline_order : -self.spline_order],\n",
    "                    noise,\n",
    "                )\n",
    "            )\n",
    "            if self.enable_standalone_scale_spline:\n",
    "                # torch.nn.init.constant_(self.spline_scaler, self.scale_spline)\n",
    "                torch.nn.init.kaiming_uniform_(self.spline_scaler, a=math.sqrt(5) * self.scale_spline)\n",
    "\n",
    "    def b_splines(self, x: torch.Tensor):\n",
    "        \"\"\"\n",
    "        Compute the B-spline bases for the given input tensor.\n",
    "\n",
    "        Args:\n",
    "            x (torch.Tensor): Input tensor of shape (batch_size, in_features).\n",
    "\n",
    "        Returns:\n",
    "            torch.Tensor: B-spline bases tensor of shape (batch_size, in_features, grid_size + spline_order).\n",
    "        \"\"\"\n",
    "        assert x.dim() == 2 and x.size(1) == self.in_features\n",
    "\n",
    "        grid: torch.Tensor = (\n",
    "            self.grid\n",
    "        )  # (in_features, grid_size + 2 * spline_order + 1)\n",
    "        x = x.unsqueeze(-1)\n",
    "        bases = ((x >= grid[:, :-1]) & (x < grid[:, 1:])).to(x.dtype)\n",
    "        for k in range(1, self.spline_order + 1):\n",
    "            bases = (\n",
    "                (x - grid[:, : -(k + 1)])\n",
    "                / (grid[:, k:-1] - grid[:, : -(k + 1)])\n",
    "                * bases[:, :, :-1]\n",
    "            ) + (\n",
    "                (grid[:, k + 1 :] - x)\n",
    "                / (grid[:, k + 1 :] - grid[:, 1:(-k)])\n",
    "                * bases[:, :, 1:]\n",
    "            )\n",
    "\n",
    "        assert bases.size() == (\n",
    "            x.size(0),\n",
    "            self.in_features,\n",
    "            self.grid_size + self.spline_order,\n",
    "        )\n",
    "        return bases.contiguous()\n",
    "\n",
    "    def curve2coeff(self, x: torch.Tensor, y: torch.Tensor):\n",
    "        \"\"\"\n",
    "        Compute the coefficients of the curve that interpolates the given points.\n",
    "\n",
    "        Args:\n",
    "            x (torch.Tensor): Input tensor of shape (batch_size, in_features).\n",
    "            y (torch.Tensor): Output tensor of shape (batch_size, in_features, out_features).\n",
    "\n",
    "        Returns:\n",
    "            torch.Tensor: Coefficients tensor of shape (out_features, in_features, grid_size + spline_order).\n",
    "        \"\"\"\n",
    "        assert x.dim() == 2 and x.size(1) == self.in_features\n",
    "        assert y.size() == (x.size(0), self.in_features, self.out_features)\n",
    "\n",
    "        A = self.b_splines(x).transpose(\n",
    "            0, 1\n",
    "        )  # (in_features, batch_size, grid_size + spline_order)\n",
    "        B = y.transpose(0, 1)  # (in_features, batch_size, out_features)\n",
    "        solution = torch.linalg.lstsq(\n",
    "            A, B\n",
    "        ).solution  # (in_features, grid_size + spline_order, out_features)\n",
    "        result = solution.permute(\n",
    "            2, 0, 1\n",
    "        )  # (out_features, in_features, grid_size + spline_order)\n",
    "\n",
    "        assert result.size() == (\n",
    "            self.out_features,\n",
    "            self.in_features,\n",
    "            self.grid_size + self.spline_order,\n",
    "        )\n",
    "        return result.contiguous()\n",
    "\n",
    "    @property\n",
    "    def scaled_spline_weight(self):\n",
    "        return self.spline_weight * (\n",
    "            self.spline_scaler.unsqueeze(-1)\n",
    "            if self.enable_standalone_scale_spline\n",
    "            else 1.0\n",
    "        )\n",
    "\n",
    "    def forward(self, x: torch.Tensor):\n",
    "        assert x.dim() == 2 and x.size(1) == self.in_features\n",
    "\n",
    "        base_output = F.linear(self.base_activation(x), self.base_weight)\n",
    "        spline_output = F.linear(\n",
    "            self.b_splines(x).view(x.size(0), -1),\n",
    "            self.scaled_spline_weight.view(self.out_features, -1),\n",
    "        )\n",
    "        return base_output + spline_output\n",
    "\n",
    "    @torch.no_grad()\n",
    "    def update_grid(self, x: torch.Tensor, margin=0.01):\n",
    "        assert x.dim() == 2 and x.size(1) == self.in_features\n",
    "        batch = x.size(0)\n",
    "\n",
    "        splines = self.b_splines(x)  # (batch, in, coeff)\n",
    "        splines = splines.permute(1, 0, 2)  # (in, batch, coeff)\n",
    "        orig_coeff = self.scaled_spline_weight  # (out, in, coeff)\n",
    "        orig_coeff = orig_coeff.permute(1, 2, 0)  # (in, coeff, out)\n",
    "        unreduced_spline_output = torch.bmm(splines, orig_coeff)  # (in, batch, out)\n",
    "        unreduced_spline_output = unreduced_spline_output.permute(\n",
    "            1, 0, 2\n",
    "        )  # (batch, in, out)\n",
    "\n",
    "        # sort each channel individually to collect data distribution\n",
    "        x_sorted = torch.sort(x, dim=0)[0]\n",
    "        grid_adaptive = x_sorted[\n",
    "            torch.linspace(\n",
    "                0, batch - 1, self.grid_size + 1, dtype=torch.int64, device=x.device\n",
    "            )\n",
    "        ]\n",
    "\n",
    "        uniform_step = (x_sorted[-1] - x_sorted[0] + 2 * margin) / self.grid_size\n",
    "        grid_uniform = (\n",
    "            torch.arange(\n",
    "                self.grid_size + 1, dtype=torch.float32, device=x.device\n",
    "            ).unsqueeze(1)\n",
    "            * uniform_step\n",
    "            + x_sorted[0]\n",
    "            - margin\n",
    "        )\n",
    "\n",
    "        grid = self.grid_eps * grid_uniform + (1 - self.grid_eps) * grid_adaptive\n",
    "        grid = torch.concatenate(\n",
    "            [\n",
    "                grid[:1]\n",
    "                - uniform_step\n",
    "                * torch.arange(self.spline_order, 0, -1, device=x.device).unsqueeze(1),\n",
    "                grid,\n",
    "                grid[-1:]\n",
    "                + uniform_step\n",
    "                * torch.arange(1, self.spline_order + 1, device=x.device).unsqueeze(1),\n",
    "            ],\n",
    "            dim=0,\n",
    "        )\n",
    "\n",
    "        self.grid.copy_(grid.T)\n",
    "        self.spline_weight.data.copy_(self.curve2coeff(x, unreduced_spline_output))\n",
    "\n",
    "    def regularization_loss(self, regularize_activation=1.0, regularize_entropy=1.0):\n",
    "        \"\"\"\n",
    "        Compute the regularization loss.\n",
    "\n",
    "        This is a dumb simulation of the original L1 regularization as stated in the\n",
    "        paper, since the original one requires computing absolutes and entropy from the\n",
    "        expanded (batch, in_features, out_features) intermediate tensor, which is hidden\n",
    "        behind the F.linear function if we want an memory efficient implementation.\n",
    "\n",
    "        The L1 regularization is now computed as mean absolute value of the spline\n",
    "        weights. The authors implementation also includes this term in addition to the\n",
    "        sample-based regularization.\n",
    "        \"\"\"\n",
    "        l1_fake = self.spline_weight.abs().mean(-1)\n",
    "        regularization_loss_activation = l1_fake.sum()\n",
    "        p = l1_fake / regularization_loss_activation\n",
    "        regularization_loss_entropy = -torch.sum(p * p.log())\n",
    "        return (\n",
    "            regularize_activation * regularization_loss_activation\n",
    "            + regularize_entropy * regularization_loss_entropy\n",
    "        )\n",
    "\n",
    "\n",
    "class SEBlock(nn.Module):\n",
    "    def __init__(self, in_channels, reduction=16):\n",
    "        super(SEBlock, self).__init__()\n",
    "        self.avg_pool = nn.AdaptiveAvgPool2d(1)\n",
    "        self.fc = nn.Sequential(\n",
    "            nn.Linear(in_channels, in_channels // reduction, bias=False),\n",
    "            nn.ReLU(inplace=True),\n",
    "            nn.Linear(in_channels // reduction, in_channels, bias=False),\n",
    "            nn.Sigmoid()\n",
    "        )\n",
    "\n",
    "    def forward(self, x):\n",
    "        b, c, _, _ = x.size()\n",
    "        y = self.avg_pool(x).view(b, c)\n",
    "        y = self.fc(y).view(b, c, 1, 1)\n",
    "        return x * y.expand_as(x)\n",
    "\n",
    "\n",
    "class ResidualBlock(nn.Module):\n",
    "    def __init__(self, in_ch, out_ch, stride=1):\n",
    "        super(ResidualBlock, self).__init__()\n",
    "        self.conv1 = nn.Conv2d(in_ch, out_ch, kernel_size=3, stride=stride, padding=1)\n",
    "        self.bn1 = nn.BatchNorm2d(out_ch)\n",
    "        self.conv2 = nn.Conv2d(out_ch, out_ch, kernel_size=3, stride=1, padding=1)\n",
    "        self.bn2 = nn.BatchNorm2d(out_ch)\n",
    "\n",
    "        self.shortcut = nn.Sequential()\n",
    "        if stride != 1 or in_ch != out_ch:\n",
    "            self.shortcut = nn.Sequential(\n",
    "                nn.Conv2d(in_ch, out_ch, kernel_size=1, stride=stride, padding=0),\n",
    "                nn.BatchNorm2d(out_ch)\n",
    "            )\n",
    "\n",
    "    def forward(self, x):\n",
    "        out = F.relu(self.bn1(self.conv1(x)))\n",
    "        out = self.bn2(self.conv2(out))\n",
    "        out += self.shortcut(x)\n",
    "        out = F.relu(out)\n",
    "        return out\n",
    "\n",
    "\n",
    "\n",
    "class ResEmoteNetKAN(nn.Module):\n",
    "    def __init__(self, dropout_rate=0.3):\n",
    "        super(ResEmoteNetKAN, self).__init__()\n",
    "        # Initial layers with gradual channel increase\n",
    "        self.conv1 = nn.Conv2d(1, 32, kernel_size=3, padding=1)\n",
    "        self.bn1 = nn.BatchNorm2d(32)\n",
    "        self.conv2 = nn.Conv2d(32, 64, kernel_size=3, padding=1)\n",
    "        self.bn2 = nn.BatchNorm2d(64)\n",
    "        self.conv3 = nn.Conv2d(64, 128, kernel_size=3, padding=1)  # Reduced from 128\n",
    "        self.bn3 = nn.BatchNorm2d(128)\n",
    "        \n",
    "        # SE blocks after each major block\n",
    "        self.se1 = SEBlock(128)\n",
    "        self.se2 = SEBlock(256)\n",
    "        self.se3 = SEBlock(512)\n",
    "        \n",
    "        # Modified residual blocks with smoother transitions\n",
    "        self.res_block1 = ResidualBlock(128, 256, stride=2)\n",
    "        self.res_block2 = ResidualBlock(256, 512, stride=2)\n",
    "        self.res_block3 = ResidualBlock(512, 1024, stride=2)  # Reduced from 1024\n",
    "        \n",
    "        # Global pooling\n",
    "        self.pool = nn.AdaptiveAvgPool2d((1, 1))\n",
    "        \n",
    "        # Modified KAN layers with batch norm and smoother transitions\n",
    "        self.kan_block1 = KANLinear(1024,512)\n",
    "        self.kan_block2 = KANLinear(512,256)\n",
    "        self.kan_block3 = KANLinear(256,128)\n",
    "        \n",
    "        # self.kan_block2 = nn.Sequential(\n",
    "        #     FastKANLayer(512, 256),\n",
    "        #     nn.BatchNorm1d(256),\n",
    "        #     nn.ReLU(),\n",
    "        #     nn.Dropout(dropout_rate)\n",
    "        # )\n",
    "        \n",
    "        # self.kan_block3 = nn.Sequential(\n",
    "        #     FastKANLayer(256, 128),\n",
    "        #     nn.BatchNorm1d(128),\n",
    "        #     nn.ReLU(),\n",
    "        #     nn.Dropout(dropout_rate)\n",
    "        # )\n",
    "        \n",
    "        # Final classification layer with reduced complexity\n",
    "        self.classifier = KANLinear(128, 7)\n",
    "        \n",
    "    #     # Initialize weights\n",
    "    #     self._initialize_weights()\n",
    "    \n",
    "    # def _initialize_weights(self):\n",
    "    #     for m in self.modules():\n",
    "    #         if isinstance(m, (nn.Conv2d, SplineConv2D)):\n",
    "    #             nn.init.kaiming_normal_(m.weight, mode='fan_out', nonlinearity='relu')\n",
    "    #             if m.bias is not None:\n",
    "    #                 nn.init.constant_(m.bias, 0)\n",
    "    #         elif isinstance(m, nn.BatchNorm2d):\n",
    "    #             nn.init.constant_(m.weight, 1)\n",
    "    #             nn.init.constant_(m.bias, 0)\n",
    "    #         elif isinstance(m, nn.Linear):\n",
    "    #             nn.init.normal_(m.weight, 0, 0.01)\n",
    "    #             if m.bias is not None:\n",
    "    #                 nn.init.constant_(m.bias, 0)\n",
    "\n",
    "    def forward(self, x):\n",
    "        # Initial convolutions with activation and pooling\n",
    "        x = F.relu(self.bn1(self.conv1(x)))\n",
    "        x = F.max_pool2d(x, 2)\n",
    "        \n",
    "        x = F.relu(self.bn2(self.conv2(x)))\n",
    "        x = F.max_pool2d(x, 2)\n",
    "        \n",
    "        x = F.relu(self.bn3(self.conv3(x)))\n",
    "        x = self.se1(x)\n",
    "        x = F.max_pool2d(x, 2)\n",
    "        \n",
    "        # Residual blocks with SE attention\n",
    "        x = self.res_block1(x)\n",
    "        x = self.se2(x)\n",
    "        \n",
    "        x = self.res_block2(x)\n",
    "        x = self.se3(x)\n",
    "        \n",
    "        x = self.res_block3(x)\n",
    "        \n",
    "        # Global pooling and flatten\n",
    "        x = self.pool(x)\n",
    "        x = x.view(x.size(0), -1)\n",
    "        \n",
    "        # KAN blocks with batch norm and dropout\n",
    "        x = self.kan_block1(x)\n",
    "        x = self.kan_block2(x)\n",
    "        x = self.kan_block3(x)\n",
    "        \n",
    "        # Final classification\n",
    "        x = self.classifier(x)\n",
    "        \n",
    "        return x"
   ]
  },
  {
   "cell_type": "markdown",
   "id": "a1b8e07b",
   "metadata": {
    "papermill": {
     "duration": 0.002559,
     "end_time": "2024-12-18T19:35:07.605460",
     "exception": false,
     "start_time": "2024-12-18T19:35:07.602901",
     "status": "completed"
    },
    "tags": []
   },
   "source": [
    "# Training KAN Model"
   ]
  },
  {
   "cell_type": "code",
   "execution_count": 2,
   "id": "4c41d6f1",
   "metadata": {
    "execution": {
     "iopub.execute_input": "2024-12-18T19:35:07.613314Z",
     "iopub.status.busy": "2024-12-18T19:35:07.612279Z",
     "iopub.status.idle": "2024-12-18T20:44:17.082170Z",
     "shell.execute_reply": "2024-12-18T20:44:17.080871Z"
    },
    "papermill": {
     "duration": 4149.475897,
     "end_time": "2024-12-18T20:44:17.084102",
     "exception": false,
     "start_time": "2024-12-18T19:35:07.608205",
     "status": "completed"
    },
    "tags": []
   },
   "outputs": [
    {
     "name": "stdout",
     "output_type": "stream",
     "text": [
      "Using cuda device\n",
      "Training set size: 28709\n",
      "Validation set size: 7178\n"
     ]
    },
    {
     "name": "stderr",
     "output_type": "stream",
     "text": [
      "Epoch 1/80 [Train]: 100%|██████████| 1795/1795 [01:16<00:00, 23.55it/s, loss=0.1041, acc=32.28%]\n",
      "Validation: 100%|██████████| 449/449 [00:16<00:00, 26.72it/s]\n"
     ]
    },
    {
     "name": "stdout",
     "output_type": "stream",
     "text": [
      "\n",
      "Epoch 1:\n",
      "Train Loss: 1.6654, Train Acc: 0.3228\n",
      "Val Loss: 1.4904, Val Acc: 0.4000\n"
     ]
    },
    {
     "name": "stderr",
     "output_type": "stream",
     "text": [
      "Epoch 2/80 [Train]: 100%|██████████| 1795/1795 [01:01<00:00, 29.30it/s, loss=0.0933, acc=40.65%]\n",
      "Validation: 100%|██████████| 449/449 [00:05<00:00, 78.20it/s]\n"
     ]
    },
    {
     "name": "stdout",
     "output_type": "stream",
     "text": [
      "\n",
      "Epoch 2:\n",
      "Train Loss: 1.4929, Train Acc: 0.4065\n",
      "Val Loss: 1.4330, Val Acc: 0.4486\n"
     ]
    },
    {
     "name": "stderr",
     "output_type": "stream",
     "text": [
      "Epoch 3/80 [Train]: 100%|██████████| 1795/1795 [01:00<00:00, 29.54it/s, loss=0.0873, acc=45.28%]\n",
      "Validation: 100%|██████████| 449/449 [00:05<00:00, 79.89it/s]\n"
     ]
    },
    {
     "name": "stdout",
     "output_type": "stream",
     "text": [
      "\n",
      "Epoch 3:\n",
      "Train Loss: 1.3965, Train Acc: 0.4528\n",
      "Val Loss: 1.2923, Val Acc: 0.4921\n"
     ]
    },
    {
     "name": "stderr",
     "output_type": "stream",
     "text": [
      "Epoch 4/80 [Train]: 100%|██████████| 1795/1795 [01:00<00:00, 29.69it/s, loss=0.0832, acc=48.03%]\n",
      "Validation: 100%|██████████| 449/449 [00:05<00:00, 79.49it/s]\n"
     ]
    },
    {
     "name": "stdout",
     "output_type": "stream",
     "text": [
      "\n",
      "Epoch 4:\n",
      "Train Loss: 1.3306, Train Acc: 0.4803\n",
      "Val Loss: 1.2623, Val Acc: 0.5042\n"
     ]
    },
    {
     "name": "stderr",
     "output_type": "stream",
     "text": [
      "Epoch 5/80 [Train]: 100%|██████████| 1795/1795 [01:00<00:00, 29.52it/s, loss=0.0807, acc=50.37%]\n",
      "Validation: 100%|██████████| 449/449 [00:05<00:00, 80.78it/s]\n"
     ]
    },
    {
     "name": "stdout",
     "output_type": "stream",
     "text": [
      "\n",
      "Epoch 5:\n",
      "Train Loss: 1.2905, Train Acc: 0.5037\n",
      "Val Loss: 1.2388, Val Acc: 0.5208\n"
     ]
    },
    {
     "name": "stderr",
     "output_type": "stream",
     "text": [
      "Epoch 6/80 [Train]: 100%|██████████| 1795/1795 [01:01<00:00, 29.38it/s, loss=0.0782, acc=51.72%]\n",
      "Validation: 100%|██████████| 449/449 [00:05<00:00, 80.85it/s]\n"
     ]
    },
    {
     "name": "stdout",
     "output_type": "stream",
     "text": [
      "\n",
      "Epoch 6:\n",
      "Train Loss: 1.2504, Train Acc: 0.5172\n",
      "Val Loss: 1.1915, Val Acc: 0.5355\n"
     ]
    },
    {
     "name": "stderr",
     "output_type": "stream",
     "text": [
      "Epoch 7/80 [Train]: 100%|██████████| 1795/1795 [01:00<00:00, 29.69it/s, loss=0.0766, acc=52.89%]\n",
      "Validation: 100%|██████████| 449/449 [00:05<00:00, 78.47it/s]\n"
     ]
    },
    {
     "name": "stdout",
     "output_type": "stream",
     "text": [
      "\n",
      "Epoch 7:\n",
      "Train Loss: 1.2246, Train Acc: 0.5289\n",
      "Val Loss: 1.1656, Val Acc: 0.5549\n"
     ]
    },
    {
     "name": "stderr",
     "output_type": "stream",
     "text": [
      "Epoch 8/80 [Train]: 100%|██████████| 1795/1795 [01:00<00:00, 29.53it/s, loss=0.0748, acc=54.36%]\n",
      "Validation: 100%|██████████| 449/449 [00:05<00:00, 77.96it/s]\n"
     ]
    },
    {
     "name": "stdout",
     "output_type": "stream",
     "text": [
      "\n",
      "Epoch 8:\n",
      "Train Loss: 1.1968, Train Acc: 0.5436\n",
      "Val Loss: 1.1492, Val Acc: 0.5577\n"
     ]
    },
    {
     "name": "stderr",
     "output_type": "stream",
     "text": [
      "Epoch 9/80 [Train]: 100%|██████████| 1795/1795 [01:01<00:00, 29.39it/s, loss=0.0731, acc=55.80%]\n",
      "Validation: 100%|██████████| 449/449 [00:05<00:00, 80.70it/s]\n"
     ]
    },
    {
     "name": "stdout",
     "output_type": "stream",
     "text": [
      "\n",
      "Epoch 9:\n",
      "Train Loss: 1.1697, Train Acc: 0.5580\n",
      "Val Loss: 1.1224, Val Acc: 0.5691\n"
     ]
    },
    {
     "name": "stderr",
     "output_type": "stream",
     "text": [
      "Epoch 10/80 [Train]: 100%|██████████| 1795/1795 [01:00<00:00, 29.44it/s, loss=0.0715, acc=56.95%]\n",
      "Validation: 100%|██████████| 449/449 [00:05<00:00, 77.35it/s]\n"
     ]
    },
    {
     "name": "stdout",
     "output_type": "stream",
     "text": [
      "\n",
      "Epoch 10:\n",
      "Train Loss: 1.1431, Train Acc: 0.5695\n",
      "Val Loss: 1.1179, Val Acc: 0.5783\n"
     ]
    },
    {
     "name": "stderr",
     "output_type": "stream",
     "text": [
      "Epoch 11/80 [Train]: 100%|██████████| 1795/1795 [01:00<00:00, 29.53it/s, loss=0.0699, acc=57.57%]\n",
      "Validation: 100%|██████████| 449/449 [00:06<00:00, 74.38it/s]\n"
     ]
    },
    {
     "name": "stdout",
     "output_type": "stream",
     "text": [
      "\n",
      "Epoch 11:\n",
      "Train Loss: 1.1182, Train Acc: 0.5757\n",
      "Val Loss: 1.0994, Val Acc: 0.5836\n"
     ]
    },
    {
     "name": "stderr",
     "output_type": "stream",
     "text": [
      "Epoch 12/80 [Train]: 100%|██████████| 1795/1795 [01:01<00:00, 29.36it/s, loss=0.0687, acc=58.37%]\n",
      "Validation: 100%|██████████| 449/449 [00:05<00:00, 81.02it/s]\n"
     ]
    },
    {
     "name": "stdout",
     "output_type": "stream",
     "text": [
      "\n",
      "Epoch 12:\n",
      "Train Loss: 1.0980, Train Acc: 0.5837\n",
      "Val Loss: 1.0855, Val Acc: 0.5893\n"
     ]
    },
    {
     "name": "stderr",
     "output_type": "stream",
     "text": [
      "Epoch 13/80 [Train]: 100%|██████████| 1795/1795 [01:01<00:00, 29.40it/s, loss=0.0676, acc=59.31%]\n",
      "Validation: 100%|██████████| 449/449 [00:05<00:00, 79.69it/s]\n"
     ]
    },
    {
     "name": "stdout",
     "output_type": "stream",
     "text": [
      "\n",
      "Epoch 13:\n",
      "Train Loss: 1.0812, Train Acc: 0.5931\n",
      "Val Loss: 1.0781, Val Acc: 0.5926\n"
     ]
    },
    {
     "name": "stderr",
     "output_type": "stream",
     "text": [
      "Epoch 14/80 [Train]: 100%|██████████| 1795/1795 [01:00<00:00, 29.50it/s, loss=0.0660, acc=60.54%]\n",
      "Validation: 100%|██████████| 449/449 [00:05<00:00, 81.73it/s]\n"
     ]
    },
    {
     "name": "stdout",
     "output_type": "stream",
     "text": [
      "\n",
      "Epoch 14:\n",
      "Train Loss: 1.0560, Train Acc: 0.6054\n",
      "Val Loss: 1.0915, Val Acc: 0.5963\n"
     ]
    },
    {
     "name": "stderr",
     "output_type": "stream",
     "text": [
      "Epoch 15/80 [Train]: 100%|██████████| 1795/1795 [01:00<00:00, 29.50it/s, loss=0.0650, acc=61.02%]\n",
      "Validation: 100%|██████████| 449/449 [00:05<00:00, 81.23it/s]\n"
     ]
    },
    {
     "name": "stdout",
     "output_type": "stream",
     "text": [
      "\n",
      "Epoch 15:\n",
      "Train Loss: 1.0402, Train Acc: 0.6102\n",
      "Val Loss: 1.0457, Val Acc: 0.6087\n"
     ]
    },
    {
     "name": "stderr",
     "output_type": "stream",
     "text": [
      "Epoch 16/80 [Train]: 100%|██████████| 1795/1795 [01:00<00:00, 29.67it/s, loss=0.0637, acc=62.30%]\n",
      "Validation: 100%|██████████| 449/449 [00:05<00:00, 80.65it/s]\n"
     ]
    },
    {
     "name": "stdout",
     "output_type": "stream",
     "text": [
      "\n",
      "Epoch 16:\n",
      "Train Loss: 1.0181, Train Acc: 0.6230\n",
      "Val Loss: 1.0627, Val Acc: 0.6028\n",
      "No improvement for 1 epochs.\n"
     ]
    },
    {
     "name": "stderr",
     "output_type": "stream",
     "text": [
      "Epoch 17/80 [Train]: 100%|██████████| 1795/1795 [01:00<00:00, 29.65it/s, loss=0.0625, acc=62.73%]\n",
      "Validation: 100%|██████████| 449/449 [00:05<00:00, 80.43it/s]\n"
     ]
    },
    {
     "name": "stdout",
     "output_type": "stream",
     "text": [
      "\n",
      "Epoch 17:\n",
      "Train Loss: 1.0001, Train Acc: 0.6273\n",
      "Val Loss: 1.0462, Val Acc: 0.6081\n",
      "No improvement for 2 epochs.\n"
     ]
    },
    {
     "name": "stderr",
     "output_type": "stream",
     "text": [
      "Epoch 18/80 [Train]: 100%|██████████| 1795/1795 [01:01<00:00, 29.32it/s, loss=0.0616, acc=63.67%]\n",
      "Validation: 100%|██████████| 449/449 [00:06<00:00, 73.43it/s]\n"
     ]
    },
    {
     "name": "stdout",
     "output_type": "stream",
     "text": [
      "\n",
      "Epoch 18:\n",
      "Train Loss: 0.9853, Train Acc: 0.6367\n",
      "Val Loss: 1.0477, Val Acc: 0.6094\n"
     ]
    },
    {
     "name": "stderr",
     "output_type": "stream",
     "text": [
      "Epoch 19/80 [Train]: 100%|██████████| 1795/1795 [01:01<00:00, 29.18it/s, loss=0.0607, acc=64.04%]\n",
      "Validation: 100%|██████████| 449/449 [00:06<00:00, 70.73it/s]\n"
     ]
    },
    {
     "name": "stdout",
     "output_type": "stream",
     "text": [
      "\n",
      "Epoch 19:\n",
      "Train Loss: 0.9709, Train Acc: 0.6404\n",
      "Val Loss: 1.0196, Val Acc: 0.6197\n"
     ]
    },
    {
     "name": "stderr",
     "output_type": "stream",
     "text": [
      "Epoch 20/80 [Train]: 100%|██████████| 1795/1795 [01:01<00:00, 29.21it/s, loss=0.0594, acc=64.97%]\n",
      "Validation: 100%|██████████| 449/449 [00:05<00:00, 80.78it/s]\n"
     ]
    },
    {
     "name": "stdout",
     "output_type": "stream",
     "text": [
      "\n",
      "Epoch 20:\n",
      "Train Loss: 0.9500, Train Acc: 0.6497\n",
      "Val Loss: 1.0155, Val Acc: 0.6206\n"
     ]
    },
    {
     "name": "stderr",
     "output_type": "stream",
     "text": [
      "Epoch 21/80 [Train]: 100%|██████████| 1795/1795 [01:00<00:00, 29.57it/s, loss=0.0587, acc=65.08%]\n",
      "Validation: 100%|██████████| 449/449 [00:05<00:00, 81.38it/s]\n"
     ]
    },
    {
     "name": "stdout",
     "output_type": "stream",
     "text": [
      "\n",
      "Epoch 21:\n",
      "Train Loss: 0.9383, Train Acc: 0.6508\n",
      "Val Loss: 1.0180, Val Acc: 0.6273\n"
     ]
    },
    {
     "name": "stderr",
     "output_type": "stream",
     "text": [
      "Epoch 22/80 [Train]: 100%|██████████| 1795/1795 [01:00<00:00, 29.52it/s, loss=0.0574, acc=65.91%]\n",
      "Validation: 100%|██████████| 449/449 [00:05<00:00, 80.36it/s]\n"
     ]
    },
    {
     "name": "stdout",
     "output_type": "stream",
     "text": [
      "\n",
      "Epoch 22:\n",
      "Train Loss: 0.9188, Train Acc: 0.6591\n",
      "Val Loss: 1.0146, Val Acc: 0.6251\n",
      "No improvement for 1 epochs.\n"
     ]
    },
    {
     "name": "stderr",
     "output_type": "stream",
     "text": [
      "Epoch 23/80 [Train]: 100%|██████████| 1795/1795 [01:00<00:00, 29.44it/s, loss=0.0564, acc=66.84%]\n",
      "Validation: 100%|██████████| 449/449 [00:05<00:00, 81.47it/s]\n"
     ]
    },
    {
     "name": "stdout",
     "output_type": "stream",
     "text": [
      "\n",
      "Epoch 23:\n",
      "Train Loss: 0.9015, Train Acc: 0.6684\n",
      "Val Loss: 1.0204, Val Acc: 0.6268\n",
      "No improvement for 2 epochs.\n"
     ]
    },
    {
     "name": "stderr",
     "output_type": "stream",
     "text": [
      "Epoch 24/80 [Train]: 100%|██████████| 1795/1795 [01:00<00:00, 29.50it/s, loss=0.0557, acc=67.26%]\n",
      "Validation: 100%|██████████| 449/449 [00:05<00:00, 81.95it/s]\n"
     ]
    },
    {
     "name": "stdout",
     "output_type": "stream",
     "text": [
      "\n",
      "Epoch 24:\n",
      "Train Loss: 0.8916, Train Acc: 0.6726\n",
      "Val Loss: 1.0083, Val Acc: 0.6290\n"
     ]
    },
    {
     "name": "stderr",
     "output_type": "stream",
     "text": [
      "Epoch 25/80 [Train]: 100%|██████████| 1795/1795 [01:01<00:00, 29.22it/s, loss=0.0550, acc=67.76%]\n",
      "Validation: 100%|██████████| 449/449 [00:05<00:00, 81.12it/s]\n"
     ]
    },
    {
     "name": "stdout",
     "output_type": "stream",
     "text": [
      "\n",
      "Epoch 25:\n",
      "Train Loss: 0.8798, Train Acc: 0.6776\n",
      "Val Loss: 1.0144, Val Acc: 0.6283\n",
      "No improvement for 1 epochs.\n"
     ]
    },
    {
     "name": "stderr",
     "output_type": "stream",
     "text": [
      "Epoch 26/80 [Train]: 100%|██████████| 1795/1795 [01:01<00:00, 29.32it/s, loss=0.0536, acc=68.77%]\n",
      "Validation: 100%|██████████| 449/449 [00:05<00:00, 81.03it/s]\n"
     ]
    },
    {
     "name": "stdout",
     "output_type": "stream",
     "text": [
      "\n",
      "Epoch 26:\n",
      "Train Loss: 0.8573, Train Acc: 0.6877\n",
      "Val Loss: 0.9860, Val Acc: 0.6349\n"
     ]
    },
    {
     "name": "stderr",
     "output_type": "stream",
     "text": [
      "Epoch 27/80 [Train]: 100%|██████████| 1795/1795 [01:01<00:00, 29.40it/s, loss=0.0530, acc=68.89%]\n",
      "Validation: 100%|██████████| 449/449 [00:05<00:00, 80.13it/s]\n"
     ]
    },
    {
     "name": "stdout",
     "output_type": "stream",
     "text": [
      "\n",
      "Epoch 27:\n",
      "Train Loss: 0.8470, Train Acc: 0.6889\n",
      "Val Loss: 1.0218, Val Acc: 0.6266\n",
      "No improvement for 1 epochs.\n"
     ]
    },
    {
     "name": "stderr",
     "output_type": "stream",
     "text": [
      "Epoch 28/80 [Train]: 100%|██████████| 1795/1795 [01:01<00:00, 29.18it/s, loss=0.0519, acc=69.33%]\n",
      "Validation: 100%|██████████| 449/449 [00:05<00:00, 82.58it/s]\n"
     ]
    },
    {
     "name": "stdout",
     "output_type": "stream",
     "text": [
      "\n",
      "Epoch 28:\n",
      "Train Loss: 0.8294, Train Acc: 0.6933\n",
      "Val Loss: 1.0098, Val Acc: 0.6404\n"
     ]
    },
    {
     "name": "stderr",
     "output_type": "stream",
     "text": [
      "Epoch 29/80 [Train]: 100%|██████████| 1795/1795 [01:01<00:00, 29.27it/s, loss=0.0514, acc=69.81%]\n",
      "Validation: 100%|██████████| 449/449 [00:05<00:00, 80.50it/s]\n"
     ]
    },
    {
     "name": "stdout",
     "output_type": "stream",
     "text": [
      "\n",
      "Epoch 29:\n",
      "Train Loss: 0.8224, Train Acc: 0.6981\n",
      "Val Loss: 1.0151, Val Acc: 0.6362\n",
      "No improvement for 1 epochs.\n"
     ]
    },
    {
     "name": "stderr",
     "output_type": "stream",
     "text": [
      "Epoch 30/80 [Train]: 100%|██████████| 1795/1795 [01:01<00:00, 29.36it/s, loss=0.0510, acc=70.01%]\n",
      "Validation: 100%|██████████| 449/449 [00:05<00:00, 78.92it/s]\n"
     ]
    },
    {
     "name": "stdout",
     "output_type": "stream",
     "text": [
      "\n",
      "Epoch 30:\n",
      "Train Loss: 0.8160, Train Acc: 0.7001\n",
      "Val Loss: 0.9986, Val Acc: 0.6403\n",
      "No improvement for 2 epochs.\n"
     ]
    },
    {
     "name": "stderr",
     "output_type": "stream",
     "text": [
      "Epoch 31/80 [Train]: 100%|██████████| 1795/1795 [01:01<00:00, 29.34it/s, loss=0.0496, acc=71.14%]\n",
      "Validation: 100%|██████████| 449/449 [00:05<00:00, 75.48it/s]\n"
     ]
    },
    {
     "name": "stdout",
     "output_type": "stream",
     "text": [
      "\n",
      "Epoch 31:\n",
      "Train Loss: 0.7926, Train Acc: 0.7114\n",
      "Val Loss: 1.0174, Val Acc: 0.6374\n",
      "No improvement for 3 epochs.\n"
     ]
    },
    {
     "name": "stderr",
     "output_type": "stream",
     "text": [
      "Epoch 32/80 [Train]: 100%|██████████| 1795/1795 [01:01<00:00, 29.23it/s, loss=0.0490, acc=71.57%]\n",
      "Validation: 100%|██████████| 449/449 [00:05<00:00, 77.11it/s]\n"
     ]
    },
    {
     "name": "stdout",
     "output_type": "stream",
     "text": [
      "\n",
      "Epoch 32:\n",
      "Train Loss: 0.7836, Train Acc: 0.7157\n",
      "Val Loss: 1.0116, Val Acc: 0.6424\n"
     ]
    },
    {
     "name": "stderr",
     "output_type": "stream",
     "text": [
      "Epoch 33/80 [Train]: 100%|██████████| 1795/1795 [01:01<00:00, 29.24it/s, loss=0.0474, acc=72.33%]\n",
      "Validation: 100%|██████████| 449/449 [00:05<00:00, 78.26it/s]\n"
     ]
    },
    {
     "name": "stdout",
     "output_type": "stream",
     "text": [
      "\n",
      "Epoch 33:\n",
      "Train Loss: 0.7577, Train Acc: 0.7233\n",
      "Val Loss: 1.0260, Val Acc: 0.6346\n",
      "No improvement for 1 epochs.\n"
     ]
    },
    {
     "name": "stderr",
     "output_type": "stream",
     "text": [
      "Epoch 34/80 [Train]: 100%|██████████| 1795/1795 [01:01<00:00, 29.25it/s, loss=0.0474, acc=72.46%]\n",
      "Validation: 100%|██████████| 449/449 [00:05<00:00, 77.31it/s]\n"
     ]
    },
    {
     "name": "stdout",
     "output_type": "stream",
     "text": [
      "\n",
      "Epoch 34:\n",
      "Train Loss: 0.7580, Train Acc: 0.7246\n",
      "Val Loss: 0.9942, Val Acc: 0.6434\n"
     ]
    },
    {
     "name": "stderr",
     "output_type": "stream",
     "text": [
      "Epoch 35/80 [Train]: 100%|██████████| 1795/1795 [01:01<00:00, 29.34it/s, loss=0.0469, acc=72.65%]\n",
      "Validation: 100%|██████████| 449/449 [00:05<00:00, 80.08it/s]\n"
     ]
    },
    {
     "name": "stdout",
     "output_type": "stream",
     "text": [
      "\n",
      "Epoch 35:\n",
      "Train Loss: 0.7496, Train Acc: 0.7265\n",
      "Val Loss: 1.0185, Val Acc: 0.6431\n",
      "No improvement for 1 epochs.\n"
     ]
    },
    {
     "name": "stderr",
     "output_type": "stream",
     "text": [
      "Epoch 36/80 [Train]: 100%|██████████| 1795/1795 [01:01<00:00, 29.28it/s, loss=0.0453, acc=73.90%]\n",
      "Validation: 100%|██████████| 449/449 [00:05<00:00, 81.74it/s]\n"
     ]
    },
    {
     "name": "stdout",
     "output_type": "stream",
     "text": [
      "\n",
      "Epoch 36:\n",
      "Train Loss: 0.7245, Train Acc: 0.7390\n",
      "Val Loss: 1.0672, Val Acc: 0.6272\n",
      "No improvement for 2 epochs.\n"
     ]
    },
    {
     "name": "stderr",
     "output_type": "stream",
     "text": [
      "Epoch 37/80 [Train]: 100%|██████████| 1795/1795 [01:01<00:00, 29.41it/s, loss=0.0450, acc=73.84%]\n",
      "Validation: 100%|██████████| 449/449 [00:05<00:00, 81.52it/s]\n"
     ]
    },
    {
     "name": "stdout",
     "output_type": "stream",
     "text": [
      "\n",
      "Epoch 37:\n",
      "Train Loss: 0.7197, Train Acc: 0.7384\n",
      "Val Loss: 1.0256, Val Acc: 0.6389\n",
      "No improvement for 3 epochs.\n"
     ]
    },
    {
     "name": "stderr",
     "output_type": "stream",
     "text": [
      "Epoch 38/80 [Train]: 100%|██████████| 1795/1795 [01:01<00:00, 29.40it/s, loss=0.0437, acc=74.84%]\n",
      "Validation: 100%|██████████| 449/449 [00:05<00:00, 80.33it/s]\n"
     ]
    },
    {
     "name": "stdout",
     "output_type": "stream",
     "text": [
      "\n",
      "Epoch 38:\n",
      "Train Loss: 0.6991, Train Acc: 0.7484\n",
      "Val Loss: 1.0591, Val Acc: 0.6441\n"
     ]
    },
    {
     "name": "stderr",
     "output_type": "stream",
     "text": [
      "Epoch 39/80 [Train]: 100%|██████████| 1795/1795 [01:01<00:00, 29.29it/s, loss=0.0433, acc=75.05%]\n",
      "Validation: 100%|██████████| 449/449 [00:05<00:00, 82.67it/s]\n"
     ]
    },
    {
     "name": "stdout",
     "output_type": "stream",
     "text": [
      "\n",
      "Epoch 39:\n",
      "Train Loss: 0.6921, Train Acc: 0.7505\n",
      "Val Loss: 1.0721, Val Acc: 0.6386\n",
      "No improvement for 1 epochs.\n"
     ]
    },
    {
     "name": "stderr",
     "output_type": "stream",
     "text": [
      "Epoch 40/80 [Train]: 100%|██████████| 1795/1795 [01:01<00:00, 29.33it/s, loss=0.0427, acc=75.37%]\n",
      "Validation: 100%|██████████| 449/449 [00:05<00:00, 76.79it/s]\n"
     ]
    },
    {
     "name": "stdout",
     "output_type": "stream",
     "text": [
      "\n",
      "Epoch 40:\n",
      "Train Loss: 0.6822, Train Acc: 0.7537\n",
      "Val Loss: 1.0463, Val Acc: 0.6454\n"
     ]
    },
    {
     "name": "stderr",
     "output_type": "stream",
     "text": [
      "Epoch 41/80 [Train]: 100%|██████████| 1795/1795 [01:01<00:00, 29.22it/s, loss=0.0418, acc=75.93%]\n",
      "Validation: 100%|██████████| 449/449 [00:05<00:00, 77.07it/s]\n"
     ]
    },
    {
     "name": "stdout",
     "output_type": "stream",
     "text": [
      "\n",
      "Epoch 41:\n",
      "Train Loss: 0.6693, Train Acc: 0.7593\n",
      "Val Loss: 1.0506, Val Acc: 0.6453\n",
      "No improvement for 1 epochs.\n"
     ]
    },
    {
     "name": "stderr",
     "output_type": "stream",
     "text": [
      "Epoch 42/80 [Train]: 100%|██████████| 1795/1795 [01:01<00:00, 29.38it/s, loss=0.0409, acc=76.31%]\n",
      "Validation: 100%|██████████| 449/449 [00:05<00:00, 77.66it/s]\n"
     ]
    },
    {
     "name": "stdout",
     "output_type": "stream",
     "text": [
      "\n",
      "Epoch 42:\n",
      "Train Loss: 0.6541, Train Acc: 0.7631\n",
      "Val Loss: 1.1151, Val Acc: 0.6399\n",
      "No improvement for 2 epochs.\n"
     ]
    },
    {
     "name": "stderr",
     "output_type": "stream",
     "text": [
      "Epoch 43/80 [Train]: 100%|██████████| 1795/1795 [01:01<00:00, 29.14it/s, loss=0.0404, acc=76.60%]\n",
      "Validation: 100%|██████████| 449/449 [00:05<00:00, 80.20it/s]\n"
     ]
    },
    {
     "name": "stdout",
     "output_type": "stream",
     "text": [
      "\n",
      "Epoch 43:\n",
      "Train Loss: 0.6465, Train Acc: 0.7660\n",
      "Val Loss: 1.0504, Val Acc: 0.6438\n",
      "No improvement for 3 epochs.\n"
     ]
    },
    {
     "name": "stderr",
     "output_type": "stream",
     "text": [
      "Epoch 44/80 [Train]: 100%|██████████| 1795/1795 [01:01<00:00, 29.35it/s, loss=0.0395, acc=77.39%]\n",
      "Validation: 100%|██████████| 449/449 [00:05<00:00, 81.32it/s]\n"
     ]
    },
    {
     "name": "stdout",
     "output_type": "stream",
     "text": [
      "\n",
      "Epoch 44:\n",
      "Train Loss: 0.6321, Train Acc: 0.7739\n",
      "Val Loss: 1.1226, Val Acc: 0.6388\n",
      "No improvement for 4 epochs.\n"
     ]
    },
    {
     "name": "stderr",
     "output_type": "stream",
     "text": [
      "Epoch 45/80 [Train]: 100%|██████████| 1795/1795 [01:01<00:00, 29.37it/s, loss=0.0400, acc=77.07%]\n",
      "Validation: 100%|██████████| 449/449 [00:05<00:00, 82.05it/s]\n"
     ]
    },
    {
     "name": "stdout",
     "output_type": "stream",
     "text": [
      "\n",
      "Epoch 45:\n",
      "Train Loss: 0.6396, Train Acc: 0.7707\n",
      "Val Loss: 1.0692, Val Acc: 0.6431\n",
      "No improvement for 5 epochs.\n"
     ]
    },
    {
     "name": "stderr",
     "output_type": "stream",
     "text": [
      "Epoch 46/80 [Train]: 100%|██████████| 1795/1795 [01:00<00:00, 29.46it/s, loss=0.0388, acc=77.74%]\n",
      "Validation: 100%|██████████| 449/449 [00:05<00:00, 84.53it/s]\n"
     ]
    },
    {
     "name": "stdout",
     "output_type": "stream",
     "text": [
      "\n",
      "Epoch 46:\n",
      "Train Loss: 0.6203, Train Acc: 0.7774\n",
      "Val Loss: 1.0848, Val Acc: 0.6520\n"
     ]
    },
    {
     "name": "stderr",
     "output_type": "stream",
     "text": [
      "Epoch 47/80 [Train]: 100%|██████████| 1795/1795 [01:01<00:00, 29.37it/s, loss=0.0376, acc=78.62%]\n",
      "Validation: 100%|██████████| 449/449 [00:05<00:00, 78.40it/s]\n"
     ]
    },
    {
     "name": "stdout",
     "output_type": "stream",
     "text": [
      "\n",
      "Epoch 47:\n",
      "Train Loss: 0.6009, Train Acc: 0.7862\n",
      "Val Loss: 1.1194, Val Acc: 0.6450\n",
      "No improvement for 1 epochs.\n"
     ]
    },
    {
     "name": "stderr",
     "output_type": "stream",
     "text": [
      "Epoch 48/80 [Train]: 100%|██████████| 1795/1795 [01:00<00:00, 29.54it/s, loss=0.0370, acc=78.88%]\n",
      "Validation: 100%|██████████| 449/449 [00:05<00:00, 78.21it/s]\n"
     ]
    },
    {
     "name": "stdout",
     "output_type": "stream",
     "text": [
      "\n",
      "Epoch 48:\n",
      "Train Loss: 0.5924, Train Acc: 0.7888\n",
      "Val Loss: 1.1391, Val Acc: 0.6421\n",
      "No improvement for 2 epochs.\n"
     ]
    },
    {
     "name": "stderr",
     "output_type": "stream",
     "text": [
      "Epoch 49/80 [Train]: 100%|██████████| 1795/1795 [01:01<00:00, 29.32it/s, loss=0.0364, acc=79.18%]\n",
      "Validation: 100%|██████████| 449/449 [00:05<00:00, 79.50it/s]\n"
     ]
    },
    {
     "name": "stdout",
     "output_type": "stream",
     "text": [
      "\n",
      "Epoch 49:\n",
      "Train Loss: 0.5820, Train Acc: 0.7918\n",
      "Val Loss: 1.1283, Val Acc: 0.6431\n",
      "No improvement for 3 epochs.\n"
     ]
    },
    {
     "name": "stderr",
     "output_type": "stream",
     "text": [
      "Epoch 50/80 [Train]: 100%|██████████| 1795/1795 [01:01<00:00, 29.34it/s, loss=0.0360, acc=79.68%]\n",
      "Validation: 100%|██████████| 449/449 [00:05<00:00, 82.31it/s]\n"
     ]
    },
    {
     "name": "stdout",
     "output_type": "stream",
     "text": [
      "\n",
      "Epoch 50:\n",
      "Train Loss: 0.5760, Train Acc: 0.7968\n",
      "Val Loss: 1.1699, Val Acc: 0.6457\n",
      "No improvement for 4 epochs.\n"
     ]
    },
    {
     "name": "stderr",
     "output_type": "stream",
     "text": [
      "Epoch 51/80 [Train]: 100%|██████████| 1795/1795 [01:01<00:00, 29.19it/s, loss=0.0352, acc=79.86%]\n",
      "Validation: 100%|██████████| 449/449 [00:05<00:00, 78.16it/s]\n"
     ]
    },
    {
     "name": "stdout",
     "output_type": "stream",
     "text": [
      "\n",
      "Epoch 51:\n",
      "Train Loss: 0.5624, Train Acc: 0.7986\n",
      "Val Loss: 1.1355, Val Acc: 0.6407\n",
      "No improvement for 5 epochs.\n"
     ]
    },
    {
     "name": "stderr",
     "output_type": "stream",
     "text": [
      "Epoch 52/80 [Train]: 100%|██████████| 1795/1795 [01:01<00:00, 29.22it/s, loss=0.0344, acc=80.32%]\n",
      "Validation: 100%|██████████| 449/449 [00:05<00:00, 78.53it/s]\n"
     ]
    },
    {
     "name": "stdout",
     "output_type": "stream",
     "text": [
      "\n",
      "Epoch 52:\n",
      "Train Loss: 0.5500, Train Acc: 0.8032\n",
      "Val Loss: 1.1424, Val Acc: 0.6438\n",
      "No improvement for 6 epochs.\n"
     ]
    },
    {
     "name": "stderr",
     "output_type": "stream",
     "text": [
      "Epoch 53/80 [Train]: 100%|██████████| 1795/1795 [01:01<00:00, 29.21it/s, loss=0.0344, acc=80.29%]\n",
      "Validation: 100%|██████████| 449/449 [00:05<00:00, 76.31it/s]\n"
     ]
    },
    {
     "name": "stdout",
     "output_type": "stream",
     "text": [
      "\n",
      "Epoch 53:\n",
      "Train Loss: 0.5505, Train Acc: 0.8029\n",
      "Val Loss: 1.1619, Val Acc: 0.6492\n",
      "No improvement for 7 epochs.\n"
     ]
    },
    {
     "name": "stderr",
     "output_type": "stream",
     "text": [
      "Epoch 54/80 [Train]: 100%|██████████| 1795/1795 [01:01<00:00, 29.29it/s, loss=0.0336, acc=80.94%]\n",
      "Validation: 100%|██████████| 449/449 [00:05<00:00, 80.96it/s]\n"
     ]
    },
    {
     "name": "stdout",
     "output_type": "stream",
     "text": [
      "\n",
      "Epoch 54:\n",
      "Train Loss: 0.5377, Train Acc: 0.8094\n",
      "Val Loss: 1.1242, Val Acc: 0.6457\n",
      "No improvement for 8 epochs.\n"
     ]
    },
    {
     "name": "stderr",
     "output_type": "stream",
     "text": [
      "Epoch 55/80 [Train]: 100%|██████████| 1795/1795 [01:01<00:00, 29.27it/s, loss=0.0327, acc=81.36%]\n",
      "Validation: 100%|██████████| 449/449 [00:05<00:00, 80.39it/s]\n"
     ]
    },
    {
     "name": "stdout",
     "output_type": "stream",
     "text": [
      "\n",
      "Epoch 55:\n",
      "Train Loss: 0.5237, Train Acc: 0.8136\n",
      "Val Loss: 1.1835, Val Acc: 0.6475\n",
      "No improvement for 9 epochs.\n"
     ]
    },
    {
     "name": "stderr",
     "output_type": "stream",
     "text": [
      "Epoch 56/80 [Train]: 100%|██████████| 1795/1795 [01:01<00:00, 29.30it/s, loss=0.0326, acc=81.80%]\n",
      "Validation: 100%|██████████| 449/449 [00:05<00:00, 76.77it/s]\n"
     ]
    },
    {
     "name": "stdout",
     "output_type": "stream",
     "text": [
      "\n",
      "Epoch 56:\n",
      "Train Loss: 0.5212, Train Acc: 0.8180\n",
      "Val Loss: 1.2185, Val Acc: 0.6350\n",
      "No improvement for 10 epochs.\n"
     ]
    },
    {
     "name": "stderr",
     "output_type": "stream",
     "text": [
      "Epoch 57/80 [Train]: 100%|██████████| 1795/1795 [01:00<00:00, 29.66it/s, loss=0.0332, acc=81.39%]\n",
      "Validation: 100%|██████████| 449/449 [00:06<00:00, 73.59it/s]\n"
     ]
    },
    {
     "name": "stdout",
     "output_type": "stream",
     "text": [
      "\n",
      "Epoch 57:\n",
      "Train Loss: 0.5310, Train Acc: 0.8139\n",
      "Val Loss: 1.2337, Val Acc: 0.6379\n",
      "No improvement for 11 epochs.\n"
     ]
    },
    {
     "name": "stderr",
     "output_type": "stream",
     "text": [
      "Epoch 58/80 [Train]: 100%|██████████| 1795/1795 [01:00<00:00, 29.54it/s, loss=0.0331, acc=81.36%]\n",
      "Validation: 100%|██████████| 449/449 [00:05<00:00, 75.19it/s]\n"
     ]
    },
    {
     "name": "stdout",
     "output_type": "stream",
     "text": [
      "\n",
      "Epoch 58:\n",
      "Train Loss: 0.5292, Train Acc: 0.8136\n",
      "Val Loss: 1.1786, Val Acc: 0.6410\n",
      "No improvement for 12 epochs.\n"
     ]
    },
    {
     "name": "stderr",
     "output_type": "stream",
     "text": [
      "Epoch 59/80 [Train]: 100%|██████████| 1795/1795 [01:01<00:00, 29.33it/s, loss=0.0307, acc=82.50%]\n",
      "Validation: 100%|██████████| 449/449 [00:05<00:00, 81.14it/s]\n"
     ]
    },
    {
     "name": "stdout",
     "output_type": "stream",
     "text": [
      "\n",
      "Epoch 59:\n",
      "Train Loss: 0.4911, Train Acc: 0.8250\n",
      "Val Loss: 1.2784, Val Acc: 0.6453\n",
      "No improvement for 13 epochs.\n"
     ]
    },
    {
     "name": "stderr",
     "output_type": "stream",
     "text": [
      "Epoch 60/80 [Train]: 100%|██████████| 1795/1795 [01:01<00:00, 29.26it/s, loss=0.0304, acc=82.76%]\n",
      "Validation: 100%|██████████| 449/449 [00:05<00:00, 78.63it/s]\n"
     ]
    },
    {
     "name": "stdout",
     "output_type": "stream",
     "text": [
      "\n",
      "Epoch 60:\n",
      "Train Loss: 0.4860, Train Acc: 0.8276\n",
      "Val Loss: 1.2276, Val Acc: 0.6480\n",
      "No improvement for 14 epochs.\n"
     ]
    },
    {
     "name": "stderr",
     "output_type": "stream",
     "text": [
      "Epoch 61/80 [Train]: 100%|██████████| 1795/1795 [01:01<00:00, 29.23it/s, loss=0.0303, acc=83.03%]\n",
      "Validation: 100%|██████████| 449/449 [00:05<00:00, 81.44it/s]"
     ]
    },
    {
     "name": "stdout",
     "output_type": "stream",
     "text": [
      "\n",
      "Epoch 61:\n",
      "Train Loss: 0.4842, Train Acc: 0.8303\n",
      "Val Loss: 1.2333, Val Acc: 0.6473\n",
      "No improvement for 15 epochs.\n",
      "Early stopping triggered.\n"
     ]
    },
    {
     "name": "stderr",
     "output_type": "stream",
     "text": [
      "\n"
     ]
    }
   ],
   "source": [
    "# Set device\n",
    "device = torch.device(\"cuda\" if torch.cuda.is_available() else \"cpu\")\n",
    "print(f\"Using {device} device\")\n",
    "\n",
    "# Define transforms\n",
    "train_transform = transforms.Compose([\n",
    "    transforms.Resize((48, 48)),  # Standard size for FER2013\n",
    "    transforms.Grayscale(num_output_channels=1),\n",
    "    transforms.RandomHorizontalFlip(),\n",
    "    transforms.RandomRotation(10),\n",
    "    transforms.RandomAffine(degrees=0, translate=(0.05, 0.05)),\n",
    "    transforms.ToTensor(),\n",
    "    transforms.Normalize([0.5], [0.5])  # Grayscale normalization\n",
    "])\n",
    "\n",
    "test_transform = transforms.Compose([\n",
    "    transforms.Resize((48, 48)),\n",
    "    transforms.Grayscale(num_output_channels=1),\n",
    "    transforms.ToTensor(),\n",
    "    transforms.Normalize([0.5], [0.5])\n",
    "])\n",
    "\n",
    "# Load datasets\n",
    "train_dataset = datasets.ImageFolder(\n",
    "    root='/kaggle/input/fer2013/train',\n",
    "    transform=train_transform\n",
    ")\n",
    "\n",
    "val_dataset = datasets.ImageFolder(\n",
    "    root='/kaggle/input/fer2013/test',  \n",
    "    transform=test_transform\n",
    ")\n",
    "\n",
    "BATCH_SIZE = 16\n",
    "\n",
    "# Create data loaders\n",
    "train_loader = DataLoader(\n",
    "    train_dataset,\n",
    "    batch_size=BATCH_SIZE,\n",
    "    shuffle=True,\n",
    "    num_workers=2,\n",
    "    pin_memory=True\n",
    ")\n",
    "\n",
    "val_loader = DataLoader(\n",
    "    val_dataset,\n",
    "    batch_size=BATCH_SIZE,\n",
    "    shuffle=False,\n",
    "    num_workers=2,\n",
    "    pin_memory=True\n",
    ")\n",
    "\n",
    "# Initialize model, criterion, and optimizer\n",
    "model = ResEmoteNetKAN().to(device)\n",
    "criterion = nn.CrossEntropyLoss()\n",
    "optimizer = optim.AdamW(model.parameters(), lr=0.001, weight_decay=1e-4)\n",
    "\n",
    "# Print dataset sizes\n",
    "print(f\"Training set size: {len(train_dataset)}\")\n",
    "print(f\"Validation set size: {len(val_dataset)}\")\n",
    "\n",
    "# Training parameters\n",
    "num_epochs = 80\n",
    "patience = 15\n",
    "best_val_acc = 0\n",
    "patience_counter = 0\n",
    "epoch_counter = 0\n",
    "\n",
    "# History tracking\n",
    "history = {\n",
    "    'train_loss': [], 'train_acc': [],\n",
    "    'val_loss': [], 'val_acc': []\n",
    "}\n",
    "\n",
    "# Training loop\n",
    "for epoch in range(num_epochs):\n",
    "    # Training phase\n",
    "    model.train()\n",
    "    train_loss = 0.0\n",
    "    train_correct = 0\n",
    "    train_total = 0\n",
    "    \n",
    "    pbar = tqdm(train_loader, desc=f'Epoch {epoch+1}/{num_epochs} [Train]')\n",
    "    for inputs, labels in pbar:\n",
    "        inputs, labels = inputs.to(device), labels.to(device)\n",
    "        \n",
    "        optimizer.zero_grad()\n",
    "        outputs = model(inputs)\n",
    "        loss = criterion(outputs, labels)\n",
    "        loss.backward()\n",
    "        optimizer.step()\n",
    "        \n",
    "        train_loss += loss.item()\n",
    "        _, predicted = outputs.max(1)\n",
    "        train_total += labels.size(0)\n",
    "        train_correct += predicted.eq(labels).sum().item()\n",
    "        \n",
    "        # Update progress bar\n",
    "        pbar.set_postfix({\n",
    "            'loss': f'{train_loss/train_total:.4f}',\n",
    "            'acc': f'{100.*train_correct/train_total:.2f}%'\n",
    "        })\n",
    "    \n",
    "    train_loss = train_loss / len(train_loader)\n",
    "    train_acc = train_correct / train_total\n",
    "    \n",
    "    # Validation phase\n",
    "    model.eval()\n",
    "    val_loss = 0.0\n",
    "    val_correct = 0\n",
    "    val_total = 0\n",
    "    \n",
    "    with torch.no_grad():\n",
    "        for inputs, labels in tqdm(val_loader, desc='Validation'):\n",
    "            inputs, labels = inputs.to(device), labels.to(device)\n",
    "            outputs = model(inputs)\n",
    "            loss = criterion(outputs, labels)\n",
    "            \n",
    "            val_loss += loss.item()\n",
    "            _, predicted = outputs.max(1)\n",
    "            val_total += labels.size(0)\n",
    "            val_correct += predicted.eq(labels).sum().item()\n",
    "    \n",
    "    val_loss = val_loss / len(val_loader)\n",
    "    val_acc = val_correct / val_total\n",
    "    \n",
    "    # Store history\n",
    "    history['train_loss'].append(train_loss)\n",
    "    history['train_acc'].append(train_acc)\n",
    "    history['val_loss'].append(val_loss)\n",
    "    history['val_acc'].append(val_acc)\n",
    "    \n",
    "    print(f'\\nEpoch {epoch+1}:')\n",
    "    print(f'Train Loss: {train_loss:.4f}, Train Acc: {train_acc:.4f}')\n",
    "    print(f'Val Loss: {val_loss:.4f}, Val Acc: {val_acc:.4f}')\n",
    "    \n",
    "    # Early stopping check\n",
    "    if val_acc > best_val_acc:\n",
    "        best_val_acc = val_acc\n",
    "        patience_counter = 0\n",
    "        # Save the best model\n",
    "        torch.save({\n",
    "            'epoch': epoch,\n",
    "            'model_state_dict': model.state_dict(),\n",
    "            'optimizer_state_dict': optimizer.state_dict(),\n",
    "            'best_val_acc': best_val_acc,\n",
    "        }, 'ResEmoteNetKAN_model.pth')\n",
    "    else:\n",
    "        patience_counter += 1\n",
    "        print(f'No improvement for {patience_counter} epochs.')\n",
    "        \n",
    "    if patience_counter >= patience:\n",
    "        print('Early stopping triggered.')\n",
    "        break\n",
    "    \n",
    "    epoch_counter += 1\n",
    "\n",
    "# Save final results\n",
    "num_epochs_completed = len(history['train_loss'])  # Menggunakan panjang aktual dari history\n",
    "results_df = pd.DataFrame({\n",
    "    'Epoch': range(1, num_epochs_completed + 1),\n",
    "    'Train Loss': history['train_loss'],\n",
    "    'Val Loss': history['val_loss'],\n",
    "    'Train Acc': history['train_acc'],\n",
    "    'Val Acc': history['val_acc']\n",
    "})\n",
    "results_df.to_csv('training_history.csv', index=False)"
   ]
  },
  {
   "cell_type": "code",
   "execution_count": 3,
   "id": "95968200",
   "metadata": {
    "execution": {
     "iopub.execute_input": "2024-12-18T20:44:33.410508Z",
     "iopub.status.busy": "2024-12-18T20:44:33.409787Z",
     "iopub.status.idle": "2024-12-18T20:44:33.666108Z",
     "shell.execute_reply": "2024-12-18T20:44:33.665051Z"
    },
    "papermill": {
     "duration": 8.309291,
     "end_time": "2024-12-18T20:44:33.668546",
     "exception": false,
     "start_time": "2024-12-18T20:44:25.359255",
     "status": "completed"
    },
    "tags": []
   },
   "outputs": [],
   "source": [
    "import warnings\n",
    "warnings.filterwarnings('ignore')\n",
    "\n",
    "def convert_pth_to_pt(model_path, output_path='model.pt'):\n",
    "    \"\"\"\n",
    "    Convert .pth checkpoint to .pt format\n",
    "    \n",
    "    Args:\n",
    "        model_path (str): Path to the .pth checkpoint file\n",
    "        output_path (str): Path to save the .pt model file\n",
    "    Returns:\n",
    "        str: Path to saved .pt model\n",
    "    \"\"\"\n",
    "    try:\n",
    "        # Initialize model\n",
    "        model = ResEmoteNetKAN()\n",
    "        \n",
    "        # Load checkpoint\n",
    "        checkpoint = torch.load(model_path)\n",
    "        \n",
    "        # Load state dict\n",
    "        model.load_state_dict(checkpoint['model_state_dict'])\n",
    "        \n",
    "        # Set model to eval mode\n",
    "        model.eval()\n",
    "        \n",
    "        # Save model in .pt format\n",
    "        torch.save(model, output_path)\n",
    "        \n",
    "        print(f\"Successfully converted model to {output_path}\")\n",
    "        return output_path\n",
    "        \n",
    "    except Exception as e:\n",
    "        print(f\"Error converting model: {str(e)}\")\n",
    "        return None\n",
    "\n",
    "def convert_pth_to_ptl(model_path, output_path='model.ptl'):\n",
    "    \"\"\"\n",
    "    Convert .pth checkpoint to .ptl (PyTorch Lightning) format\n",
    "    \n",
    "    Args:\n",
    "        model_path (str): Path to the .pth checkpoint file\n",
    "        output_path (str): Path to save the .ptl model file\n",
    "    Returns:\n",
    "        str: Path to saved .ptl model\n",
    "    \"\"\"\n",
    "    try:\n",
    "        # Initialize model\n",
    "        model = ResEmoteNetKAN()\n",
    "        \n",
    "        # Load checkpoint\n",
    "        checkpoint = torch.load(model_path)\n",
    "        \n",
    "        # Create new state dict with Lightning compatible format\n",
    "        new_state_dict = {\n",
    "            'state_dict': checkpoint['model_state_dict'],\n",
    "            'epoch': checkpoint.get('epoch', 0),\n",
    "            'global_step': 0,\n",
    "            'pytorch-lightning_version': '2.0.0',\n",
    "            'callbacks': {},\n",
    "            'optimizer_states': [checkpoint.get('optimizer_state_dict', {})],\n",
    "            'lr_schedulers': [],\n",
    "            'hparams_name': 'ResEmoteNet',\n",
    "            'hyper_parameters': {\n",
    "                'learning_rate': 0.001,\n",
    "                'batch_size': 16,\n",
    "                'num_classes': 7\n",
    "            }\n",
    "        }\n",
    "        \n",
    "        # Save in Lightning format\n",
    "        torch.save(new_state_dict, output_path)\n",
    "        \n",
    "        print(f\"Successfully converted model to {output_path}\")\n",
    "        return output_path\n",
    "        \n",
    "    except Exception as e:\n",
    "        print(f\"Error converting model: {str(e)}\")\n",
    "        return None\n",
    "\n",
    "def convert_all_formats(model_path, base_output_name='model'):\n",
    "    \"\"\"\n",
    "    Convert .pth model to both .pt and .ptl formats\n",
    "    \n",
    "    Args:\n",
    "        model_path (str): Path to the .pth checkpoint file\n",
    "        base_output_name (str): Base name for output files\n",
    "    Returns:\n",
    "        tuple: Paths to saved .pt and .ptl models\n",
    "    \"\"\"\n",
    "    pt_path = f\"{base_output_name}.pt\"\n",
    "    ptl_path = f\"{base_output_name}.ptl\"\n",
    "    \n",
    "    pt_result = convert_pth_to_pt(model_path, pt_path)\n",
    "    ptl_result = convert_pth_to_ptl(model_path, ptl_path)\n",
    "    \n",
    "    return pt_result, ptl_result\n",
    "\n",
    "\n",
    "\n",
    "def plot_training_curves(history):\n",
    "    plt.style.use(\"seaborn-v0_8-whitegrid\")\n",
    "    fig, axes = plt.subplots(2, 2, figsize=(15, 10))\n",
    "    fig.suptitle('Model Training Analysis', fontsize=16, y=1.05)\n",
    "\n",
    "    # Loss curves\n",
    "    axes[0,0].plot(history['train_loss'], label='Training Loss', color='blue')\n",
    "    axes[0,0].plot(history['val_loss'], label='Validation Loss', color='red')\n",
    "    axes[0,0].set_title('Loss Curves')\n",
    "    axes[0,0].set_xlabel('Epoch')\n",
    "    axes[0,0].set_ylabel('Loss')\n",
    "    axes[0,0].legend()\n",
    "    axes[0,0].grid(True)\n",
    "\n",
    "    # Accuracy curves\n",
    "    axes[0,1].plot(history['train_acc'], label='Training Accuracy', color='blue')\n",
    "    axes[0,1].plot(history['val_acc'], label='Validation Accuracy', color='red')\n",
    "    axes[0,1].set_title('Accuracy Curves')\n",
    "    axes[0,1].set_xlabel('Epoch')\n",
    "    axes[0,1].set_ylabel('Accuracy')\n",
    "    axes[0,1].legend()\n",
    "    axes[0,1].grid(True)\n",
    "\n",
    "    # Learning curves (Training vs Validation Gap)\n",
    "    train_val_gap = np.array(history['train_acc']) - np.array(history['val_acc'])\n",
    "    axes[1,0].plot(train_val_gap, label='Train-Val Accuracy Gap', color='purple')\n",
    "    axes[1,0].set_title('Overfitting Analysis')\n",
    "    axes[1,0].set_xlabel('Epoch')\n",
    "    axes[1,0].set_ylabel('Accuracy Gap')\n",
    "    axes[1,0].axhline(y=0, color='r', linestyle='--', alpha=0.3)\n",
    "    axes[1,0].legend()\n",
    "    axes[1,0].grid(True)\n",
    "\n",
    "    # Learning Rate if available\n",
    "    if 'lr' in history:\n",
    "        axes[1,1].plot(history['lr'], label='Learning Rate', color='green')\n",
    "        axes[1,1].set_title('Learning Rate Schedule')\n",
    "        axes[1,1].set_xlabel('Epoch')\n",
    "        axes[1,1].set_ylabel('Learning Rate')\n",
    "        axes[1,1].set_yscale('log')\n",
    "        axes[1,1].legend()\n",
    "        axes[1,1].grid(True)\n",
    "    else:\n",
    "        fig.delaxes(axes[1,1])  # Better way to remove subplot\n",
    "\n",
    "    plt.tight_layout()\n",
    "    plt.savefig('training_curves.png', bbox_inches='tight', dpi=300)\n",
    "    plt.show()\n",
    "\n",
    "def evaluate_model(model, val_loader, device, class_names):\n",
    "\n",
    "    model.eval()\n",
    "    all_preds = []\n",
    "    all_labels = []\n",
    "    \n",
    "    try:\n",
    "        with torch.no_grad():\n",
    "            for inputs, labels in val_loader:\n",
    "                inputs, labels = inputs.to(device), labels.to(device)\n",
    "                outputs = model(inputs)\n",
    "                _, predicted = outputs.max(1)\n",
    "                \n",
    "                all_preds.extend(predicted.cpu().numpy())\n",
    "                all_labels.extend(labels.cpu().numpy())\n",
    "        \n",
    "        # Create confusion matrix\n",
    "        cm = confusion_matrix(all_labels, all_preds)\n",
    "        \n",
    "        # Plot confusion matrix\n",
    "        plt.figure(figsize=(12, 8))\n",
    "        sns.heatmap(cm, annot=True, fmt='d', cmap='Blues',\n",
    "                    xticklabels=class_names,\n",
    "                    yticklabels=class_names)\n",
    "        plt.title('Confusion Matrix')\n",
    "        plt.ylabel('True Label')\n",
    "        plt.xlabel('Predicted Label')\n",
    "        plt.xticks(rotation=45)\n",
    "        plt.yticks(rotation=45)\n",
    "        plt.tight_layout()\n",
    "        plt.savefig('confusion_matrix.png', bbox_inches='tight', dpi=300)\n",
    "        plt.show()\n",
    "        \n",
    "        # Print classification report\n",
    "        print(\"\\nClassification Report:\")\n",
    "        print(classification_report(all_labels, all_preds, target_names=class_names))\n",
    "        \n",
    "    except Exception as e:\n",
    "        print(f\"Error during evaluation: {str(e)}\")\n",
    "\n",
    "def plot_sample_predictions(model, val_loader, device, class_names, num_samples=5):\n",
    "\n",
    "    model.eval()\n",
    "    \n",
    "    try:\n",
    "        fig, axes = plt.subplots(2, num_samples, figsize=(20, 6))\n",
    "        \n",
    "        with torch.no_grad():\n",
    "            inputs, labels = next(iter(val_loader))\n",
    "            inputs, labels = inputs.to(device), labels.to(device)\n",
    "            outputs = model(inputs)\n",
    "            probabilities = torch.nn.functional.softmax(outputs, dim=1)\n",
    "            \n",
    "            for i in range(min(num_samples, len(inputs))):\n",
    "                # Plot image\n",
    "                img = inputs[i].cpu().permute(1, 2, 0)\n",
    "                img = img * torch.tensor([0.229, 0.224, 0.225]) + torch.tensor([0.485, 0.456, 0.406])\n",
    "                img = img.clip(0, 1)\n",
    "                \n",
    "                axes[0, i].imshow(img)\n",
    "                axes[0, i].axis('off')\n",
    "                true_label = class_names[labels[i]]\n",
    "                pred_label = class_names[outputs[i].argmax()]\n",
    "                axes[0, i].set_title(f'True: {true_label}\\nPred: {pred_label}',\n",
    "                                   color='green' if true_label == pred_label else 'red')\n",
    "                \n",
    "                # Plot probability distribution\n",
    "                probs = probabilities[i].cpu().numpy()\n",
    "                axes[1, i].bar(range(len(class_names)), probs)\n",
    "                axes[1, i].set_xticks(range(len(class_names)))\n",
    "                axes[1, i].set_xticklabels(class_names, rotation=45)\n",
    "                axes[1, i].set_ylim(0, 1)\n",
    "        \n",
    "        plt.tight_layout()\n",
    "        plt.savefig('sample_predictions.png', bbox_inches='tight', dpi=300)\n",
    "        plt.show()\n",
    "        \n",
    "    except Exception as e:\n",
    "        print(f\"Error plotting predictions: {str(e)}\")\n",
    "\n",
    "def print_parameter_details(model):\n",
    "    \"\"\"\n",
    "    Print model parameter details and total trainable parameters.\n",
    "    \n",
    "    Args:\n",
    "        model (torch.nn.Module): The model to analyze\n",
    "    \"\"\"\n",
    "    try:\n",
    "        total_params = 0\n",
    "        print(\"\\nModel Parameter Details:\")\n",
    "        print(\"-\" * 50)\n",
    "        for name, parameter in model.named_parameters():\n",
    "            if parameter.requires_grad:\n",
    "                params = parameter.numel()\n",
    "                total_params += params\n",
    "                print(f\"{name:<30} {params:>10,d}\")\n",
    "        print(\"-\" * 50)\n",
    "        print(f\"Total trainable parameters: {total_params:,}\")\n",
    "        \n",
    "    except Exception as e:\n",
    "        print(f\"Error analyzing parameters: {str(e)}\")"
   ]
  },
  {
   "cell_type": "markdown",
   "id": "2d697d48",
   "metadata": {
    "papermill": {
     "duration": 8.327745,
     "end_time": "2024-12-18T20:44:50.188479",
     "exception": false,
     "start_time": "2024-12-18T20:44:41.860734",
     "status": "completed"
    },
    "tags": []
   },
   "source": [
    "# Visualize Model"
   ]
  },
  {
   "cell_type": "code",
   "execution_count": 4,
   "id": "5c6fc74a",
   "metadata": {
    "execution": {
     "iopub.execute_input": "2024-12-18T20:45:06.501958Z",
     "iopub.status.busy": "2024-12-18T20:45:06.501019Z",
     "iopub.status.idle": "2024-12-18T20:45:21.652146Z",
     "shell.execute_reply": "2024-12-18T20:45:21.650934Z"
    },
    "papermill": {
     "duration": 23.376717,
     "end_time": "2024-12-18T20:45:21.654957",
     "exception": false,
     "start_time": "2024-12-18T20:44:58.278240",
     "status": "completed"
    },
    "tags": []
   },
   "outputs": [
    {
     "name": "stdout",
     "output_type": "stream",
     "text": [
      "\n",
      "Model Parameter Details:\n",
      "--------------------------------------------------\n",
      "conv1.weight                          288\n",
      "conv1.bias                             32\n",
      "bn1.weight                             32\n",
      "bn1.bias                               32\n",
      "conv2.weight                       18,432\n",
      "conv2.bias                             64\n",
      "bn2.weight                             64\n",
      "bn2.bias                               64\n",
      "conv3.weight                       73,728\n",
      "conv3.bias                            128\n",
      "bn3.weight                            128\n",
      "bn3.bias                              128\n",
      "se1.fc.0.weight                     1,024\n",
      "se1.fc.2.weight                     1,024\n",
      "se2.fc.0.weight                     4,096\n",
      "se2.fc.2.weight                     4,096\n",
      "se3.fc.0.weight                    16,384\n",
      "se3.fc.2.weight                    16,384\n",
      "res_block1.conv1.weight           294,912\n",
      "res_block1.conv1.bias                 256\n",
      "res_block1.bn1.weight                 256\n",
      "res_block1.bn1.bias                   256\n",
      "res_block1.conv2.weight           589,824\n",
      "res_block1.conv2.bias                 256\n",
      "res_block1.bn2.weight                 256\n",
      "res_block1.bn2.bias                   256\n",
      "res_block1.shortcut.0.weight       32,768\n",
      "res_block1.shortcut.0.bias            256\n",
      "res_block1.shortcut.1.weight          256\n",
      "res_block1.shortcut.1.bias            256\n",
      "res_block2.conv1.weight         1,179,648\n",
      "res_block2.conv1.bias                 512\n",
      "res_block2.bn1.weight                 512\n",
      "res_block2.bn1.bias                   512\n",
      "res_block2.conv2.weight         2,359,296\n",
      "res_block2.conv2.bias                 512\n",
      "res_block2.bn2.weight                 512\n",
      "res_block2.bn2.bias                   512\n",
      "res_block2.shortcut.0.weight      131,072\n",
      "res_block2.shortcut.0.bias            512\n",
      "res_block2.shortcut.1.weight          512\n",
      "res_block2.shortcut.1.bias            512\n",
      "res_block3.conv1.weight         4,718,592\n",
      "res_block3.conv1.bias               1,024\n",
      "res_block3.bn1.weight               1,024\n",
      "res_block3.bn1.bias                 1,024\n",
      "res_block3.conv2.weight         9,437,184\n",
      "res_block3.conv2.bias               1,024\n",
      "res_block3.bn2.weight               1,024\n",
      "res_block3.bn2.bias                 1,024\n",
      "res_block3.shortcut.0.weight      524,288\n",
      "res_block3.shortcut.0.bias          1,024\n",
      "res_block3.shortcut.1.weight        1,024\n",
      "res_block3.shortcut.1.bias          1,024\n",
      "kan_block1.base_weight            524,288\n",
      "kan_block1.spline_weight        4,194,304\n",
      "kan_block1.spline_scaler          524,288\n",
      "kan_block2.base_weight            131,072\n",
      "kan_block2.spline_weight        1,048,576\n",
      "kan_block2.spline_scaler          131,072\n",
      "kan_block3.base_weight             32,768\n",
      "kan_block3.spline_weight          262,144\n",
      "kan_block3.spline_scaler           32,768\n",
      "classifier.base_weight                896\n",
      "classifier.spline_weight            7,168\n",
      "classifier.spline_scaler              896\n",
      "--------------------------------------------------\n",
      "Total trainable parameters: 26,310,080\n",
      "Successfully converted model to ResEmoteNetKAN.pt\n",
      "Successfully converted model to ResEmoteNetKAN.ptl\n"
     ]
    },
    {
     "data": {
      "image/png": "[encoded data removed]",
      "text/plain": [
       "<Figure size 1500x1000 with 3 Axes>"
      ]
     },
     "metadata": {},
     "output_type": "display_data"
    },
    {
     "data": {
      "image/png": "[encoded data removed]",
      "text/plain": [
       "<Figure size 1200x800 with 2 Axes>"
      ]
     },
     "metadata": {},
     "output_type": "display_data"
    },
    {
     "name": "stdout",
     "output_type": "stream",
     "text": [
      "\n",
      "Classification Report:\n",
      "              precision    recall  f1-score   support\n",
      "\n",
      "       Angry       0.53      0.58      0.56       958\n",
      "     Disgust       0.82      0.55      0.66       111\n",
      "        Fear       0.56      0.45      0.50      1024\n",
      "       Happy       0.85      0.84      0.84      1774\n",
      "         Sad       0.56      0.66      0.61      1233\n",
      "    Surprise       0.51      0.49      0.50      1247\n",
      "     Neutral       0.80      0.77      0.78       831\n",
      "\n",
      "    accuracy                           0.65      7178\n",
      "   macro avg       0.66      0.62      0.64      7178\n",
      "weighted avg       0.65      0.65      0.65      7178\n",
      "\n"
     ]
    },
    {
     "data": {
      "image/png": "[encoded data removed]",
      "text/plain": [
       "<Figure size 2000x600 with 10 Axes>"
      ]
     },
     "metadata": {},
     "output_type": "display_data"
    }
   ],
   "source": [
    "print_parameter_details(model)\n",
    "\n",
    "pt_path, ptl_path = convert_all_formats('ResEmoteNetKAN_model.pth', 'ResEmoteNetKAN')\n",
    "\n",
    "plot_training_curves(history)\n",
    "\n",
    "# Definisikan nama kelas sesuai dengan dataset FER2013\n",
    "class_names = ['Angry', 'Disgust', 'Fear', 'Happy', 'Sad', 'Surprise', 'Neutral']\n",
    "\n",
    "# Evaluasi model dan tampilkan confusion matrix\n",
    "evaluate_model(model, val_loader, device, class_names)\n",
    "\n",
    "# Tampilkan contoh prediksi\n",
    "plot_sample_predictions(model, val_loader, device, class_names)"
   ]
  }
 ],
 "metadata": {
  "kaggle": {
   "accelerator": "gpu",
   "dataSources": [
    {
     "datasetId": 786787,
     "sourceId": 1351797,
     "sourceType": "datasetVersion"
    }
   ],
   "dockerImageVersionId": 30804,
   "isGpuEnabled": true,
   "isInternetEnabled": true,
   "language": "python",
   "sourceType": "notebook"
  },
  "kernelspec": {
   "display_name": "Python 3",
   "language": "python",
   "name": "python3"
  },
  "language_info": {
   "codemirror_mode": {
    "name": "ipython",
    "version": 3
   },
   "file_extension": ".py",
   "mimetype": "text/x-python",
   "name": "python",
   "nbconvert_exporter": "python",
   "pygments_lexer": "ipython3",
   "version": "3.10.14"
  },
  "papermill": {
   "default_parameters": {},
   "duration": 4235.722447,
   "end_time": "2024-12-18T20:45:32.742914",
   "environment_variables": {},
   "exception": null,
   "input_path": "__notebook__.ipynb",
   "output_path": "__notebook__.ipynb",
   "parameters": {},
   "start_time": "2024-12-18T19:34:57.020467",
   "version": "2.6.0"
  }
 },
 "nbformat": 4,
 "nbformat_minor": 5
}
