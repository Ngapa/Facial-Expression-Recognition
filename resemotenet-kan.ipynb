{
 "cells": [
  {
   "cell_type": "code",
   "execution_count": 1,
   "id": "5b31e981",
   "metadata": {
    "_cell_guid": "b1076dfc-b9ad-4769-8c92-a6c4dae69d19",
    "_uuid": "8f2839f25d086af736a60e9eeb907d3b93b6e0e5",
    "execution": {
     "iopub.execute_input": "2024-12-15T03:41:50.094891Z",
     "iopub.status.busy": "2024-12-15T03:41:50.094582Z",
     "iopub.status.idle": "2024-12-15T03:41:56.690690Z",
     "shell.execute_reply": "2024-12-15T03:41:56.689925Z"
    },
    "papermill": {
     "duration": 6.602863,
     "end_time": "2024-12-15T03:41:56.692765",
     "exception": false,
     "start_time": "2024-12-15T03:41:50.089902",
     "status": "completed"
    },
    "tags": []
   },
   "outputs": [],
   "source": [
    "import torch\n",
    "from torch import nn\n",
    "from torch.utils.data import DataLoader\n",
    "import torch.optim as optim\n",
    "from torchvision import datasets, transforms\n",
    "import random\n",
    "import numpy as np\n",
    "import argparse\n",
    "import torch.nn.functional as F\n",
    "import math\n",
    "from typing import List, Tuple, Union\n",
    "import warnings\n",
    "from sklearn.metrics import confusion_matrix, classification_report\n",
    "\n",
    "import matplotlib.pyplot as plt\n",
    "import seaborn as sns\n",
    "import pandas as pd\n",
    "from tqdm import tqdm\n",
    "\n",
    "class SplineLinear(nn.Linear):\n",
    "    def __init__(self, in_features: int, out_features: int, init_scale: float = 0.1, **kw) -> None:\n",
    "        self.init_scale = init_scale\n",
    "        super().__init__(in_features, out_features, bias=False, **kw)\n",
    "\n",
    "    def reset_parameters(self) -> None:\n",
    "        nn.init.trunc_normal_(self.weight, mean=0, std=self.init_scale)\n",
    "\n",
    "class RadialBasisFunction(nn.Module):\n",
    "    def __init__(\n",
    "        self,\n",
    "        grid_min: float = -2.,\n",
    "        grid_max: float = 2.,\n",
    "        num_grids: int = 8,\n",
    "        denominator: float = None,  # larger denominators lead to smoother basis\n",
    "    ):\n",
    "        super().__init__()\n",
    "        self.grid_min = grid_min\n",
    "        self.grid_max = grid_max\n",
    "        self.num_grids = num_grids\n",
    "        grid = torch.linspace(grid_min, grid_max, num_grids)\n",
    "        self.grid = torch.nn.Parameter(grid, requires_grad=False)\n",
    "        self.denominator = denominator or (grid_max - grid_min) / (num_grids - 1)\n",
    "\n",
    "    def forward(self, x):\n",
    "        return torch.exp(-((x[..., None] - self.grid) / self.denominator) ** 2)\n",
    "\n",
    "class FastKANLayer(nn.Module):\n",
    "    def __init__(\n",
    "        self,\n",
    "        input_dim: int,\n",
    "        output_dim: int,\n",
    "        grid_min: float = -2.,\n",
    "        grid_max: float = 2.,\n",
    "        num_grids: int = 8,\n",
    "        use_base_update: bool = True,\n",
    "        use_layernorm: bool = True,\n",
    "        base_activation = F.silu,\n",
    "        spline_weight_init_scale: float = 0.1,\n",
    "    ) -> None:\n",
    "        super().__init__()\n",
    "        self.input_dim = input_dim\n",
    "        self.output_dim = output_dim\n",
    "        self.layernorm = None\n",
    "        if use_layernorm:\n",
    "            assert input_dim > 1, \"Do not use layernorms on 1D inputs. Set `use_layernorm=False`.\"\n",
    "            self.layernorm = nn.LayerNorm(input_dim)\n",
    "        self.rbf = RadialBasisFunction(grid_min, grid_max, num_grids)\n",
    "        self.spline_linear = SplineLinear(input_dim * num_grids, output_dim, spline_weight_init_scale)\n",
    "        self.use_base_update = use_base_update\n",
    "        if use_base_update:\n",
    "            self.base_activation = base_activation\n",
    "            self.base_linear = nn.Linear(input_dim, output_dim)\n",
    "\n",
    "    def forward(self, x, use_layernorm=True):\n",
    "        if self.layernorm is not None and use_layernorm:\n",
    "            spline_basis = self.rbf(self.layernorm(x))\n",
    "        else:\n",
    "            spline_basis = self.rbf(x)\n",
    "        ret = self.spline_linear(spline_basis.view(*spline_basis.shape[:-2], -1))\n",
    "        if self.use_base_update:\n",
    "            base = self.base_linear(self.base_activation(x))\n",
    "            ret = ret + base\n",
    "        return ret\n",
    "\n",
    "    def plot_curve(\n",
    "        self,\n",
    "        input_index: int,\n",
    "        output_index: int,\n",
    "        num_pts: int = 1000,\n",
    "        num_extrapolate_bins: int = 2\n",
    "          ):\n",
    "\n",
    "        ng = self.rbf.num_grids\n",
    "        h = self.rbf.denominator\n",
    "        assert input_index < self.input_dim\n",
    "        assert output_index < self.output_dim\n",
    "        w = self.spline_linear.weight[\n",
    "            output_index, input_index * ng : (input_index + 1) * ng\n",
    "        ]   # num_grids,\n",
    "        x = torch.linspace(\n",
    "            self.rbf.grid_min - num_extrapolate_bins * h,\n",
    "            self.rbf.grid_max + num_extrapolate_bins * h,\n",
    "            num_pts\n",
    "        )   # num_pts, num_grids\n",
    "        with torch.no_grad():\n",
    "            y = (w * self.rbf(x.to(w.dtype))).sum(-1)\n",
    "        return x, y\n",
    "\n",
    "\n",
    "class FastKAN(nn.Module):\n",
    "    def __init__(\n",
    "        self,\n",
    "        layers_hidden: List[int],\n",
    "        grid_min: float = -2.,\n",
    "        grid_max: float = 2.,\n",
    "        num_grids: int = 8,\n",
    "        use_base_update: bool = True,\n",
    "        base_activation = F.silu,\n",
    "        spline_weight_init_scale: float = 0.1,\n",
    "    ) -> None:\n",
    "        super().__init__()\n",
    "        self.layers = nn.ModuleList([\n",
    "            FastKANLayer(\n",
    "                in_dim,\n",
    "                out_dim,\n",
    "                grid_min=grid_min,\n",
    "                grid_max=grid_max,\n",
    "                num_grids=num_grids,\n",
    "                use_base_update=use_base_update,\n",
    "                base_activation=base_activation,\n",
    "                spline_weight_init_scale=spline_weight_init_scale,\n",
    "            ) for in_dim, out_dim in zip(layers_hidden[:-1], layers_hidden[1:])\n",
    "        ])\n",
    "\n",
    "    def forward(self, x):\n",
    "        for layer in self.layers:\n",
    "            x = layer(x)\n",
    "        return x\n",
    "\n",
    "\n",
    "class ConvKAN(torch.nn.Module):\n",
    "    def __init__(\n",
    "        self,\n",
    "        in_channels: int,\n",
    "        out_channels: int,\n",
    "        kernel_size: int or tuple = 3,\n",
    "        stride: int or tuple = 1,\n",
    "        padding: int or tuple = 0,\n",
    "        dilation: int or tuple = 1,\n",
    "        groups: int = 1,\n",
    "        padding_mode: str = \"zeros\",\n",
    "        bias: bool = True,\n",
    "        grid_size: int = 5,\n",
    "        spline_order: int = 3,\n",
    "        scale_noise: float = 0.1,\n",
    "        scale_base: float = 1.0,\n",
    "        scale_spline: float = 1.0,\n",
    "        enable_standalone_scale_spline: bool = True,\n",
    "        base_activation: torch.nn.Module = torch.nn.SiLU,\n",
    "        grid_eps: float = 0.02,\n",
    "        grid_range: tuple = (-1, 1),\n",
    "    ):\n",
    "       \n",
    "        super().__init__()\n",
    "        self.in_channels = in_channels\n",
    "        self.out_channels = out_channels\n",
    "        self.kernel_size = _pair(kernel_size)\n",
    "        self.stride = _pair(stride)\n",
    "        self.padding = _pair(padding)\n",
    "        self.dilation = _pair(dilation)\n",
    "        self.groups = groups\n",
    "        self.padding_mode = padding_mode\n",
    "\n",
    "        self._in_dim = (\n",
    "            (in_channels // groups) * self.kernel_size[0] * self.kernel_size[1]\n",
    "        )\n",
    "        self._reversed_padding_repeated_twice = tuple(\n",
    "            x for x in reversed(self.padding) for _ in range(2)\n",
    "        )\n",
    "\n",
    "        if not bias:\n",
    "            # warn the user that bias is not used\n",
    "            warnings.warn(\"Bias is not used in ConvKAN layer\", UserWarning)\n",
    "\n",
    "        if in_channels % groups != 0:\n",
    "            raise ValueError(\"in_channels must be divisible by groups\")\n",
    "        if out_channels % groups != 0:\n",
    "            raise ValueError(\"out_channels must be divisible by groups\")\n",
    "\n",
    "        self.kan_layer = FastKANLayer(self._in_dim, out_channels)\n",
    "\n",
    "    def forward(self, x):\n",
    "        if self.padding_mode != \"zeros\":\n",
    "            x = F.pad(x, self._reversed_padding_repeated_twice, mode=self.padding_mode)\n",
    "            padding = (0, 0)  # Reset padding because we already applied it\n",
    "        else:\n",
    "            padding = self.padding\n",
    "\n",
    "        x_unf = F.unfold(\n",
    "            x,\n",
    "            kernel_size=self.kernel_size,\n",
    "            padding=padding,\n",
    "            stride=self.stride,\n",
    "            dilation=self.dilation,\n",
    "        )\n",
    "\n",
    "        batch_size, channels_and_elem, n_patches = x_unf.shape\n",
    "\n",
    "        # Ensuring group separation is maintained in the input\n",
    "        x_unf = (\n",
    "            x_unf.permute(0, 2, 1)  # [B, H_out * W_out, channels * elems]\n",
    "            .reshape(\n",
    "                batch_size * n_patches, self.groups, channels_and_elem // self.groups\n",
    "            )  # [B * H_out * W_out, groups, out_channels // groups]\n",
    "            .permute(1, 0, 2)\n",
    "        )  # [groups, B * H_out * W_out, out_channels // groups]\n",
    "\n",
    "        output = self.kan_layer(\n",
    "            x_unf\n",
    "        )  # [groups, B * H_out * W_out, out_channels // groups]\n",
    "        output = (\n",
    "            output.permute(1, 0, 2).reshape(batch_size, n_patches, -1).permute(0, 2, 1)\n",
    "        )\n",
    "\n",
    "        # Compute output dimensions\n",
    "        output_height = (\n",
    "            x.shape[2]\n",
    "            + 2 * padding[0]\n",
    "            - self.dilation[0] * (self.kernel_size[0] - 1)\n",
    "            - 1\n",
    "        ) // self.stride[0] + 1\n",
    "        output_width = (\n",
    "            x.shape[3]\n",
    "            + 2 * padding[1]\n",
    "            - self.dilation[1] * (self.kernel_size[1] - 1)\n",
    "            - 1\n",
    "        ) // self.stride[1] + 1\n",
    "\n",
    "        # Reshape output to the expected output format\n",
    "        output = output.view(\n",
    "            x.shape[0],  # batch size\n",
    "            self.out_channels,  # total output channels\n",
    "            output_height,\n",
    "            output_width,\n",
    "        )\n",
    "\n",
    "        return output\n",
    "\n",
    "\n",
    "def _pair(x):\n",
    "    if isinstance(x, (int, float)):\n",
    "        return x, x\n",
    "    return x\n",
    "\n",
    "    \n",
    "class BSplineFunction(nn.Module):\n",
    "    def __init__(self, grid_min: float = -2.,\n",
    "        grid_max: float = 2., degree: int = 3, num_basis: int = 8):\n",
    "        super(BSplineFunction, self).__init__()\n",
    "        self.degree = degree\n",
    "        self.num_basis = num_basis\n",
    "        self.knots = torch.linspace(grid_min, grid_max, num_basis + degree + 1)  # Uniform knots\n",
    "\n",
    "    def basis_function(self, i, k, t):\n",
    "        if k == 0:\n",
    "            return ((self.knots[i] <= t) & (t < self.knots[i + 1])).float()\n",
    "        else:\n",
    "            left_num = (t - self.knots[i]) * self.basis_function(i, k - 1, t)\n",
    "            left_den = self.knots[i + k] - self.knots[i]\n",
    "            left = left_num / left_den if left_den != 0 else 0\n",
    "\n",
    "            right_num = (self.knots[i + k + 1] - t) * self.basis_function(i + 1, k - 1, t)\n",
    "            right_den = self.knots[i + k + 1] - self.knots[i + 1]\n",
    "            right = right_num / right_den if right_den != 0 else 0\n",
    "\n",
    "            return left + right \n",
    "    \n",
    "    def forward(self, x):\n",
    "        x = x.squeeze()  # Assuming x is of shape (B, 1)\n",
    "        basis_functions = torch.stack([self.basis_function(i, self.degree, x) for i in range(self.num_basis)], dim=-1)\n",
    "        return basis_functions\n",
    "    \n",
    "class SplineConv2D(nn.Conv2d):\n",
    "    def __init__(self, \n",
    "                 in_channels: int, \n",
    "                 out_channels: int, \n",
    "                 kernel_size: Union[int, Tuple[int, int]] = 3,\n",
    "                 stride: Union[int, Tuple[int, int]] = 1, \n",
    "                 padding: Union[int, Tuple[int, int]] = 0, \n",
    "                 dilation: Union[int, Tuple[int, int]] = 1,\n",
    "                 groups: int = 1, \n",
    "                 bias: bool = True, \n",
    "                 init_scale: float = 0.1, \n",
    "                 padding_mode: str = \"zeros\", \n",
    "                 **kw\n",
    "                 ) -> None:\n",
    "        self.init_scale = init_scale\n",
    "        super().__init__(in_channels, \n",
    "                         out_channels, \n",
    "                         kernel_size, \n",
    "                         stride, \n",
    "                         padding, \n",
    "                         dilation, \n",
    "                         groups, \n",
    "                         bias, \n",
    "                         padding_mode, \n",
    "                         **kw\n",
    "                         )\n",
    "\n",
    "    def reset_parameters(self) -> None:\n",
    "        nn.init.trunc_normal_(self.weight, mean=0, std=self.init_scale)\n",
    "        if self.bias is not None:\n",
    "            nn.init.zeros_(self.bias)\n",
    "\n",
    "\n",
    "class FastKANConvLayer(nn.Module):\n",
    "    def __init__(self, \n",
    "                 in_channels: int, \n",
    "                 out_channels: int, \n",
    "                 kernel_size: Union[int, Tuple[int, int]] = 3,\n",
    "                 stride: Union[int, Tuple[int, int]] = 1, \n",
    "                 padding: Union[int, Tuple[int, int]] = 0, \n",
    "                 dilation: Union[int, Tuple[int, int]] = 1,\n",
    "                 groups: int = 1, \n",
    "                 bias: bool = True, \n",
    "                 grid_min: float = -2., \n",
    "                 grid_max: float = 2.,\n",
    "                 num_grids: int = 4, \n",
    "                 use_base_update: bool = True, \n",
    "                 base_activation = F.silu,\n",
    "                 spline_weight_init_scale: float = 0.1, \n",
    "                 padding_mode: str = \"zeros\",\n",
    "                 ) -> None:\n",
    "        \n",
    "        super().__init__()\n",
    "        self.rbf = BSplineFunction(grid_min, grid_max, 3, num_grids)\n",
    "\n",
    "        self.spline_conv = SplineConv2D(in_channels * num_grids, \n",
    "                                        out_channels, \n",
    "                                        kernel_size,\n",
    "                                        stride, \n",
    "                                        padding, \n",
    "                                        dilation, \n",
    "                                        groups, \n",
    "                                        bias,\n",
    "                                        spline_weight_init_scale, \n",
    "                                        padding_mode)\n",
    "        \n",
    "        self.use_base_update = use_base_update\n",
    "        if use_base_update:\n",
    "            self.base_activation = base_activation\n",
    "            self.base_conv = nn.Conv2d(in_channels, \n",
    "                                       out_channels, \n",
    "                                       kernel_size, \n",
    "                                       stride, \n",
    "                                       padding, \n",
    "                                       dilation, \n",
    "                                       groups, \n",
    "                                       bias, \n",
    "                                       padding_mode)\n",
    "\n",
    "    def forward(self, x):\n",
    "        batch_size, channels, height, width = x.shape\n",
    "        x_rbf = self.rbf(x.view(batch_size, channels, -1)).view(batch_size, channels, height, width, -1)\n",
    "        x_rbf = x_rbf.permute(0, 4, 1, 2, 3).contiguous().view(batch_size, -1, height, width)\n",
    "        \n",
    "        # Apply spline convolution\n",
    "        ret = self.spline_conv(x_rbf)\n",
    "        \n",
    "        if self.use_base_update:\n",
    "            base = self.base_conv(self.base_activation(x))\n",
    "            ret = ret + base\n",
    "        \n",
    "        return ret\n",
    "\n",
    "\n",
    "class SEBlock(nn.Module):\n",
    "    def __init__(self, in_channels, reduction=16):\n",
    "        super(SEBlock, self).__init__()\n",
    "        self.avg_pool = nn.AdaptiveAvgPool2d(1)\n",
    "        self.fc = nn.Sequential(\n",
    "            nn.Linear(in_channels, in_channels // reduction, bias=False),\n",
    "            nn.ReLU(inplace=True),\n",
    "            nn.Linear(in_channels // reduction, in_channels, bias=False),\n",
    "            nn.Sigmoid()\n",
    "        )\n",
    "\n",
    "    def forward(self, x):\n",
    "        b, c, _, _ = x.size()\n",
    "        y = self.avg_pool(x).view(b, c)\n",
    "        y = self.fc(y).view(b, c, 1, 1)\n",
    "        return x * y.expand_as(x)\n",
    "\n",
    "\n",
    "class ResidualBlock(nn.Module):\n",
    "    def __init__(self, in_ch, out_ch, stride=1):\n",
    "        super(ResidualBlock, self).__init__()\n",
    "        self.conv1 = nn.Conv2d(in_ch, out_ch, kernel_size=3, stride=stride, padding=1)\n",
    "        self.bn1 = nn.BatchNorm2d(out_ch)\n",
    "        self.conv2 = nn.Conv2d(out_ch, out_ch, kernel_size=3, stride=1, padding=1)\n",
    "        self.bn2 = nn.BatchNorm2d(out_ch)\n",
    "\n",
    "        self.shortcut = nn.Sequential()\n",
    "        if stride != 1 or in_ch != out_ch:\n",
    "            self.shortcut = nn.Sequential(\n",
    "                nn.Conv2d(in_ch, out_ch, kernel_size=1, stride=stride, padding=0),\n",
    "                nn.BatchNorm2d(out_ch)\n",
    "            )\n",
    "\n",
    "    def forward(self, x):\n",
    "        out = F.relu(self.bn1(self.conv1(x)))\n",
    "        out = self.bn2(self.conv2(out))\n",
    "        out += self.shortcut(x)\n",
    "        out = F.relu(out)\n",
    "        return out\n",
    "\n",
    "\n",
    "\n",
    "class ResEmoteNetKAN(nn.Module):\n",
    "    def __init__(self, dropout_rate=0.3):\n",
    "        super(ResEmoteNetKAN, self).__init__()\n",
    "        # Initial layers with gradual channel increase\n",
    "        self.conv1 = ConvKAN(1, 32, kernel_size=3, padding=1)\n",
    "        self.bn1 = nn.BatchNorm2d(32)\n",
    "        self.conv2 = FastKANConvLayer(32, 64, kernel_size=3, padding=1)\n",
    "        self.bn2 = nn.BatchNorm2d(64)\n",
    "        self.conv3 = FastKANConvLayer(64, 128, kernel_size=3, padding=1)  # Reduced from 128\n",
    "        self.bn3 = nn.BatchNorm2d(128)\n",
    "        \n",
    "        # SE blocks after each major block\n",
    "        self.se1 = SEBlock(128)\n",
    "        self.se2 = SEBlock(256)\n",
    "        self.se3 = SEBlock(512)\n",
    "        \n",
    "        # Modified residual blocks with smoother transitions\n",
    "        self.res_block1 = ResidualBlock(128, 256, stride=2)\n",
    "        self.res_block2 = ResidualBlock(256, 512, stride=2)\n",
    "        self.res_block3 = ResidualBlock(512, 1024, stride=2)  # Reduced from 1024\n",
    "        \n",
    "        # Global pooling\n",
    "        self.pool = nn.AdaptiveAvgPool2d((1, 1))\n",
    "        \n",
    "        # Modified KAN layers with batch norm and smoother transitions\n",
    "        self.kan_block1 = nn.Sequential(\n",
    "            FastKANLayer(1024, 512),\n",
    "            nn.BatchNorm1d(512),\n",
    "            nn.ReLU(),\n",
    "            nn.Dropout(dropout_rate)\n",
    "        )\n",
    "        \n",
    "        self.kan_block2 = nn.Sequential(\n",
    "            FastKANLayer(512, 256),\n",
    "            nn.BatchNorm1d(256),\n",
    "            nn.ReLU(),\n",
    "            nn.Dropout(dropout_rate)\n",
    "        )\n",
    "        \n",
    "        self.kan_block3 = nn.Sequential(\n",
    "            FastKANLayer(256, 128),\n",
    "            nn.BatchNorm1d(128),\n",
    "            nn.ReLU(),\n",
    "            nn.Dropout(dropout_rate)\n",
    "        )\n",
    "        \n",
    "        # Final classification layer with reduced complexity\n",
    "        self.classifier = FastKANLayer(128, 7)\n",
    "        \n",
    "        # Initialize weights\n",
    "        self._initialize_weights()\n",
    "    \n",
    "    def _initialize_weights(self):\n",
    "        for m in self.modules():\n",
    "            if isinstance(m, (nn.Conv2d, SplineConv2D)):\n",
    "                nn.init.kaiming_normal_(m.weight, mode='fan_out', nonlinearity='relu')\n",
    "                if m.bias is not None:\n",
    "                    nn.init.constant_(m.bias, 0)\n",
    "            elif isinstance(m, nn.BatchNorm2d):\n",
    "                nn.init.constant_(m.weight, 1)\n",
    "                nn.init.constant_(m.bias, 0)\n",
    "            elif isinstance(m, nn.Linear):\n",
    "                nn.init.normal_(m.weight, 0, 0.01)\n",
    "                if m.bias is not None:\n",
    "                    nn.init.constant_(m.bias, 0)\n",
    "\n",
    "    def forward(self, x):\n",
    "        # Initial convolutions with activation and pooling\n",
    "        x = F.relu(self.bn1(self.conv1(x)))\n",
    "        x = F.max_pool2d(x, 2)\n",
    "        \n",
    "        x = F.relu(self.bn2(self.conv2(x)))\n",
    "        x = F.max_pool2d(x, 2)\n",
    "        \n",
    "        x = F.relu(self.bn3(self.conv3(x)))\n",
    "        x = self.se1(x)\n",
    "        x = F.max_pool2d(x, 2)\n",
    "        \n",
    "        # Residual blocks with SE attention\n",
    "        x = self.res_block1(x)\n",
    "        x = self.se2(x)\n",
    "        \n",
    "        x = self.res_block2(x)\n",
    "        x = self.se3(x)\n",
    "        \n",
    "        x = self.res_block3(x)\n",
    "        \n",
    "        # Global pooling and flatten\n",
    "        x = self.pool(x)\n",
    "        x = x.view(x.size(0), -1)\n",
    "        \n",
    "        # KAN blocks with batch norm and dropout\n",
    "        x = self.kan_block1(x)\n",
    "        x = self.kan_block2(x)\n",
    "        x = self.kan_block3(x)\n",
    "        \n",
    "        # Final classification\n",
    "        x = self.classifier(x)\n",
    "        \n",
    "        return x"
   ]
  },
  {
   "cell_type": "code",
   "execution_count": 2,
   "id": "9533d283",
   "metadata": {
    "execution": {
     "iopub.execute_input": "2024-12-15T03:41:56.698886Z",
     "iopub.status.busy": "2024-12-15T03:41:56.698526Z",
     "iopub.status.idle": "2024-12-15T05:49:56.674094Z",
     "shell.execute_reply": "2024-12-15T05:49:56.673147Z"
    },
    "papermill": {
     "duration": 7680.541269,
     "end_time": "2024-12-15T05:49:57.236562",
     "exception": false,
     "start_time": "2024-12-15T03:41:56.695293",
     "status": "completed"
    },
    "tags": []
   },
   "outputs": [
    {
     "name": "stdout",
     "output_type": "stream",
     "text": [
      "Using cuda device\n",
      "Training set size: 28709\n",
      "Validation set size: 7178\n"
     ]
    },
    {
     "name": "stderr",
     "output_type": "stream",
     "text": [
      "Epoch 1/80 [Train]: 100%|██████████| 1795/1795 [01:26<00:00, 20.69it/s, loss=0.1103, acc=28.09%]\n",
      "Validation: 100%|██████████| 449/449 [00:17<00:00, 25.59it/s]\n"
     ]
    },
    {
     "name": "stdout",
     "output_type": "stream",
     "text": [
      "\n",
      "Epoch 1:\n",
      "Train Loss: 1.7636, Train Acc: 0.2809\n",
      "Val Loss: 1.6040, Val Acc: 0.3466\n"
     ]
    },
    {
     "name": "stderr",
     "output_type": "stream",
     "text": [
      "Epoch 2/80 [Train]: 100%|██████████| 1795/1795 [01:26<00:00, 20.85it/s, loss=0.1010, acc=36.18%]\n",
      "Validation: 100%|██████████| 449/449 [00:09<00:00, 46.18it/s]\n"
     ]
    },
    {
     "name": "stdout",
     "output_type": "stream",
     "text": [
      "\n",
      "Epoch 2:\n",
      "Train Loss: 1.6161, Train Acc: 0.3618\n",
      "Val Loss: 1.4973, Val Acc: 0.4154\n"
     ]
    },
    {
     "name": "stderr",
     "output_type": "stream",
     "text": [
      "Epoch 3/80 [Train]: 100%|██████████| 1795/1795 [01:25<00:00, 20.90it/s, loss=0.0972, acc=39.45%]\n",
      "Validation: 100%|██████████| 449/449 [00:09<00:00, 46.16it/s]\n"
     ]
    },
    {
     "name": "stdout",
     "output_type": "stream",
     "text": [
      "\n",
      "Epoch 3:\n",
      "Train Loss: 1.5548, Train Acc: 0.3945\n",
      "Val Loss: 1.4823, Val Acc: 0.4370\n"
     ]
    },
    {
     "name": "stderr",
     "output_type": "stream",
     "text": [
      "Epoch 4/80 [Train]: 100%|██████████| 1795/1795 [01:25<00:00, 20.97it/s, loss=0.0936, acc=42.23%]\n",
      "Validation: 100%|██████████| 449/449 [00:09<00:00, 46.08it/s]\n"
     ]
    },
    {
     "name": "stdout",
     "output_type": "stream",
     "text": [
      "\n",
      "Epoch 4:\n",
      "Train Loss: 1.4976, Train Acc: 0.4223\n",
      "Val Loss: 1.4387, Val Acc: 0.4668\n"
     ]
    },
    {
     "name": "stderr",
     "output_type": "stream",
     "text": [
      "Epoch 5/80 [Train]: 100%|██████████| 1795/1795 [01:25<00:00, 20.89it/s, loss=0.0910, acc=43.60%]\n",
      "Validation: 100%|██████████| 449/449 [00:10<00:00, 44.78it/s]\n"
     ]
    },
    {
     "name": "stdout",
     "output_type": "stream",
     "text": [
      "\n",
      "Epoch 5:\n",
      "Train Loss: 1.4559, Train Acc: 0.4360\n",
      "Val Loss: 1.3232, Val Acc: 0.4961\n"
     ]
    },
    {
     "name": "stderr",
     "output_type": "stream",
     "text": [
      "Epoch 6/80 [Train]: 100%|██████████| 1795/1795 [01:26<00:00, 20.78it/s, loss=0.0878, acc=45.75%]\n",
      "Validation: 100%|██████████| 449/449 [00:09<00:00, 45.41it/s]\n"
     ]
    },
    {
     "name": "stdout",
     "output_type": "stream",
     "text": [
      "\n",
      "Epoch 6:\n",
      "Train Loss: 1.4044, Train Acc: 0.4575\n",
      "Val Loss: 1.3285, Val Acc: 0.5047\n"
     ]
    },
    {
     "name": "stderr",
     "output_type": "stream",
     "text": [
      "Epoch 7/80 [Train]: 100%|██████████| 1795/1795 [01:26<00:00, 20.80it/s, loss=0.0866, acc=46.43%]\n",
      "Validation: 100%|██████████| 449/449 [00:09<00:00, 47.35it/s]\n"
     ]
    },
    {
     "name": "stdout",
     "output_type": "stream",
     "text": [
      "\n",
      "Epoch 7:\n",
      "Train Loss: 1.3855, Train Acc: 0.4643\n",
      "Val Loss: 1.3081, Val Acc: 0.4946\n",
      "No improvement for 1 epochs.\n"
     ]
    },
    {
     "name": "stderr",
     "output_type": "stream",
     "text": [
      "Epoch 8/80 [Train]: 100%|██████████| 1795/1795 [01:26<00:00, 20.71it/s, loss=0.0846, acc=47.84%]\n",
      "Validation: 100%|██████████| 449/449 [00:09<00:00, 46.98it/s]\n"
     ]
    },
    {
     "name": "stdout",
     "output_type": "stream",
     "text": [
      "\n",
      "Epoch 8:\n",
      "Train Loss: 1.3536, Train Acc: 0.4784\n",
      "Val Loss: 1.2914, Val Acc: 0.5078\n"
     ]
    },
    {
     "name": "stderr",
     "output_type": "stream",
     "text": [
      "Epoch 9/80 [Train]: 100%|██████████| 1795/1795 [01:27<00:00, 20.56it/s, loss=0.0830, acc=49.00%]\n",
      "Validation: 100%|██████████| 449/449 [00:09<00:00, 46.86it/s]\n"
     ]
    },
    {
     "name": "stdout",
     "output_type": "stream",
     "text": [
      "\n",
      "Epoch 9:\n",
      "Train Loss: 1.3269, Train Acc: 0.4900\n",
      "Val Loss: 1.2673, Val Acc: 0.5156\n"
     ]
    },
    {
     "name": "stderr",
     "output_type": "stream",
     "text": [
      "Epoch 10/80 [Train]: 100%|██████████| 1795/1795 [01:26<00:00, 20.71it/s, loss=0.0817, acc=49.59%]\n",
      "Validation: 100%|██████████| 449/449 [00:09<00:00, 46.60it/s]\n"
     ]
    },
    {
     "name": "stdout",
     "output_type": "stream",
     "text": [
      "\n",
      "Epoch 10:\n",
      "Train Loss: 1.3064, Train Acc: 0.4959\n",
      "Val Loss: 1.2423, Val Acc: 0.5266\n"
     ]
    },
    {
     "name": "stderr",
     "output_type": "stream",
     "text": [
      "Epoch 11/80 [Train]: 100%|██████████| 1795/1795 [01:26<00:00, 20.76it/s, loss=0.0803, acc=50.56%]\n",
      "Validation: 100%|██████████| 449/449 [00:09<00:00, 46.91it/s]\n"
     ]
    },
    {
     "name": "stdout",
     "output_type": "stream",
     "text": [
      "\n",
      "Epoch 11:\n",
      "Train Loss: 1.2849, Train Acc: 0.5056\n",
      "Val Loss: 1.2327, Val Acc: 0.5403\n"
     ]
    },
    {
     "name": "stderr",
     "output_type": "stream",
     "text": [
      "Epoch 12/80 [Train]: 100%|██████████| 1795/1795 [01:24<00:00, 21.14it/s, loss=0.0798, acc=51.10%]\n",
      "Validation: 100%|██████████| 449/449 [00:09<00:00, 47.64it/s]\n"
     ]
    },
    {
     "name": "stdout",
     "output_type": "stream",
     "text": [
      "\n",
      "Epoch 12:\n",
      "Train Loss: 1.2763, Train Acc: 0.5110\n",
      "Val Loss: 1.2302, Val Acc: 0.5368\n",
      "No improvement for 1 epochs.\n"
     ]
    },
    {
     "name": "stderr",
     "output_type": "stream",
     "text": [
      "Epoch 13/80 [Train]: 100%|██████████| 1795/1795 [01:25<00:00, 21.04it/s, loss=0.0789, acc=51.57%]\n",
      "Validation: 100%|██████████| 449/449 [00:09<00:00, 47.12it/s]\n"
     ]
    },
    {
     "name": "stdout",
     "output_type": "stream",
     "text": [
      "\n",
      "Epoch 13:\n",
      "Train Loss: 1.2620, Train Acc: 0.5157\n",
      "Val Loss: 1.2015, Val Acc: 0.5403\n",
      "No improvement for 2 epochs.\n"
     ]
    },
    {
     "name": "stderr",
     "output_type": "stream",
     "text": [
      "Epoch 14/80 [Train]: 100%|██████████| 1795/1795 [01:24<00:00, 21.13it/s, loss=0.0783, acc=52.24%]\n",
      "Validation: 100%|██████████| 449/449 [00:09<00:00, 47.63it/s]\n"
     ]
    },
    {
     "name": "stdout",
     "output_type": "stream",
     "text": [
      "\n",
      "Epoch 14:\n",
      "Train Loss: 1.2529, Train Acc: 0.5224\n",
      "Val Loss: 1.1568, Val Acc: 0.5550\n"
     ]
    },
    {
     "name": "stderr",
     "output_type": "stream",
     "text": [
      "Epoch 15/80 [Train]: 100%|██████████| 1795/1795 [01:25<00:00, 21.02it/s, loss=0.0771, acc=53.33%]\n",
      "Validation: 100%|██████████| 449/449 [00:09<00:00, 48.44it/s]\n"
     ]
    },
    {
     "name": "stdout",
     "output_type": "stream",
     "text": [
      "\n",
      "Epoch 15:\n",
      "Train Loss: 1.2329, Train Acc: 0.5333\n",
      "Val Loss: 1.2404, Val Acc: 0.5461\n",
      "No improvement for 1 epochs.\n"
     ]
    },
    {
     "name": "stderr",
     "output_type": "stream",
     "text": [
      "Epoch 16/80 [Train]: 100%|██████████| 1795/1795 [01:25<00:00, 21.09it/s, loss=0.0762, acc=54.00%]\n",
      "Validation: 100%|██████████| 449/449 [00:09<00:00, 46.58it/s]\n"
     ]
    },
    {
     "name": "stdout",
     "output_type": "stream",
     "text": [
      "\n",
      "Epoch 16:\n",
      "Train Loss: 1.2190, Train Acc: 0.5400\n",
      "Val Loss: 1.1855, Val Acc: 0.5550\n",
      "No improvement for 2 epochs.\n"
     ]
    },
    {
     "name": "stderr",
     "output_type": "stream",
     "text": [
      "Epoch 17/80 [Train]: 100%|██████████| 1795/1795 [01:24<00:00, 21.14it/s, loss=0.0756, acc=54.68%]\n",
      "Validation: 100%|██████████| 449/449 [00:09<00:00, 47.52it/s]\n"
     ]
    },
    {
     "name": "stdout",
     "output_type": "stream",
     "text": [
      "\n",
      "Epoch 17:\n",
      "Train Loss: 1.2091, Train Acc: 0.5468\n",
      "Val Loss: 1.1468, Val Acc: 0.5706\n"
     ]
    },
    {
     "name": "stderr",
     "output_type": "stream",
     "text": [
      "Epoch 18/80 [Train]: 100%|██████████| 1795/1795 [01:24<00:00, 21.32it/s, loss=0.0749, acc=55.02%]\n",
      "Validation: 100%|██████████| 449/449 [00:09<00:00, 46.03it/s]\n"
     ]
    },
    {
     "name": "stdout",
     "output_type": "stream",
     "text": [
      "\n",
      "Epoch 18:\n",
      "Train Loss: 1.1972, Train Acc: 0.5502\n",
      "Val Loss: 1.1532, Val Acc: 0.5787\n"
     ]
    },
    {
     "name": "stderr",
     "output_type": "stream",
     "text": [
      "Epoch 19/80 [Train]: 100%|██████████| 1795/1795 [01:24<00:00, 21.22it/s, loss=0.0744, acc=55.43%]\n",
      "Validation: 100%|██████████| 449/449 [00:09<00:00, 46.12it/s]\n"
     ]
    },
    {
     "name": "stdout",
     "output_type": "stream",
     "text": [
      "\n",
      "Epoch 19:\n",
      "Train Loss: 1.1903, Train Acc: 0.5543\n",
      "Val Loss: 1.1753, Val Acc: 0.5642\n",
      "No improvement for 1 epochs.\n"
     ]
    },
    {
     "name": "stderr",
     "output_type": "stream",
     "text": [
      "Epoch 20/80 [Train]: 100%|██████████| 1795/1795 [01:25<00:00, 21.06it/s, loss=0.0736, acc=55.94%]\n",
      "Validation: 100%|██████████| 449/449 [00:09<00:00, 47.17it/s]\n"
     ]
    },
    {
     "name": "stdout",
     "output_type": "stream",
     "text": [
      "\n",
      "Epoch 20:\n",
      "Train Loss: 1.1772, Train Acc: 0.5594\n",
      "Val Loss: 1.1378, Val Acc: 0.5761\n",
      "No improvement for 2 epochs.\n"
     ]
    },
    {
     "name": "stderr",
     "output_type": "stream",
     "text": [
      "Epoch 21/80 [Train]: 100%|██████████| 1795/1795 [01:25<00:00, 21.04it/s, loss=0.0728, acc=57.15%]\n",
      "Validation: 100%|██████████| 449/449 [00:09<00:00, 47.19it/s]\n"
     ]
    },
    {
     "name": "stdout",
     "output_type": "stream",
     "text": [
      "\n",
      "Epoch 21:\n",
      "Train Loss: 1.1642, Train Acc: 0.5715\n",
      "Val Loss: 1.1772, Val Acc: 0.5776\n",
      "No improvement for 3 epochs.\n"
     ]
    },
    {
     "name": "stderr",
     "output_type": "stream",
     "text": [
      "Epoch 22/80 [Train]: 100%|██████████| 1795/1795 [01:25<00:00, 21.06it/s, loss=0.0722, acc=56.75%]\n",
      "Validation: 100%|██████████| 449/449 [00:09<00:00, 47.79it/s]\n"
     ]
    },
    {
     "name": "stdout",
     "output_type": "stream",
     "text": [
      "\n",
      "Epoch 22:\n",
      "Train Loss: 1.1541, Train Acc: 0.5675\n",
      "Val Loss: 1.1752, Val Acc: 0.5736\n",
      "No improvement for 4 epochs.\n"
     ]
    },
    {
     "name": "stderr",
     "output_type": "stream",
     "text": [
      "Epoch 23/80 [Train]: 100%|██████████| 1795/1795 [01:25<00:00, 20.96it/s, loss=0.0718, acc=57.01%]\n",
      "Validation: 100%|██████████| 449/449 [00:09<00:00, 48.55it/s]\n"
     ]
    },
    {
     "name": "stdout",
     "output_type": "stream",
     "text": [
      "\n",
      "Epoch 23:\n",
      "Train Loss: 1.1489, Train Acc: 0.5701\n",
      "Val Loss: 1.1377, Val Acc: 0.5809\n"
     ]
    },
    {
     "name": "stderr",
     "output_type": "stream",
     "text": [
      "Epoch 24/80 [Train]: 100%|██████████| 1795/1795 [01:25<00:00, 21.09it/s, loss=0.0712, acc=57.45%]\n",
      "Validation: 100%|██████████| 449/449 [00:09<00:00, 46.79it/s]\n"
     ]
    },
    {
     "name": "stdout",
     "output_type": "stream",
     "text": [
      "\n",
      "Epoch 24:\n",
      "Train Loss: 1.1391, Train Acc: 0.5745\n",
      "Val Loss: 1.1528, Val Acc: 0.5738\n",
      "No improvement for 1 epochs.\n"
     ]
    },
    {
     "name": "stderr",
     "output_type": "stream",
     "text": [
      "Epoch 25/80 [Train]: 100%|██████████| 1795/1795 [01:25<00:00, 21.08it/s, loss=0.0702, acc=58.59%]\n",
      "Validation: 100%|██████████| 449/449 [00:10<00:00, 44.12it/s]\n"
     ]
    },
    {
     "name": "stdout",
     "output_type": "stream",
     "text": [
      "\n",
      "Epoch 25:\n",
      "Train Loss: 1.1221, Train Acc: 0.5859\n",
      "Val Loss: 1.1470, Val Acc: 0.5811\n"
     ]
    },
    {
     "name": "stderr",
     "output_type": "stream",
     "text": [
      "Epoch 26/80 [Train]: 100%|██████████| 1795/1795 [01:25<00:00, 21.05it/s, loss=0.0702, acc=58.45%]\n",
      "Validation: 100%|██████████| 449/449 [00:09<00:00, 46.99it/s]\n"
     ]
    },
    {
     "name": "stdout",
     "output_type": "stream",
     "text": [
      "\n",
      "Epoch 26:\n",
      "Train Loss: 1.1222, Train Acc: 0.5845\n",
      "Val Loss: 1.1252, Val Acc: 0.5830\n"
     ]
    },
    {
     "name": "stderr",
     "output_type": "stream",
     "text": [
      "Epoch 27/80 [Train]: 100%|██████████| 1795/1795 [01:25<00:00, 21.05it/s, loss=0.0703, acc=57.93%]\n",
      "Validation: 100%|██████████| 449/449 [00:09<00:00, 47.97it/s]\n"
     ]
    },
    {
     "name": "stdout",
     "output_type": "stream",
     "text": [
      "\n",
      "Epoch 27:\n",
      "Train Loss: 1.1236, Train Acc: 0.5793\n",
      "Val Loss: 1.0882, Val Acc: 0.5989\n"
     ]
    },
    {
     "name": "stderr",
     "output_type": "stream",
     "text": [
      "Epoch 28/80 [Train]: 100%|██████████| 1795/1795 [01:25<00:00, 20.98it/s, loss=0.0690, acc=59.11%]\n",
      "Validation: 100%|██████████| 449/449 [00:09<00:00, 47.17it/s]\n"
     ]
    },
    {
     "name": "stdout",
     "output_type": "stream",
     "text": [
      "\n",
      "Epoch 28:\n",
      "Train Loss: 1.1033, Train Acc: 0.5911\n",
      "Val Loss: 1.1015, Val Acc: 0.5988\n",
      "No improvement for 1 epochs.\n"
     ]
    },
    {
     "name": "stderr",
     "output_type": "stream",
     "text": [
      "Epoch 29/80 [Train]: 100%|██████████| 1795/1795 [01:25<00:00, 20.97it/s, loss=0.0687, acc=59.44%]\n",
      "Validation: 100%|██████████| 449/449 [00:09<00:00, 46.66it/s]\n"
     ]
    },
    {
     "name": "stdout",
     "output_type": "stream",
     "text": [
      "\n",
      "Epoch 29:\n",
      "Train Loss: 1.0984, Train Acc: 0.5944\n",
      "Val Loss: 1.1016, Val Acc: 0.6010\n"
     ]
    },
    {
     "name": "stderr",
     "output_type": "stream",
     "text": [
      "Epoch 30/80 [Train]: 100%|██████████| 1795/1795 [01:24<00:00, 21.19it/s, loss=0.0674, acc=60.13%]\n",
      "Validation: 100%|██████████| 449/449 [00:10<00:00, 44.50it/s]\n"
     ]
    },
    {
     "name": "stdout",
     "output_type": "stream",
     "text": [
      "\n",
      "Epoch 30:\n",
      "Train Loss: 1.0783, Train Acc: 0.6013\n",
      "Val Loss: 1.1219, Val Acc: 0.5997\n",
      "No improvement for 1 epochs.\n"
     ]
    },
    {
     "name": "stderr",
     "output_type": "stream",
     "text": [
      "Epoch 31/80 [Train]: 100%|██████████| 1795/1795 [01:25<00:00, 21.07it/s, loss=0.0670, acc=60.39%]\n",
      "Validation: 100%|██████████| 449/449 [00:09<00:00, 47.52it/s]\n"
     ]
    },
    {
     "name": "stdout",
     "output_type": "stream",
     "text": [
      "\n",
      "Epoch 31:\n",
      "Train Loss: 1.0715, Train Acc: 0.6039\n",
      "Val Loss: 1.1373, Val Acc: 0.5918\n",
      "No improvement for 2 epochs.\n"
     ]
    },
    {
     "name": "stderr",
     "output_type": "stream",
     "text": [
      "Epoch 32/80 [Train]: 100%|██████████| 1795/1795 [01:25<00:00, 21.11it/s, loss=0.0666, acc=60.85%]\n",
      "Validation: 100%|██████████| 449/449 [00:09<00:00, 48.35it/s]\n"
     ]
    },
    {
     "name": "stdout",
     "output_type": "stream",
     "text": [
      "\n",
      "Epoch 32:\n",
      "Train Loss: 1.0644, Train Acc: 0.6085\n",
      "Val Loss: 1.0662, Val Acc: 0.6135\n"
     ]
    },
    {
     "name": "stderr",
     "output_type": "stream",
     "text": [
      "Epoch 33/80 [Train]: 100%|██████████| 1795/1795 [01:23<00:00, 21.42it/s, loss=0.0659, acc=61.38%]\n",
      "Validation: 100%|██████████| 449/449 [00:09<00:00, 46.35it/s]\n"
     ]
    },
    {
     "name": "stdout",
     "output_type": "stream",
     "text": [
      "\n",
      "Epoch 33:\n",
      "Train Loss: 1.0533, Train Acc: 0.6138\n",
      "Val Loss: 1.0745, Val Acc: 0.6130\n",
      "No improvement for 1 epochs.\n"
     ]
    },
    {
     "name": "stderr",
     "output_type": "stream",
     "text": [
      "Epoch 34/80 [Train]: 100%|██████████| 1795/1795 [01:25<00:00, 21.03it/s, loss=0.0653, acc=61.49%]\n",
      "Validation: 100%|██████████| 449/449 [00:09<00:00, 48.03it/s]\n"
     ]
    },
    {
     "name": "stdout",
     "output_type": "stream",
     "text": [
      "\n",
      "Epoch 34:\n",
      "Train Loss: 1.0442, Train Acc: 0.6149\n",
      "Val Loss: 1.0850, Val Acc: 0.6110\n",
      "No improvement for 2 epochs.\n"
     ]
    },
    {
     "name": "stderr",
     "output_type": "stream",
     "text": [
      "Epoch 35/80 [Train]: 100%|██████████| 1795/1795 [01:25<00:00, 21.10it/s, loss=0.0651, acc=61.74%]\n",
      "Validation: 100%|██████████| 449/449 [00:09<00:00, 47.57it/s]\n"
     ]
    },
    {
     "name": "stdout",
     "output_type": "stream",
     "text": [
      "\n",
      "Epoch 35:\n",
      "Train Loss: 1.0417, Train Acc: 0.6174\n",
      "Val Loss: 1.0872, Val Acc: 0.5947\n",
      "No improvement for 3 epochs.\n"
     ]
    },
    {
     "name": "stderr",
     "output_type": "stream",
     "text": [
      "Epoch 36/80 [Train]: 100%|██████████| 1795/1795 [01:25<00:00, 21.04it/s, loss=0.0637, acc=62.32%]\n",
      "Validation: 100%|██████████| 449/449 [00:09<00:00, 47.88it/s]\n"
     ]
    },
    {
     "name": "stdout",
     "output_type": "stream",
     "text": [
      "\n",
      "Epoch 36:\n",
      "Train Loss: 1.0195, Train Acc: 0.6232\n",
      "Val Loss: 1.1084, Val Acc: 0.6076\n",
      "No improvement for 4 epochs.\n"
     ]
    },
    {
     "name": "stderr",
     "output_type": "stream",
     "text": [
      "Epoch 37/80 [Train]: 100%|██████████| 1795/1795 [01:24<00:00, 21.19it/s, loss=0.0636, acc=62.91%]\n",
      "Validation: 100%|██████████| 449/449 [00:09<00:00, 45.06it/s]\n"
     ]
    },
    {
     "name": "stdout",
     "output_type": "stream",
     "text": [
      "\n",
      "Epoch 37:\n",
      "Train Loss: 1.0171, Train Acc: 0.6291\n",
      "Val Loss: 1.1020, Val Acc: 0.6184\n"
     ]
    },
    {
     "name": "stderr",
     "output_type": "stream",
     "text": [
      "Epoch 38/80 [Train]: 100%|██████████| 1795/1795 [01:25<00:00, 20.93it/s, loss=0.0635, acc=62.91%]\n",
      "Validation: 100%|██████████| 449/449 [00:09<00:00, 48.29it/s]\n"
     ]
    },
    {
     "name": "stdout",
     "output_type": "stream",
     "text": [
      "\n",
      "Epoch 38:\n",
      "Train Loss: 1.0153, Train Acc: 0.6291\n",
      "Val Loss: 1.0504, Val Acc: 0.6199\n"
     ]
    },
    {
     "name": "stderr",
     "output_type": "stream",
     "text": [
      "Epoch 39/80 [Train]: 100%|██████████| 1795/1795 [01:27<00:00, 20.62it/s, loss=0.0626, acc=63.30%]\n",
      "Validation: 100%|██████████| 449/449 [00:09<00:00, 47.48it/s]\n"
     ]
    },
    {
     "name": "stdout",
     "output_type": "stream",
     "text": [
      "\n",
      "Epoch 39:\n",
      "Train Loss: 1.0011, Train Acc: 0.6330\n",
      "Val Loss: 1.1718, Val Acc: 0.5624\n",
      "No improvement for 1 epochs.\n"
     ]
    },
    {
     "name": "stderr",
     "output_type": "stream",
     "text": [
      "Epoch 40/80 [Train]: 100%|██████████| 1795/1795 [01:24<00:00, 21.13it/s, loss=0.0622, acc=63.11%]\n",
      "Validation: 100%|██████████| 449/449 [00:10<00:00, 44.02it/s]\n"
     ]
    },
    {
     "name": "stdout",
     "output_type": "stream",
     "text": [
      "\n",
      "Epoch 40:\n",
      "Train Loss: 0.9949, Train Acc: 0.6311\n",
      "Val Loss: 1.0338, Val Acc: 0.6128\n",
      "No improvement for 2 epochs.\n"
     ]
    },
    {
     "name": "stderr",
     "output_type": "stream",
     "text": [
      "Epoch 41/80 [Train]: 100%|██████████| 1795/1795 [01:25<00:00, 21.04it/s, loss=0.0612, acc=63.86%]\n",
      "Validation: 100%|██████████| 449/449 [00:09<00:00, 47.87it/s]\n"
     ]
    },
    {
     "name": "stdout",
     "output_type": "stream",
     "text": [
      "\n",
      "Epoch 41:\n",
      "Train Loss: 0.9794, Train Acc: 0.6386\n",
      "Val Loss: 1.0327, Val Acc: 0.6257\n"
     ]
    },
    {
     "name": "stderr",
     "output_type": "stream",
     "text": [
      "Epoch 42/80 [Train]: 100%|██████████| 1795/1795 [01:25<00:00, 20.96it/s, loss=0.0611, acc=64.29%]\n",
      "Validation: 100%|██████████| 449/449 [00:09<00:00, 46.57it/s]\n"
     ]
    },
    {
     "name": "stdout",
     "output_type": "stream",
     "text": [
      "\n",
      "Epoch 42:\n",
      "Train Loss: 0.9774, Train Acc: 0.6429\n",
      "Val Loss: 1.0658, Val Acc: 0.6186\n",
      "No improvement for 1 epochs.\n"
     ]
    },
    {
     "name": "stderr",
     "output_type": "stream",
     "text": [
      "Epoch 43/80 [Train]: 100%|██████████| 1795/1795 [01:25<00:00, 21.12it/s, loss=0.0605, acc=64.62%]\n",
      "Validation: 100%|██████████| 449/449 [00:09<00:00, 47.71it/s]\n"
     ]
    },
    {
     "name": "stdout",
     "output_type": "stream",
     "text": [
      "\n",
      "Epoch 43:\n",
      "Train Loss: 0.9683, Train Acc: 0.6462\n",
      "Val Loss: 1.0889, Val Acc: 0.6188\n",
      "No improvement for 2 epochs.\n"
     ]
    },
    {
     "name": "stderr",
     "output_type": "stream",
     "text": [
      "Epoch 44/80 [Train]: 100%|██████████| 1795/1795 [01:26<00:00, 20.81it/s, loss=0.0603, acc=64.71%]\n",
      "Validation: 100%|██████████| 449/449 [00:09<00:00, 48.96it/s]\n"
     ]
    },
    {
     "name": "stdout",
     "output_type": "stream",
     "text": [
      "\n",
      "Epoch 44:\n",
      "Train Loss: 0.9641, Train Acc: 0.6471\n",
      "Val Loss: 1.0935, Val Acc: 0.6190\n",
      "No improvement for 3 epochs.\n"
     ]
    },
    {
     "name": "stderr",
     "output_type": "stream",
     "text": [
      "Epoch 45/80 [Train]: 100%|██████████| 1795/1795 [01:25<00:00, 21.11it/s, loss=0.0594, acc=65.10%]\n",
      "Validation: 100%|██████████| 449/449 [00:10<00:00, 43.82it/s]\n"
     ]
    },
    {
     "name": "stdout",
     "output_type": "stream",
     "text": [
      "\n",
      "Epoch 45:\n",
      "Train Loss: 0.9502, Train Acc: 0.6510\n",
      "Val Loss: 1.0928, Val Acc: 0.6179\n",
      "No improvement for 4 epochs.\n"
     ]
    },
    {
     "name": "stderr",
     "output_type": "stream",
     "text": [
      "Epoch 46/80 [Train]: 100%|██████████| 1795/1795 [01:25<00:00, 20.92it/s, loss=0.0590, acc=65.33%]\n",
      "Validation: 100%|██████████| 449/449 [00:09<00:00, 47.62it/s]\n"
     ]
    },
    {
     "name": "stdout",
     "output_type": "stream",
     "text": [
      "\n",
      "Epoch 46:\n",
      "Train Loss: 0.9428, Train Acc: 0.6533\n",
      "Val Loss: 1.0720, Val Acc: 0.6188\n",
      "No improvement for 5 epochs.\n"
     ]
    },
    {
     "name": "stderr",
     "output_type": "stream",
     "text": [
      "Epoch 47/80 [Train]: 100%|██████████| 1795/1795 [01:25<00:00, 21.03it/s, loss=0.0585, acc=65.82%]\n",
      "Validation: 100%|██████████| 449/449 [00:09<00:00, 45.69it/s]\n"
     ]
    },
    {
     "name": "stdout",
     "output_type": "stream",
     "text": [
      "\n",
      "Epoch 47:\n",
      "Train Loss: 0.9358, Train Acc: 0.6582\n",
      "Val Loss: 1.0922, Val Acc: 0.6128\n",
      "No improvement for 6 epochs.\n"
     ]
    },
    {
     "name": "stderr",
     "output_type": "stream",
     "text": [
      "Epoch 48/80 [Train]: 100%|██████████| 1795/1795 [01:25<00:00, 21.03it/s, loss=0.0580, acc=66.25%]\n",
      "Validation: 100%|██████████| 449/449 [00:09<00:00, 45.69it/s]\n"
     ]
    },
    {
     "name": "stdout",
     "output_type": "stream",
     "text": [
      "\n",
      "Epoch 48:\n",
      "Train Loss: 0.9272, Train Acc: 0.6625\n",
      "Val Loss: 1.0789, Val Acc: 0.6247\n",
      "No improvement for 7 epochs.\n"
     ]
    },
    {
     "name": "stderr",
     "output_type": "stream",
     "text": [
      "Epoch 49/80 [Train]: 100%|██████████| 1795/1795 [01:25<00:00, 20.92it/s, loss=0.0575, acc=66.36%]\n",
      "Validation: 100%|██████████| 449/449 [00:09<00:00, 46.15it/s]\n"
     ]
    },
    {
     "name": "stdout",
     "output_type": "stream",
     "text": [
      "\n",
      "Epoch 49:\n",
      "Train Loss: 0.9199, Train Acc: 0.6636\n",
      "Val Loss: 1.0500, Val Acc: 0.6307\n"
     ]
    },
    {
     "name": "stderr",
     "output_type": "stream",
     "text": [
      "Epoch 50/80 [Train]: 100%|██████████| 1795/1795 [01:26<00:00, 20.83it/s, loss=0.0568, acc=67.13%]\n",
      "Validation: 100%|██████████| 449/449 [00:09<00:00, 46.70it/s]\n"
     ]
    },
    {
     "name": "stdout",
     "output_type": "stream",
     "text": [
      "\n",
      "Epoch 50:\n",
      "Train Loss: 0.9077, Train Acc: 0.6713\n",
      "Val Loss: 1.0442, Val Acc: 0.6259\n",
      "No improvement for 1 epochs.\n"
     ]
    },
    {
     "name": "stderr",
     "output_type": "stream",
     "text": [
      "Epoch 51/80 [Train]: 100%|██████████| 1795/1795 [01:24<00:00, 21.20it/s, loss=0.0566, acc=67.15%]\n",
      "Validation: 100%|██████████| 449/449 [00:09<00:00, 46.99it/s]\n"
     ]
    },
    {
     "name": "stdout",
     "output_type": "stream",
     "text": [
      "\n",
      "Epoch 51:\n",
      "Train Loss: 0.9057, Train Acc: 0.6715\n",
      "Val Loss: 1.0671, Val Acc: 0.6254\n",
      "No improvement for 2 epochs.\n"
     ]
    },
    {
     "name": "stderr",
     "output_type": "stream",
     "text": [
      "Epoch 52/80 [Train]: 100%|██████████| 1795/1795 [01:24<00:00, 21.22it/s, loss=0.0564, acc=67.28%]\n",
      "Validation: 100%|██████████| 449/449 [00:10<00:00, 42.13it/s]\n"
     ]
    },
    {
     "name": "stdout",
     "output_type": "stream",
     "text": [
      "\n",
      "Epoch 52:\n",
      "Train Loss: 0.9025, Train Acc: 0.6728\n",
      "Val Loss: 1.0707, Val Acc: 0.6223\n",
      "No improvement for 3 epochs.\n"
     ]
    },
    {
     "name": "stderr",
     "output_type": "stream",
     "text": [
      "Epoch 53/80 [Train]: 100%|██████████| 1795/1795 [01:25<00:00, 21.08it/s, loss=0.0554, acc=67.73%]\n",
      "Validation: 100%|██████████| 449/449 [00:09<00:00, 47.65it/s]\n"
     ]
    },
    {
     "name": "stdout",
     "output_type": "stream",
     "text": [
      "\n",
      "Epoch 53:\n",
      "Train Loss: 0.8855, Train Acc: 0.6773\n",
      "Val Loss: 1.0565, Val Acc: 0.6312\n"
     ]
    },
    {
     "name": "stderr",
     "output_type": "stream",
     "text": [
      "Epoch 54/80 [Train]: 100%|██████████| 1795/1795 [01:23<00:00, 21.39it/s, loss=0.0555, acc=68.14%]\n",
      "Validation: 100%|██████████| 449/449 [00:09<00:00, 49.03it/s]\n"
     ]
    },
    {
     "name": "stdout",
     "output_type": "stream",
     "text": [
      "\n",
      "Epoch 54:\n",
      "Train Loss: 0.8878, Train Acc: 0.6814\n",
      "Val Loss: 1.0454, Val Acc: 0.6347\n"
     ]
    },
    {
     "name": "stderr",
     "output_type": "stream",
     "text": [
      "Epoch 55/80 [Train]: 100%|██████████| 1795/1795 [01:25<00:00, 20.93it/s, loss=0.0548, acc=68.19%]\n",
      "Validation: 100%|██████████| 449/449 [00:09<00:00, 45.41it/s]\n"
     ]
    },
    {
     "name": "stdout",
     "output_type": "stream",
     "text": [
      "\n",
      "Epoch 55:\n",
      "Train Loss: 0.8759, Train Acc: 0.6819\n",
      "Val Loss: 1.0535, Val Acc: 0.6337\n",
      "No improvement for 1 epochs.\n"
     ]
    },
    {
     "name": "stderr",
     "output_type": "stream",
     "text": [
      "Epoch 56/80 [Train]: 100%|██████████| 1795/1795 [01:22<00:00, 21.64it/s, loss=0.0548, acc=68.34%]\n",
      "Validation: 100%|██████████| 449/449 [00:09<00:00, 49.22it/s]\n"
     ]
    },
    {
     "name": "stdout",
     "output_type": "stream",
     "text": [
      "\n",
      "Epoch 56:\n",
      "Train Loss: 0.8768, Train Acc: 0.6834\n",
      "Val Loss: 1.0357, Val Acc: 0.6362\n"
     ]
    },
    {
     "name": "stderr",
     "output_type": "stream",
     "text": [
      "Epoch 57/80 [Train]: 100%|██████████| 1795/1795 [01:24<00:00, 21.27it/s, loss=0.0538, acc=68.95%]\n",
      "Validation: 100%|██████████| 449/449 [00:09<00:00, 45.18it/s]\n"
     ]
    },
    {
     "name": "stdout",
     "output_type": "stream",
     "text": [
      "\n",
      "Epoch 57:\n",
      "Train Loss: 0.8601, Train Acc: 0.6895\n",
      "Val Loss: 1.0956, Val Acc: 0.6245\n",
      "No improvement for 1 epochs.\n"
     ]
    },
    {
     "name": "stderr",
     "output_type": "stream",
     "text": [
      "Epoch 58/80 [Train]: 100%|██████████| 1795/1795 [01:25<00:00, 20.99it/s, loss=0.0537, acc=68.89%]\n",
      "Validation: 100%|██████████| 449/449 [00:09<00:00, 47.89it/s]\n"
     ]
    },
    {
     "name": "stdout",
     "output_type": "stream",
     "text": [
      "\n",
      "Epoch 58:\n",
      "Train Loss: 0.8585, Train Acc: 0.6889\n",
      "Val Loss: 1.0427, Val Acc: 0.6290\n",
      "No improvement for 2 epochs.\n"
     ]
    },
    {
     "name": "stderr",
     "output_type": "stream",
     "text": [
      "Epoch 59/80 [Train]: 100%|██████████| 1795/1795 [01:24<00:00, 21.16it/s, loss=0.0532, acc=69.41%]\n",
      "Validation: 100%|██████████| 449/449 [00:09<00:00, 49.63it/s]\n"
     ]
    },
    {
     "name": "stdout",
     "output_type": "stream",
     "text": [
      "\n",
      "Epoch 59:\n",
      "Train Loss: 0.8511, Train Acc: 0.6941\n",
      "Val Loss: 1.0996, Val Acc: 0.6177\n",
      "No improvement for 3 epochs.\n"
     ]
    },
    {
     "name": "stderr",
     "output_type": "stream",
     "text": [
      "Epoch 60/80 [Train]: 100%|██████████| 1795/1795 [01:24<00:00, 21.18it/s, loss=0.0522, acc=69.75%]\n",
      "Validation: 100%|██████████| 449/449 [00:10<00:00, 42.93it/s]\n"
     ]
    },
    {
     "name": "stdout",
     "output_type": "stream",
     "text": [
      "\n",
      "Epoch 60:\n",
      "Train Loss: 0.8343, Train Acc: 0.6975\n",
      "Val Loss: 1.0584, Val Acc: 0.6333\n",
      "No improvement for 4 epochs.\n"
     ]
    },
    {
     "name": "stderr",
     "output_type": "stream",
     "text": [
      "Epoch 61/80 [Train]: 100%|██████████| 1795/1795 [01:24<00:00, 21.31it/s, loss=0.0518, acc=70.00%]\n",
      "Validation: 100%|██████████| 449/449 [00:09<00:00, 48.47it/s]\n"
     ]
    },
    {
     "name": "stdout",
     "output_type": "stream",
     "text": [
      "\n",
      "Epoch 61:\n",
      "Train Loss: 0.8281, Train Acc: 0.7000\n",
      "Val Loss: 1.1147, Val Acc: 0.6148\n",
      "No improvement for 5 epochs.\n"
     ]
    },
    {
     "name": "stderr",
     "output_type": "stream",
     "text": [
      "Epoch 62/80 [Train]: 100%|██████████| 1795/1795 [01:25<00:00, 20.93it/s, loss=0.0513, acc=70.25%]\n",
      "Validation: 100%|██████████| 449/449 [00:09<00:00, 48.09it/s]\n"
     ]
    },
    {
     "name": "stdout",
     "output_type": "stream",
     "text": [
      "\n",
      "Epoch 62:\n",
      "Train Loss: 0.8207, Train Acc: 0.7025\n",
      "Val Loss: 1.0665, Val Acc: 0.6310\n",
      "No improvement for 6 epochs.\n"
     ]
    },
    {
     "name": "stderr",
     "output_type": "stream",
     "text": [
      "Epoch 63/80 [Train]: 100%|██████████| 1795/1795 [01:25<00:00, 20.89it/s, loss=0.0507, acc=70.94%]\n",
      "Validation: 100%|██████████| 449/449 [00:09<00:00, 46.12it/s]\n"
     ]
    },
    {
     "name": "stdout",
     "output_type": "stream",
     "text": [
      "\n",
      "Epoch 63:\n",
      "Train Loss: 0.8107, Train Acc: 0.7094\n",
      "Val Loss: 1.0487, Val Acc: 0.6351\n",
      "No improvement for 7 epochs.\n"
     ]
    },
    {
     "name": "stderr",
     "output_type": "stream",
     "text": [
      "Epoch 64/80 [Train]: 100%|██████████| 1795/1795 [01:25<00:00, 20.98it/s, loss=0.0501, acc=71.35%]\n",
      "Validation: 100%|██████████| 449/449 [00:09<00:00, 48.70it/s]\n"
     ]
    },
    {
     "name": "stdout",
     "output_type": "stream",
     "text": [
      "\n",
      "Epoch 64:\n",
      "Train Loss: 0.8016, Train Acc: 0.7135\n",
      "Val Loss: 1.0650, Val Acc: 0.6400\n"
     ]
    },
    {
     "name": "stderr",
     "output_type": "stream",
     "text": [
      "Epoch 65/80 [Train]: 100%|██████████| 1795/1795 [01:24<00:00, 21.22it/s, loss=0.0496, acc=71.56%]\n",
      "Validation: 100%|██████████| 449/449 [00:09<00:00, 48.46it/s]\n"
     ]
    },
    {
     "name": "stdout",
     "output_type": "stream",
     "text": [
      "\n",
      "Epoch 65:\n",
      "Train Loss: 0.7926, Train Acc: 0.7156\n",
      "Val Loss: 1.1047, Val Acc: 0.6318\n",
      "No improvement for 1 epochs.\n"
     ]
    },
    {
     "name": "stderr",
     "output_type": "stream",
     "text": [
      "Epoch 66/80 [Train]: 100%|██████████| 1795/1795 [01:25<00:00, 20.99it/s, loss=0.0490, acc=71.99%]\n",
      "Validation: 100%|██████████| 449/449 [00:09<00:00, 48.64it/s]\n"
     ]
    },
    {
     "name": "stdout",
     "output_type": "stream",
     "text": [
      "\n",
      "Epoch 66:\n",
      "Train Loss: 0.7833, Train Acc: 0.7199\n",
      "Val Loss: 1.0798, Val Acc: 0.6333\n",
      "No improvement for 2 epochs.\n"
     ]
    },
    {
     "name": "stderr",
     "output_type": "stream",
     "text": [
      "Epoch 67/80 [Train]: 100%|██████████| 1795/1795 [01:25<00:00, 21.06it/s, loss=0.0491, acc=71.67%]\n",
      "Validation: 100%|██████████| 449/449 [00:09<00:00, 48.36it/s]\n"
     ]
    },
    {
     "name": "stdout",
     "output_type": "stream",
     "text": [
      "\n",
      "Epoch 67:\n",
      "Train Loss: 0.7855, Train Acc: 0.7167\n",
      "Val Loss: 1.0491, Val Acc: 0.6422\n"
     ]
    },
    {
     "name": "stderr",
     "output_type": "stream",
     "text": [
      "Epoch 68/80 [Train]: 100%|██████████| 1795/1795 [01:24<00:00, 21.12it/s, loss=0.0484, acc=72.33%]\n",
      "Validation: 100%|██████████| 449/449 [00:10<00:00, 44.24it/s]\n"
     ]
    },
    {
     "name": "stdout",
     "output_type": "stream",
     "text": [
      "\n",
      "Epoch 68:\n",
      "Train Loss: 0.7748, Train Acc: 0.7233\n",
      "Val Loss: 1.0847, Val Acc: 0.6389\n",
      "No improvement for 1 epochs.\n"
     ]
    },
    {
     "name": "stderr",
     "output_type": "stream",
     "text": [
      "Epoch 69/80 [Train]: 100%|██████████| 1795/1795 [01:27<00:00, 20.49it/s, loss=0.0480, acc=72.37%]\n",
      "Validation: 100%|██████████| 449/449 [00:09<00:00, 47.46it/s]\n"
     ]
    },
    {
     "name": "stdout",
     "output_type": "stream",
     "text": [
      "\n",
      "Epoch 69:\n",
      "Train Loss: 0.7675, Train Acc: 0.7237\n",
      "Val Loss: 1.0431, Val Acc: 0.6424\n"
     ]
    },
    {
     "name": "stderr",
     "output_type": "stream",
     "text": [
      "Epoch 70/80 [Train]: 100%|██████████| 1795/1795 [01:25<00:00, 21.06it/s, loss=0.0478, acc=72.86%]\n",
      "Validation: 100%|██████████| 449/449 [00:09<00:00, 47.76it/s]\n"
     ]
    },
    {
     "name": "stdout",
     "output_type": "stream",
     "text": [
      "\n",
      "Epoch 70:\n",
      "Train Loss: 0.7649, Train Acc: 0.7286\n",
      "Val Loss: 1.1051, Val Acc: 0.6388\n",
      "No improvement for 1 epochs.\n"
     ]
    },
    {
     "name": "stderr",
     "output_type": "stream",
     "text": [
      "Epoch 71/80 [Train]: 100%|██████████| 1795/1795 [01:25<00:00, 21.07it/s, loss=0.0468, acc=73.25%]\n",
      "Validation: 100%|██████████| 449/449 [00:10<00:00, 41.63it/s]\n"
     ]
    },
    {
     "name": "stdout",
     "output_type": "stream",
     "text": [
      "\n",
      "Epoch 71:\n",
      "Train Loss: 0.7493, Train Acc: 0.7325\n",
      "Val Loss: 1.1075, Val Acc: 0.6310\n",
      "No improvement for 2 epochs.\n"
     ]
    },
    {
     "name": "stderr",
     "output_type": "stream",
     "text": [
      "Epoch 72/80 [Train]: 100%|██████████| 1795/1795 [01:24<00:00, 21.17it/s, loss=0.0464, acc=73.71%]\n",
      "Validation: 100%|██████████| 449/449 [00:09<00:00, 48.12it/s]\n"
     ]
    },
    {
     "name": "stdout",
     "output_type": "stream",
     "text": [
      "\n",
      "Epoch 72:\n",
      "Train Loss: 0.7417, Train Acc: 0.7371\n",
      "Val Loss: 1.0983, Val Acc: 0.6372\n",
      "No improvement for 3 epochs.\n"
     ]
    },
    {
     "name": "stderr",
     "output_type": "stream",
     "text": [
      "Epoch 73/80 [Train]: 100%|██████████| 1795/1795 [01:24<00:00, 21.13it/s, loss=0.0461, acc=73.65%]\n",
      "Validation: 100%|██████████| 449/449 [00:10<00:00, 44.49it/s]\n"
     ]
    },
    {
     "name": "stdout",
     "output_type": "stream",
     "text": [
      "\n",
      "Epoch 73:\n",
      "Train Loss: 0.7373, Train Acc: 0.7365\n",
      "Val Loss: 1.0583, Val Acc: 0.6403\n",
      "No improvement for 4 epochs.\n"
     ]
    },
    {
     "name": "stderr",
     "output_type": "stream",
     "text": [
      "Epoch 74/80 [Train]: 100%|██████████| 1795/1795 [01:26<00:00, 20.86it/s, loss=0.0456, acc=74.08%]\n",
      "Validation: 100%|██████████| 449/449 [00:10<00:00, 41.78it/s]\n"
     ]
    },
    {
     "name": "stdout",
     "output_type": "stream",
     "text": [
      "\n",
      "Epoch 74:\n",
      "Train Loss: 0.7300, Train Acc: 0.7408\n",
      "Val Loss: 1.0601, Val Acc: 0.6470\n"
     ]
    },
    {
     "name": "stderr",
     "output_type": "stream",
     "text": [
      "Epoch 75/80 [Train]: 100%|██████████| 1795/1795 [01:24<00:00, 21.22it/s, loss=0.0451, acc=74.45%]\n",
      "Validation: 100%|██████████| 449/449 [00:09<00:00, 46.83it/s]\n"
     ]
    },
    {
     "name": "stdout",
     "output_type": "stream",
     "text": [
      "\n",
      "Epoch 75:\n",
      "Train Loss: 0.7206, Train Acc: 0.7445\n",
      "Val Loss: 1.0970, Val Acc: 0.6402\n",
      "No improvement for 1 epochs.\n"
     ]
    },
    {
     "name": "stderr",
     "output_type": "stream",
     "text": [
      "Epoch 76/80 [Train]: 100%|██████████| 1795/1795 [01:24<00:00, 21.16it/s, loss=0.0447, acc=74.80%]\n",
      "Validation: 100%|██████████| 449/449 [00:09<00:00, 47.06it/s]\n"
     ]
    },
    {
     "name": "stdout",
     "output_type": "stream",
     "text": [
      "\n",
      "Epoch 76:\n",
      "Train Loss: 0.7152, Train Acc: 0.7480\n",
      "Val Loss: 1.0375, Val Acc: 0.6527\n"
     ]
    },
    {
     "name": "stderr",
     "output_type": "stream",
     "text": [
      "Epoch 77/80 [Train]: 100%|██████████| 1795/1795 [01:25<00:00, 20.99it/s, loss=0.0442, acc=74.77%]\n",
      "Validation: 100%|██████████| 449/449 [00:10<00:00, 41.54it/s]\n"
     ]
    },
    {
     "name": "stdout",
     "output_type": "stream",
     "text": [
      "\n",
      "Epoch 77:\n",
      "Train Loss: 0.7067, Train Acc: 0.7477\n",
      "Val Loss: 1.0601, Val Acc: 0.6463\n",
      "No improvement for 1 epochs.\n"
     ]
    },
    {
     "name": "stderr",
     "output_type": "stream",
     "text": [
      "Epoch 78/80 [Train]: 100%|██████████| 1795/1795 [01:25<00:00, 21.11it/s, loss=0.0438, acc=75.24%]\n",
      "Validation: 100%|██████████| 449/449 [00:09<00:00, 47.76it/s]\n"
     ]
    },
    {
     "name": "stdout",
     "output_type": "stream",
     "text": [
      "\n",
      "Epoch 78:\n",
      "Train Loss: 0.7006, Train Acc: 0.7524\n",
      "Val Loss: 1.0796, Val Acc: 0.6361\n",
      "No improvement for 2 epochs.\n"
     ]
    },
    {
     "name": "stderr",
     "output_type": "stream",
     "text": [
      "Epoch 79/80 [Train]: 100%|██████████| 1795/1795 [01:25<00:00, 21.02it/s, loss=0.0431, acc=75.73%]\n",
      "Validation: 100%|██████████| 449/449 [00:09<00:00, 46.88it/s]\n"
     ]
    },
    {
     "name": "stdout",
     "output_type": "stream",
     "text": [
      "\n",
      "Epoch 79:\n",
      "Train Loss: 0.6898, Train Acc: 0.7573\n",
      "Val Loss: 1.0618, Val Acc: 0.6425\n",
      "No improvement for 3 epochs.\n"
     ]
    },
    {
     "name": "stderr",
     "output_type": "stream",
     "text": [
      "Epoch 80/80 [Train]: 100%|██████████| 1795/1795 [01:26<00:00, 20.74it/s, loss=0.0429, acc=75.78%]\n",
      "Validation: 100%|██████████| 449/449 [00:10<00:00, 41.39it/s]"
     ]
    },
    {
     "name": "stdout",
     "output_type": "stream",
     "text": [
      "\n",
      "Epoch 80:\n",
      "Train Loss: 0.6855, Train Acc: 0.7578\n",
      "Val Loss: 1.1459, Val Acc: 0.6149\n",
      "No improvement for 4 epochs.\n"
     ]
    },
    {
     "name": "stderr",
     "output_type": "stream",
     "text": [
      "\n"
     ]
    }
   ],
   "source": [
    "# Set device\n",
    "device = torch.device(\"cuda\" if torch.cuda.is_available() else \"cpu\")\n",
    "print(f\"Using {device} device\")\n",
    "\n",
    "# Define transforms\n",
    "train_transform = transforms.Compose([\n",
    "    transforms.Resize((48, 48)),  # Standard size for FER2013\n",
    "    transforms.Grayscale(num_output_channels=1),\n",
    "    transforms.RandomHorizontalFlip(),\n",
    "    transforms.RandomRotation(10),\n",
    "    transforms.RandomAffine(degrees=0, translate=(0.05, 0.05)),\n",
    "    transforms.ToTensor(),\n",
    "    transforms.Normalize([0.5], [0.5])  # Grayscale normalization\n",
    "])\n",
    "\n",
    "test_transform = transforms.Compose([\n",
    "    transforms.Resize((48, 48)),\n",
    "    transforms.Grayscale(num_output_channels=1),\n",
    "    transforms.ToTensor(),\n",
    "    transforms.Normalize([0.5], [0.5])\n",
    "])\n",
    "\n",
    "# Load datasets\n",
    "train_dataset = datasets.ImageFolder(\n",
    "    root='/kaggle/input/fer2013/train',\n",
    "    transform=train_transform\n",
    ")\n",
    "\n",
    "val_dataset = datasets.ImageFolder(\n",
    "    root='/kaggle/input/fer2013/test',  \n",
    "    transform=test_transform\n",
    ")\n",
    "\n",
    "BATCH_SIZE = 16\n",
    "\n",
    "# Create data loaders\n",
    "train_loader = DataLoader(\n",
    "    train_dataset,\n",
    "    batch_size=BATCH_SIZE,\n",
    "    shuffle=True,\n",
    "    num_workers=2,\n",
    "    pin_memory=True\n",
    ")\n",
    "\n",
    "val_loader = DataLoader(\n",
    "    val_dataset,\n",
    "    batch_size=BATCH_SIZE,\n",
    "    shuffle=False,\n",
    "    num_workers=2,\n",
    "    pin_memory=True\n",
    ")\n",
    "\n",
    "# Initialize model, criterion, and optimizer\n",
    "model = ResEmoteNetKAN().to(device)\n",
    "criterion = nn.CrossEntropyLoss()\n",
    "optimizer = optim.AdamW(model.parameters(), lr=0.001, weight_decay=1e-4)\n",
    "\n",
    "# Print dataset sizes\n",
    "print(f\"Training set size: {len(train_dataset)}\")\n",
    "print(f\"Validation set size: {len(val_dataset)}\")\n",
    "\n",
    "# Training parameters\n",
    "num_epochs = 80\n",
    "patience = 15\n",
    "best_val_acc = 0\n",
    "patience_counter = 0\n",
    "epoch_counter = 0\n",
    "\n",
    "# History tracking\n",
    "history = {\n",
    "    'train_loss': [], 'train_acc': [],\n",
    "    'val_loss': [], 'val_acc': []\n",
    "}\n",
    "\n",
    "# Training loop\n",
    "for epoch in range(num_epochs):\n",
    "    # Training phase\n",
    "    model.train()\n",
    "    train_loss = 0.0\n",
    "    train_correct = 0\n",
    "    train_total = 0\n",
    "    \n",
    "    pbar = tqdm(train_loader, desc=f'Epoch {epoch+1}/{num_epochs} [Train]')\n",
    "    for inputs, labels in pbar:\n",
    "        inputs, labels = inputs.to(device), labels.to(device)\n",
    "        \n",
    "        optimizer.zero_grad()\n",
    "        outputs = model(inputs)\n",
    "        loss = criterion(outputs, labels)\n",
    "        loss.backward()\n",
    "        optimizer.step()\n",
    "        \n",
    "        train_loss += loss.item()\n",
    "        _, predicted = outputs.max(1)\n",
    "        train_total += labels.size(0)\n",
    "        train_correct += predicted.eq(labels).sum().item()\n",
    "        \n",
    "        # Update progress bar\n",
    "        pbar.set_postfix({\n",
    "            'loss': f'{train_loss/train_total:.4f}',\n",
    "            'acc': f'{100.*train_correct/train_total:.2f}%'\n",
    "        })\n",
    "    \n",
    "    train_loss = train_loss / len(train_loader)\n",
    "    train_acc = train_correct / train_total\n",
    "    \n",
    "    # Validation phase\n",
    "    model.eval()\n",
    "    val_loss = 0.0\n",
    "    val_correct = 0\n",
    "    val_total = 0\n",
    "    \n",
    "    with torch.no_grad():\n",
    "        for inputs, labels in tqdm(val_loader, desc='Validation'):\n",
    "            inputs, labels = inputs.to(device), labels.to(device)\n",
    "            outputs = model(inputs)\n",
    "            loss = criterion(outputs, labels)\n",
    "            \n",
    "            val_loss += loss.item()\n",
    "            _, predicted = outputs.max(1)\n",
    "            val_total += labels.size(0)\n",
    "            val_correct += predicted.eq(labels).sum().item()\n",
    "    \n",
    "    val_loss = val_loss / len(val_loader)\n",
    "    val_acc = val_correct / val_total\n",
    "    \n",
    "    # Store history\n",
    "    history['train_loss'].append(train_loss)\n",
    "    history['train_acc'].append(train_acc)\n",
    "    history['val_loss'].append(val_loss)\n",
    "    history['val_acc'].append(val_acc)\n",
    "    \n",
    "    print(f'\\nEpoch {epoch+1}:')\n",
    "    print(f'Train Loss: {train_loss:.4f}, Train Acc: {train_acc:.4f}')\n",
    "    print(f'Val Loss: {val_loss:.4f}, Val Acc: {val_acc:.4f}')\n",
    "    \n",
    "    # Early stopping check\n",
    "    if val_acc > best_val_acc:\n",
    "        best_val_acc = val_acc\n",
    "        patience_counter = 0\n",
    "        # Save the best model\n",
    "        torch.save({\n",
    "            'epoch': epoch,\n",
    "            'model_state_dict': model.state_dict(),\n",
    "            'optimizer_state_dict': optimizer.state_dict(),\n",
    "            'best_val_acc': best_val_acc,\n",
    "        }, 'ResEmoteNetKAN_model.pth')\n",
    "    else:\n",
    "        patience_counter += 1\n",
    "        print(f'No improvement for {patience_counter} epochs.')\n",
    "        \n",
    "    if patience_counter >= patience:\n",
    "        print('Early stopping triggered.')\n",
    "        break\n",
    "    \n",
    "    epoch_counter += 1\n",
    "\n",
    "# Save final results\n",
    "num_epochs_completed = len(history['train_loss'])  # Menggunakan panjang aktual dari history\n",
    "results_df = pd.DataFrame({\n",
    "    'Epoch': range(1, num_epochs_completed + 1),\n",
    "    'Train Loss': history['train_loss'],\n",
    "    'Val Loss': history['val_loss'],\n",
    "    'Train Acc': history['train_acc'],\n",
    "    'Val Acc': history['val_acc']\n",
    "})\n",
    "results_df.to_csv('training_history.csv', index=False)"
   ]
  },
  {
   "cell_type": "code",
   "execution_count": 3,
   "id": "9d617356",
   "metadata": {
    "execution": {
     "iopub.execute_input": "2024-12-15T05:50:16.261090Z",
     "iopub.status.busy": "2024-12-15T05:50:16.260724Z",
     "iopub.status.idle": "2024-12-15T05:50:16.286923Z",
     "shell.execute_reply": "2024-12-15T05:50:16.286328Z"
    },
    "papermill": {
     "duration": 9.429884,
     "end_time": "2024-12-15T05:50:16.288742",
     "exception": false,
     "start_time": "2024-12-15T05:50:06.858858",
     "status": "completed"
    },
    "tags": []
   },
   "outputs": [],
   "source": [
    "import warnings\n",
    "warnings.filterwarnings('ignore')\n",
    "\n",
    "def convert_pth_to_pt(model_path, output_path='model.pt'):\n",
    "    \"\"\"\n",
    "    Convert .pth checkpoint to .pt format\n",
    "    \n",
    "    Args:\n",
    "        model_path (str): Path to the .pth checkpoint file\n",
    "        output_path (str): Path to save the .pt model file\n",
    "    Returns:\n",
    "        str: Path to saved .pt model\n",
    "    \"\"\"\n",
    "    try:\n",
    "        # Initialize model\n",
    "        model = ResEmoteNetKAN()\n",
    "        \n",
    "        # Load checkpoint\n",
    "        checkpoint = torch.load(model_path)\n",
    "        \n",
    "        # Load state dict\n",
    "        model.load_state_dict(checkpoint['model_state_dict'])\n",
    "        \n",
    "        # Set model to eval mode\n",
    "        model.eval()\n",
    "        \n",
    "        # Save model in .pt format\n",
    "        torch.save(model, output_path)\n",
    "        \n",
    "        print(f\"Successfully converted model to {output_path}\")\n",
    "        return output_path\n",
    "        \n",
    "    except Exception as e:\n",
    "        print(f\"Error converting model: {str(e)}\")\n",
    "        return None\n",
    "\n",
    "def convert_pth_to_ptl(model_path, output_path='model.ptl'):\n",
    "    \"\"\"\n",
    "    Convert .pth checkpoint to .ptl (PyTorch Lightning) format\n",
    "    \n",
    "    Args:\n",
    "        model_path (str): Path to the .pth checkpoint file\n",
    "        output_path (str): Path to save the .ptl model file\n",
    "    Returns:\n",
    "        str: Path to saved .ptl model\n",
    "    \"\"\"\n",
    "    try:\n",
    "        # Initialize model\n",
    "        model = ResEmoteNetKAN()\n",
    "        \n",
    "        # Load checkpoint\n",
    "        checkpoint = torch.load(model_path)\n",
    "        \n",
    "        # Create new state dict with Lightning compatible format\n",
    "        new_state_dict = {\n",
    "            'state_dict': checkpoint['model_state_dict'],\n",
    "            'epoch': checkpoint.get('epoch', 0),\n",
    "            'global_step': 0,\n",
    "            'pytorch-lightning_version': '2.0.0',\n",
    "            'callbacks': {},\n",
    "            'optimizer_states': [checkpoint.get('optimizer_state_dict', {})],\n",
    "            'lr_schedulers': [],\n",
    "            'hparams_name': 'ResEmoteNet',\n",
    "            'hyper_parameters': {\n",
    "                'learning_rate': 0.001,\n",
    "                'batch_size': 16,\n",
    "                'num_classes': 7\n",
    "            }\n",
    "        }\n",
    "        \n",
    "        # Save in Lightning format\n",
    "        torch.save(new_state_dict, output_path)\n",
    "        \n",
    "        print(f\"Successfully converted model to {output_path}\")\n",
    "        return output_path\n",
    "        \n",
    "    except Exception as e:\n",
    "        print(f\"Error converting model: {str(e)}\")\n",
    "        return None\n",
    "\n",
    "def convert_all_formats(model_path, base_output_name='model'):\n",
    "    \"\"\"\n",
    "    Convert .pth model to both .pt and .ptl formats\n",
    "    \n",
    "    Args:\n",
    "        model_path (str): Path to the .pth checkpoint file\n",
    "        base_output_name (str): Base name for output files\n",
    "    Returns:\n",
    "        tuple: Paths to saved .pt and .ptl models\n",
    "    \"\"\"\n",
    "    pt_path = f\"{base_output_name}.pt\"\n",
    "    ptl_path = f\"{base_output_name}.ptl\"\n",
    "    \n",
    "    pt_result = convert_pth_to_pt(model_path, pt_path)\n",
    "    ptl_result = convert_pth_to_ptl(model_path, ptl_path)\n",
    "    \n",
    "    return pt_result, ptl_result\n",
    "\n",
    "\n",
    "\n",
    "def plot_training_curves(history):\n",
    "    plt.style.use(\"seaborn-v0_8-whitegrid\")\n",
    "    fig, axes = plt.subplots(2, 2, figsize=(15, 10))\n",
    "    fig.suptitle('Model Training Analysis', fontsize=16, y=1.05)\n",
    "\n",
    "    # Loss curves\n",
    "    axes[0,0].plot(history['train_loss'], label='Training Loss', color='blue')\n",
    "    axes[0,0].plot(history['val_loss'], label='Validation Loss', color='red')\n",
    "    axes[0,0].set_title('Loss Curves')\n",
    "    axes[0,0].set_xlabel('Epoch')\n",
    "    axes[0,0].set_ylabel('Loss')\n",
    "    axes[0,0].legend()\n",
    "    axes[0,0].grid(True)\n",
    "\n",
    "    # Accuracy curves\n",
    "    axes[0,1].plot(history['train_acc'], label='Training Accuracy', color='blue')\n",
    "    axes[0,1].plot(history['val_acc'], label='Validation Accuracy', color='red')\n",
    "    axes[0,1].set_title('Accuracy Curves')\n",
    "    axes[0,1].set_xlabel('Epoch')\n",
    "    axes[0,1].set_ylabel('Accuracy')\n",
    "    axes[0,1].legend()\n",
    "    axes[0,1].grid(True)\n",
    "\n",
    "    # Learning curves (Training vs Validation Gap)\n",
    "    train_val_gap = np.array(history['train_acc']) - np.array(history['val_acc'])\n",
    "    axes[1,0].plot(train_val_gap, label='Train-Val Accuracy Gap', color='purple')\n",
    "    axes[1,0].set_title('Overfitting Analysis')\n",
    "    axes[1,0].set_xlabel('Epoch')\n",
    "    axes[1,0].set_ylabel('Accuracy Gap')\n",
    "    axes[1,0].axhline(y=0, color='r', linestyle='--', alpha=0.3)\n",
    "    axes[1,0].legend()\n",
    "    axes[1,0].grid(True)\n",
    "\n",
    "    # Learning Rate if available\n",
    "    if 'lr' in history:\n",
    "        axes[1,1].plot(history['lr'], label='Learning Rate', color='green')\n",
    "        axes[1,1].set_title('Learning Rate Schedule')\n",
    "        axes[1,1].set_xlabel('Epoch')\n",
    "        axes[1,1].set_ylabel('Learning Rate')\n",
    "        axes[1,1].set_yscale('log')\n",
    "        axes[1,1].legend()\n",
    "        axes[1,1].grid(True)\n",
    "    else:\n",
    "        fig.delaxes(axes[1,1])  # Better way to remove subplot\n",
    "\n",
    "    plt.tight_layout()\n",
    "    plt.savefig('training_curves.png', bbox_inches='tight', dpi=300)\n",
    "    plt.show()\n",
    "\n",
    "def evaluate_model(model, val_loader, device, class_names):\n",
    "\n",
    "    model.eval()\n",
    "    all_preds = []\n",
    "    all_labels = []\n",
    "    \n",
    "    try:\n",
    "        with torch.no_grad():\n",
    "            for inputs, labels in val_loader:\n",
    "                inputs, labels = inputs.to(device), labels.to(device)\n",
    "                outputs = model(inputs)\n",
    "                _, predicted = outputs.max(1)\n",
    "                \n",
    "                all_preds.extend(predicted.cpu().numpy())\n",
    "                all_labels.extend(labels.cpu().numpy())\n",
    "        \n",
    "        # Create confusion matrix\n",
    "        cm = confusion_matrix(all_labels, all_preds)\n",
    "        \n",
    "        # Plot confusion matrix\n",
    "        plt.figure(figsize=(12, 8))\n",
    "        sns.heatmap(cm, annot=True, fmt='d', cmap='Blues',\n",
    "                    xticklabels=class_names,\n",
    "                    yticklabels=class_names)\n",
    "        plt.title('Confusion Matrix')\n",
    "        plt.ylabel('True Label')\n",
    "        plt.xlabel('Predicted Label')\n",
    "        plt.xticks(rotation=45)\n",
    "        plt.yticks(rotation=45)\n",
    "        plt.tight_layout()\n",
    "        plt.savefig('confusion_matrix.png', bbox_inches='tight', dpi=300)\n",
    "        plt.show()\n",
    "        \n",
    "        # Print classification report\n",
    "        print(\"\\nClassification Report:\")\n",
    "        print(classification_report(all_labels, all_preds, target_names=class_names))\n",
    "        \n",
    "    except Exception as e:\n",
    "        print(f\"Error during evaluation: {str(e)}\")\n",
    "\n",
    "def plot_sample_predictions(model, val_loader, device, class_names, num_samples=5):\n",
    "\n",
    "    model.eval()\n",
    "    \n",
    "    try:\n",
    "        fig, axes = plt.subplots(2, num_samples, figsize=(20, 6))\n",
    "        \n",
    "        with torch.no_grad():\n",
    "            inputs, labels = next(iter(val_loader))\n",
    "            inputs, labels = inputs.to(device), labels.to(device)\n",
    "            outputs = model(inputs)\n",
    "            probabilities = torch.nn.functional.softmax(outputs, dim=1)\n",
    "            \n",
    "            for i in range(min(num_samples, len(inputs))):\n",
    "                # Plot image\n",
    "                img = inputs[i].cpu().permute(1, 2, 0)\n",
    "                img = img * torch.tensor([0.229, 0.224, 0.225]) + torch.tensor([0.485, 0.456, 0.406])\n",
    "                img = img.clip(0, 1)\n",
    "                \n",
    "                axes[0, i].imshow(img)\n",
    "                axes[0, i].axis('off')\n",
    "                true_label = class_names[labels[i]]\n",
    "                pred_label = class_names[outputs[i].argmax()]\n",
    "                axes[0, i].set_title(f'True: {true_label}\\nPred: {pred_label}',\n",
    "                                   color='green' if true_label == pred_label else 'red')\n",
    "                \n",
    "                # Plot probability distribution\n",
    "                probs = probabilities[i].cpu().numpy()\n",
    "                axes[1, i].bar(range(len(class_names)), probs)\n",
    "                axes[1, i].set_xticks(range(len(class_names)))\n",
    "                axes[1, i].set_xticklabels(class_names, rotation=45)\n",
    "                axes[1, i].set_ylim(0, 1)\n",
    "        \n",
    "        plt.tight_layout()\n",
    "        plt.savefig('sample_predictions.png', bbox_inches='tight', dpi=300)\n",
    "        plt.show()\n",
    "        \n",
    "    except Exception as e:\n",
    "        print(f\"Error plotting predictions: {str(e)}\")\n",
    "\n",
    "def print_parameter_details(model):\n",
    "    \"\"\"\n",
    "    Print model parameter details and total trainable parameters.\n",
    "    \n",
    "    Args:\n",
    "        model (torch.nn.Module): The model to analyze\n",
    "    \"\"\"\n",
    "    try:\n",
    "        total_params = 0\n",
    "        print(\"\\nModel Parameter Details:\")\n",
    "        print(\"-\" * 50)\n",
    "        for name, parameter in model.named_parameters():\n",
    "            if parameter.requires_grad:\n",
    "                params = parameter.numel()\n",
    "                total_params += params\n",
    "                print(f\"{name:<30} {params:>10,d}\")\n",
    "        print(\"-\" * 50)\n",
    "        print(f\"Total trainable parameters: {total_params:,}\")\n",
    "        \n",
    "    except Exception as e:\n",
    "        print(f\"Error analyzing parameters: {str(e)}\")"
   ]
  },
  {
   "cell_type": "code",
   "execution_count": 4,
   "id": "d1860ddb",
   "metadata": {
    "execution": {
     "iopub.execute_input": "2024-12-15T05:50:35.426258Z",
     "iopub.status.busy": "2024-12-15T05:50:35.425935Z",
     "iopub.status.idle": "2024-12-15T05:50:52.280618Z",
     "shell.execute_reply": "2024-12-15T05:50:52.279572Z"
    },
    "papermill": {
     "duration": 26.351209,
     "end_time": "2024-12-15T05:50:52.282568",
     "exception": false,
     "start_time": "2024-12-15T05:50:25.931359",
     "status": "completed"
    },
    "tags": []
   },
   "outputs": [
    {
     "name": "stdout",
     "output_type": "stream",
     "text": [
      "\n",
      "Model Parameter Details:\n",
      "--------------------------------------------------\n",
      "conv1.kan_layer.layernorm.weight          9\n",
      "conv1.kan_layer.layernorm.bias          9\n",
      "conv1.kan_layer.spline_linear.weight      2,304\n",
      "conv1.kan_layer.base_linear.weight        288\n",
      "conv1.kan_layer.base_linear.bias         32\n",
      "bn1.weight                             32\n",
      "bn1.bias                               32\n",
      "conv2.spline_conv.weight           73,728\n",
      "conv2.spline_conv.bias                 64\n",
      "conv2.base_conv.weight             18,432\n",
      "conv2.base_conv.bias                   64\n",
      "bn2.weight                             64\n",
      "bn2.bias                               64\n",
      "conv3.spline_conv.weight          294,912\n",
      "conv3.spline_conv.bias                128\n",
      "conv3.base_conv.weight             73,728\n",
      "conv3.base_conv.bias                  128\n",
      "bn3.weight                            128\n",
      "bn3.bias                              128\n",
      "se1.fc.0.weight                     1,024\n",
      "se1.fc.2.weight                     1,024\n",
      "se2.fc.0.weight                     4,096\n",
      "se2.fc.2.weight                     4,096\n",
      "se3.fc.0.weight                    16,384\n",
      "se3.fc.2.weight                    16,384\n",
      "res_block1.conv1.weight           294,912\n",
      "res_block1.conv1.bias                 256\n",
      "res_block1.bn1.weight                 256\n",
      "res_block1.bn1.bias                   256\n",
      "res_block1.conv2.weight           589,824\n",
      "res_block1.conv2.bias                 256\n",
      "res_block1.bn2.weight                 256\n",
      "res_block1.bn2.bias                   256\n",
      "res_block1.shortcut.0.weight       32,768\n",
      "res_block1.shortcut.0.bias            256\n",
      "res_block1.shortcut.1.weight          256\n",
      "res_block1.shortcut.1.bias            256\n",
      "res_block2.conv1.weight         1,179,648\n",
      "res_block2.conv1.bias                 512\n",
      "res_block2.bn1.weight                 512\n",
      "res_block2.bn1.bias                   512\n",
      "res_block2.conv2.weight         2,359,296\n",
      "res_block2.conv2.bias                 512\n",
      "res_block2.bn2.weight                 512\n",
      "res_block2.bn2.bias                   512\n",
      "res_block2.shortcut.0.weight      131,072\n",
      "res_block2.shortcut.0.bias            512\n",
      "res_block2.shortcut.1.weight          512\n",
      "res_block2.shortcut.1.bias            512\n",
      "res_block3.conv1.weight         4,718,592\n",
      "res_block3.conv1.bias               1,024\n",
      "res_block3.bn1.weight               1,024\n",
      "res_block3.bn1.bias                 1,024\n",
      "res_block3.conv2.weight         9,437,184\n",
      "res_block3.conv2.bias               1,024\n",
      "res_block3.bn2.weight               1,024\n",
      "res_block3.bn2.bias                 1,024\n",
      "res_block3.shortcut.0.weight      524,288\n",
      "res_block3.shortcut.0.bias          1,024\n",
      "res_block3.shortcut.1.weight        1,024\n",
      "res_block3.shortcut.1.bias          1,024\n",
      "kan_block1.0.layernorm.weight       1,024\n",
      "kan_block1.0.layernorm.bias         1,024\n",
      "kan_block1.0.spline_linear.weight  4,194,304\n",
      "kan_block1.0.base_linear.weight    524,288\n",
      "kan_block1.0.base_linear.bias         512\n",
      "kan_block1.1.weight                   512\n",
      "kan_block1.1.bias                     512\n",
      "kan_block2.0.layernorm.weight         512\n",
      "kan_block2.0.layernorm.bias           512\n",
      "kan_block2.0.spline_linear.weight  1,048,576\n",
      "kan_block2.0.base_linear.weight    131,072\n",
      "kan_block2.0.base_linear.bias         256\n",
      "kan_block2.1.weight                   256\n",
      "kan_block2.1.bias                     256\n",
      "kan_block3.0.layernorm.weight         256\n",
      "kan_block3.0.layernorm.bias           256\n",
      "kan_block3.0.spline_linear.weight    262,144\n",
      "kan_block3.0.base_linear.weight     32,768\n",
      "kan_block3.0.base_linear.bias         128\n",
      "kan_block3.1.weight                   128\n",
      "kan_block3.1.bias                     128\n",
      "classifier.layernorm.weight           128\n",
      "classifier.layernorm.bias             128\n",
      "classifier.spline_linear.weight      7,168\n",
      "classifier.base_linear.weight         896\n",
      "classifier.base_linear.bias             7\n",
      "--------------------------------------------------\n",
      "Total trainable parameters: 25,998,745\n",
      "Successfully converted model to ResEmoteNetKAN.pt\n",
      "Successfully converted model to ResEmoteNetKAN.ptl\n"
     ]
    },
    {
     "data": {
      "image/png": "[encoded data removed]",
      "text/plain": [
       "<Figure size 1500x1000 with 3 Axes>"
      ]
     },
     "metadata": {},
     "output_type": "display_data"
    },
    {
     "data": {
      "image/png": "[encoded data removed]",
      "text/plain": [
       "<Figure size 1200x800 with 2 Axes>"
      ]
     },
     "metadata": {},
     "output_type": "display_data"
    },
    {
     "name": "stdout",
     "output_type": "stream",
     "text": [
      "\n",
      "Classification Report:\n",
      "              precision    recall  f1-score   support\n",
      "\n",
      "       Angry       0.60      0.49      0.54       958\n",
      "     Disgust       0.52      0.60      0.56       111\n",
      "        Fear       0.38      0.59      0.46      1024\n",
      "       Happy       0.83      0.87      0.85      1774\n",
      "         Sad       0.64      0.54      0.59      1233\n",
      "    Surprise       0.50      0.53      0.52      1247\n",
      "     Neutral       0.86      0.48      0.62       831\n",
      "\n",
      "    accuracy                           0.61      7178\n",
      "   macro avg       0.62      0.59      0.59      7178\n",
      "weighted avg       0.64      0.61      0.62      7178\n",
      "\n"
     ]
    },
    {
     "data": {
      "image/png": "[encoded data removed]",
      "text/plain": [
       "<Figure size 2000x600 with 10 Axes>"
      ]
     },
     "metadata": {},
     "output_type": "display_data"
    }
   ],
   "source": [
    "print_parameter_details(model)\n",
    "\n",
    "pt_path, ptl_path = convert_all_formats('ResEmoteNetKAN_model.pth', 'ResEmoteNetKAN')\n",
    "\n",
    "plot_training_curves(history)\n",
    "\n",
    "# Definisikan nama kelas sesuai dengan dataset FER2013\n",
    "class_names = ['Angry', 'Disgust', 'Fear', 'Happy', 'Sad', 'Surprise', 'Neutral']\n",
    "\n",
    "# Evaluasi model dan tampilkan confusion matrix\n",
    "evaluate_model(model, val_loader, device, class_names)\n",
    "\n",
    "# Tampilkan contoh prediksi\n",
    "plot_sample_predictions(model, val_loader, device, class_names)"
   ]
  }
 ],
 "metadata": {
  "kaggle": {
   "accelerator": "gpu",
   "dataSources": [
    {
     "datasetId": 786787,
     "sourceId": 1351797,
     "sourceType": "datasetVersion"
    }
   ],
   "dockerImageVersionId": 30804,
   "isGpuEnabled": true,
   "isInternetEnabled": true,
   "language": "python",
   "sourceType": "notebook"
  },
  "kernelspec": {
   "display_name": "Python 3",
   "language": "python",
   "name": "python3"
  },
  "language_info": {
   "codemirror_mode": {
    "name": "ipython",
    "version": 3
   },
   "file_extension": ".py",
   "mimetype": "text/x-python",
   "name": "python",
   "nbconvert_exporter": "python",
   "pygments_lexer": "ipython3",
   "version": "3.10.14"
  },
  "papermill": {
   "default_parameters": {},
   "duration": 7756.753196,
   "end_time": "2024-12-15T05:51:04.432904",
   "environment_variables": {},
   "exception": null,
   "input_path": "__notebook__.ipynb",
   "output_path": "__notebook__.ipynb",
   "parameters": {},
   "start_time": "2024-12-15T03:41:47.679708",
   "version": "2.6.0"
  }
 },
 "nbformat": 4,
 "nbformat_minor": 5
}
